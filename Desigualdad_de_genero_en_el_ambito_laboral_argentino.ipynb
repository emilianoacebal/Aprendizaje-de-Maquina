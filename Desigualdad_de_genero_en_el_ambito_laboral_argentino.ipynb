{
  "nbformat": 4,
  "nbformat_minor": 0,
  "metadata": {
    "colab": {
      "name": "Desigualdad-de-genero-en-el-ambito-laboral-argentino.ipynb",
      "provenance": [],
      "collapsed_sections": [],
      "toc_visible": true,
      "authorship_tag": "ABX9TyN9AnX/je0SKlKsJHnJhhAc",
      "include_colab_link": true
    },
    "kernelspec": {
      "name": "python3",
      "display_name": "Python 3"
    },
    "language_info": {
      "name": "python"
    }
  },
  "cells": [
    {
      "cell_type": "markdown",
      "metadata": {
        "id": "view-in-github",
        "colab_type": "text"
      },
      "source": [
        "<a href=\"https://colab.research.google.com/github/emilianoacebal/Aprendizaje-de-Maquina/blob/master/Desigualdad_de_genero_en_el_ambito_laboral_argentino.ipynb\" target=\"_parent\"><img src=\"https://colab.research.google.com/assets/colab-badge.svg\" alt=\"Open In Colab\"/></a>"
      ]
    },
    {
      "cell_type": "markdown",
      "metadata": {
        "id": "qTTif1ik1Qvt"
      },
      "source": [
        "# **Desigualdad de género en el ámbito laboral argentino**\n",
        "\n",
        "El objetivo de este proyecto es describir las disparidades entre géneros expresados en la ultima Encuesta Nacional a trabajadores sobre Condiciones de Empleo, Trabajo, Salud y Seguridad (ECETSS 2018).\n",
        "\n",
        "Cada registro del dataset expresa una encuesta tomada en la casa de cada uno de los 8966 trabajadores. Información complementaria: [link](https://www.argentina.gob.ar/srt/observatorio-srt/encuestas-salud-trabajo/ECETSS-2018)\n",
        "\n",
        "Los resultados de la encuesta se encuentran en el archivo .[CSV](https://github.com/manlio99/Materia-de-aprendizaje/blob/master/3_MidtermProjects/trabajadores/ecetss_ocupados.csv) y la  guia de valores y atributos se encuentra en el archivo .[XLSX](https://github.com/manlio99/Materia-de-aprendizaje/blob/master/3_MidtermProjects/trabajadores/ECETSS_Dise%C3%B1o_registro.xlsx)"
      ]
    },
    {
      "cell_type": "code",
      "metadata": {
        "colab": {
          "base_uri": "https://localhost:8080/"
        },
        "id": "pLYcIGNG8uG6",
        "outputId": "32881291-e6fd-4b96-edb3-46373b2ca985"
      },
      "source": [
        "import pandas as pd\n",
        "import numpy as np\n",
        "dataroot = \"https://raw.githubusercontent.com/manlio99/Materia-de-aprendizaje/master/3_MidtermProjects/trabajadores/ecetss_ocupados.csv\"\n",
        "df = pd.read_csv(dataroot)\n",
        "df.head"
      ],
      "execution_count": 1,
      "outputs": [
        {
          "output_type": "execute_result",
          "data": {
            "text/plain": [
              "<bound method NDFrame.head of          codmuestra  hogar  region  ...  edad_0a5  edad_6a11  edad_12a17\n",
              "0     002-0001-0009      1      10  ...         1          1           1\n",
              "1     002-0001-0012      1      10  ...         1          1           1\n",
              "2     002-0001-0013      1      10  ...         1          2           1\n",
              "3     002-0001-0015      1      10  ...         1          1           1\n",
              "4     002-0001-0017      1      10  ...         1          1           1\n",
              "...             ...    ...     ...  ...       ...        ...         ...\n",
              "8961  584-0090-0157      1      44  ...         1          1           1\n",
              "8962  584-0090-0248      1      44  ...         1          1           2\n",
              "8963  584-0090-0278      1      44  ...         1          1           1\n",
              "8964  584-0090-0309      1      44  ...         1          1           1\n",
              "8965  584-0090-0339      1      44  ...         1          1           1\n",
              "\n",
              "[8966 rows x 373 columns]>"
            ]
          },
          "metadata": {},
          "execution_count": 1
        }
      ]
    },
    {
      "cell_type": "code",
      "source": [
        "import warnings\n",
        "warnings.filterwarnings(\"ignore\")"
      ],
      "metadata": {
        "id": "xjbAEr74RFDR"
      },
      "execution_count": 2,
      "outputs": []
    },
    {
      "cell_type": "markdown",
      "metadata": {
        "id": "s-zNwfFd9FDW"
      },
      "source": [
        "Como vemos contamos con más de 350 atributos. Mi idea es ir tomando atributos aislados para analizar distintos casos de desigualdad. \n",
        "\n",
        "## **Ingresos último mes**\n",
        "\n",
        "Comenzaremos analizando el atributo \"ingreso_op\" que corresponde al ingreso en bolsillo del mes anterior a realizar la encuesta."
      ]
    },
    {
      "cell_type": "code",
      "metadata": {
        "colab": {
          "base_uri": "https://localhost:8080/"
        },
        "id": "FI4-XltH9E3e",
        "outputId": "066855df-7450-4c36-ad8b-67185e84c1df"
      },
      "source": [
        "df['ingreso_op'].describe()"
      ],
      "execution_count": 3,
      "outputs": [
        {
          "output_type": "execute_result",
          "data": {
            "text/plain": [
              "count      8966.000000\n",
              "mean      15689.244033\n",
              "std       18168.446975\n",
              "min         -99.000000\n",
              "25%        4000.000000\n",
              "50%       12000.000000\n",
              "75%       22000.000000\n",
              "max      600000.000000\n",
              "Name: ingreso_op, dtype: float64"
            ]
          },
          "metadata": {},
          "execution_count": 3
        }
      ]
    },
    {
      "cell_type": "markdown",
      "metadata": {
        "id": "EoBltqcwxiCg"
      },
      "source": [
        "Hay que retirar los registros con valor igual a -99 que son valores nulos donde no se informó el ingreso."
      ]
    },
    {
      "cell_type": "code",
      "metadata": {
        "id": "YRUAetjf9E0c",
        "colab": {
          "base_uri": "https://localhost:8080/"
        },
        "outputId": "f62312bc-446b-4447-c862-a8e795134f7c"
      },
      "source": [
        "df = df[df.ingreso_op != -99]\n",
        "df['ingreso_op'].describe()"
      ],
      "execution_count": 4,
      "outputs": [
        {
          "output_type": "execute_result",
          "data": {
            "text/plain": [
              "count      7845.000000\n",
              "mean      17945.282473\n",
              "std       18345.374963\n",
              "min           0.000000\n",
              "25%        7000.000000\n",
              "50%       15000.000000\n",
              "75%       24000.000000\n",
              "max      600000.000000\n",
              "Name: ingreso_op, dtype: float64"
            ]
          },
          "metadata": {},
          "execution_count": 4
        }
      ]
    },
    {
      "cell_type": "code",
      "source": [
        "df[df.ingreso_op == 0]['C3P16.1'].value_counts()"
      ],
      "metadata": {
        "colab": {
          "base_uri": "https://localhost:8080/"
        },
        "id": "qJbrrQTZEOsB",
        "outputId": "4e68b882-0fc1-4d99-9a55-3f261cf20ee2"
      },
      "execution_count": 5,
      "outputs": [
        {
          "output_type": "execute_result",
          "data": {
            "text/plain": [
              "2    36\n",
              "1    19\n",
              "Name: C3P16.1, dtype: int64"
            ]
          },
          "metadata": {},
          "execution_count": 5
        }
      ]
    },
    {
      "cell_type": "markdown",
      "source": [
        "Además, tenemos 55 valores con ingreso reportado igual a cero. Como no representan un número significativo respecto del total (0.7%), nos desprenderemos de ellos."
      ],
      "metadata": {
        "id": "gaE5Nxv-EVvG"
      }
    },
    {
      "cell_type": "code",
      "source": [
        "df = df[df.ingreso_op != 0]\n",
        "df['ingreso_op'].describe()"
      ],
      "metadata": {
        "colab": {
          "base_uri": "https://localhost:8080/"
        },
        "id": "zrEGycJZE60p",
        "outputId": "5a1618c7-c2a6-454a-fd7d-092e82942e76"
      },
      "execution_count": 6,
      "outputs": [
        {
          "output_type": "execute_result",
          "data": {
            "text/plain": [
              "count      7790.000000\n",
              "mean      18071.982157\n",
              "std       18347.731582\n",
              "min         100.000000\n",
              "25%        7000.000000\n",
              "50%       15000.000000\n",
              "75%       24000.000000\n",
              "max      600000.000000\n",
              "Name: ingreso_op, dtype: float64"
            ]
          },
          "metadata": {},
          "execution_count": 6
        }
      ]
    },
    {
      "cell_type": "markdown",
      "metadata": {
        "id": "R6o9J-MszvQn"
      },
      "source": [
        "Me interesa ahora ver las distribuciones de salario para ambos géneros. Para eso incluyo en el análisis el atributo \"C3P16.1\" el cual me distingue entre sexos.\n",
        "\n",
        "1 = Varón\n",
        "\n",
        "2 = Mujer"
      ]
    },
    {
      "cell_type": "code",
      "metadata": {
        "id": "7-MT7ty_9EvN",
        "colab": {
          "base_uri": "https://localhost:8080/",
          "height": 333
        },
        "outputId": "bc940a59-34b6-4949-d5b6-793dc2c0769d"
      },
      "source": [
        "df.hist(column = ['C3P16.1'])\n",
        "df['C3P16.1'].value_counts()"
      ],
      "execution_count": 7,
      "outputs": [
        {
          "output_type": "execute_result",
          "data": {
            "text/plain": [
              "1    4428\n",
              "2    3362\n",
              "Name: C3P16.1, dtype: int64"
            ]
          },
          "metadata": {},
          "execution_count": 7
        },
        {
          "output_type": "display_data",
          "data": {
            "image/png": "[encoded data removed]",
            "text/plain": [
              "<Figure size 432x288 with 1 Axes>"
            ]
          },
          "metadata": {
            "needs_background": "light"
          }
        }
      ]
    },
    {
      "cell_type": "markdown",
      "metadata": {
        "id": "npz_FKVK2IIM"
      },
      "source": [
        "Vemos que contamos con 4428 varones y 3362 mujeres, y no hay valores nulos en este atributo. Realicemos ahora las distribuciones de ingresos para cada sexo."
      ]
    },
    {
      "cell_type": "code",
      "metadata": {
        "id": "q0UZNMqy9Ep_",
        "colab": {
          "base_uri": "https://localhost:8080/",
          "height": 300
        },
        "outputId": "d8faa356-a6f1-4010-bd5c-69ef67ef3a0b"
      },
      "source": [
        "df_ingresos = df[[\"C3P16.1\", \"ingreso_op\"]]\n",
        "df_ingresos_V = df_ingresos[df_ingresos['C3P16.1'] == 1]\n",
        "df_ingresos_M = df_ingresos[df_ingresos['C3P16.1'] == 2]\n",
        "df_ingresos.describe()"
      ],
      "execution_count": 8,
      "outputs": [
        {
          "output_type": "execute_result",
          "data": {
            "text/html": [
              "<div>\n",
              "<style scoped>\n",
              "    .dataframe tbody tr th:only-of-type {\n",
              "        vertical-align: middle;\n",
              "    }\n",
              "\n",
              "    .dataframe tbody tr th {\n",
              "        vertical-align: top;\n",
              "    }\n",
              "\n",
              "    .dataframe thead th {\n",
              "        text-align: right;\n",
              "    }\n",
              "</style>\n",
              "<table border=\"1\" class=\"dataframe\">\n",
              "  <thead>\n",
              "    <tr style=\"text-align: right;\">\n",
              "      <th></th>\n",
              "      <th>C3P16.1</th>\n",
              "      <th>ingreso_op</th>\n",
              "    </tr>\n",
              "  </thead>\n",
              "  <tbody>\n",
              "    <tr>\n",
              "      <th>count</th>\n",
              "      <td>7790.000000</td>\n",
              "      <td>7790.000000</td>\n",
              "    </tr>\n",
              "    <tr>\n",
              "      <th>mean</th>\n",
              "      <td>1.431579</td>\n",
              "      <td>18071.982157</td>\n",
              "    </tr>\n",
              "    <tr>\n",
              "      <th>std</th>\n",
              "      <td>0.495328</td>\n",
              "      <td>18347.731582</td>\n",
              "    </tr>\n",
              "    <tr>\n",
              "      <th>min</th>\n",
              "      <td>1.000000</td>\n",
              "      <td>100.000000</td>\n",
              "    </tr>\n",
              "    <tr>\n",
              "      <th>25%</th>\n",
              "      <td>1.000000</td>\n",
              "      <td>7000.000000</td>\n",
              "    </tr>\n",
              "    <tr>\n",
              "      <th>50%</th>\n",
              "      <td>1.000000</td>\n",
              "      <td>15000.000000</td>\n",
              "    </tr>\n",
              "    <tr>\n",
              "      <th>75%</th>\n",
              "      <td>2.000000</td>\n",
              "      <td>24000.000000</td>\n",
              "    </tr>\n",
              "    <tr>\n",
              "      <th>max</th>\n",
              "      <td>2.000000</td>\n",
              "      <td>600000.000000</td>\n",
              "    </tr>\n",
              "  </tbody>\n",
              "</table>\n",
              "</div>"
            ],
            "text/plain": [
              "           C3P16.1     ingreso_op\n",
              "count  7790.000000    7790.000000\n",
              "mean      1.431579   18071.982157\n",
              "std       0.495328   18347.731582\n",
              "min       1.000000     100.000000\n",
              "25%       1.000000    7000.000000\n",
              "50%       1.000000   15000.000000\n",
              "75%       2.000000   24000.000000\n",
              "max       2.000000  600000.000000"
            ]
          },
          "metadata": {},
          "execution_count": 8
        }
      ]
    },
    {
      "cell_type": "code",
      "metadata": {
        "colab": {
          "base_uri": "https://localhost:8080/",
          "height": 386
        },
        "id": "YcUMs5SZ57T2",
        "outputId": "1262194d-05d7-470a-9be4-2c6f46babceb"
      },
      "source": [
        "import seaborn as sns\n",
        "sns.displot(data=df_ingresos, x=\"ingreso_op\", hue=\"C3P16.1\" , kind=\"kde\", palette=[\"red\",\"blue\"])"
      ],
      "execution_count": 9,
      "outputs": [
        {
          "output_type": "execute_result",
          "data": {
            "text/plain": [
              "<seaborn.axisgrid.FacetGrid at 0x7fc480d71090>"
            ]
          },
          "metadata": {},
          "execution_count": 9
        },
        {
          "output_type": "display_data",
          "data": {
            "image/png": "[encoded data removed]",
            "text/plain": [
              "<Figure size 409.5x360 with 1 Axes>"
            ]
          },
          "metadata": {
            "needs_background": "light"
          }
        }
      ]
    },
    {
      "cell_type": "markdown",
      "metadata": {
        "id": "XpVD9laA9gnp"
      },
      "source": [
        "Observamos que la distribución de salarios de los hombres presenta un sesgo a la derecha respecto a la de las mujeres. Retiraré los valores atípicos para obtener una mejor figura."
      ]
    },
    {
      "cell_type": "code",
      "metadata": {
        "id": "RH9zJYtf6I9b",
        "colab": {
          "base_uri": "https://localhost:8080/",
          "height": 676
        },
        "outputId": "52cff4c2-85cf-4a41-c98c-7610b232ca49"
      },
      "source": [
        "df_ingresos.boxplot(column=['ingreso_op'], by=[\"C3P16.1\"], figsize=[5,10])"
      ],
      "execution_count": 10,
      "outputs": [
        {
          "output_type": "execute_result",
          "data": {
            "text/plain": [
              "<matplotlib.axes._subplots.AxesSubplot at 0x7fc475da0250>"
            ]
          },
          "metadata": {},
          "execution_count": 10
        },
        {
          "output_type": "display_data",
          "data": {
            "image/png": "[encoded data removed]",
            "text/plain": [
              "<Figure size 360x720 with 1 Axes>"
            ]
          },
          "metadata": {
            "needs_background": "light"
          }
        }
      ]
    },
    {
      "cell_type": "markdown",
      "metadata": {
        "id": "jCOd3AtiEQg2"
      },
      "source": [
        "Observamos que hay muchísimos valores atípicos por encima del valor umbral 1.5*(Q3 - Q1). Contemos si representan un número significante."
      ]
    },
    {
      "cell_type": "code",
      "metadata": {
        "colab": {
          "base_uri": "https://localhost:8080/"
        },
        "id": "HpdqpUpDDeak",
        "outputId": "c2ebb41d-2154-4578-b0cd-259c08928d3f"
      },
      "source": [
        "max_thresold_V = 1.5 *(df_ingresos_V['ingreso_op'].quantile(0.75) - df_ingresos_V['ingreso_op'].quantile(0.25))\n",
        "max_thresold_M = 1.5 *(df_ingresos_M['ingreso_op'].quantile(0.75) - df_ingresos_M['ingreso_op'].quantile(0.25))\n",
        "max_thresold_V, max_thresold_M"
      ],
      "execution_count": 11,
      "outputs": [
        {
          "output_type": "execute_result",
          "data": {
            "text/plain": [
              "(22500.0, 22500.0)"
            ]
          },
          "metadata": {},
          "execution_count": 11
        }
      ]
    },
    {
      "cell_type": "markdown",
      "metadata": {
        "id": "6irJNcJ9GDnw"
      },
      "source": [
        "Además el valor umbral para ambos sexos es el mismo. Contemos cuántos valores atípicos hay por encima de este valor."
      ]
    },
    {
      "cell_type": "code",
      "metadata": {
        "colab": {
          "base_uri": "https://localhost:8080/",
          "height": 424
        },
        "id": "Bc9IEAFqF2qO",
        "outputId": "ad0c1b5e-5b24-4857-aa9a-cde721880931"
      },
      "source": [
        "df_ingresos[df_ingresos['ingreso_op'] > max_thresold_V]"
      ],
      "execution_count": 12,
      "outputs": [
        {
          "output_type": "execute_result",
          "data": {
            "text/html": [
              "<div>\n",
              "<style scoped>\n",
              "    .dataframe tbody tr th:only-of-type {\n",
              "        vertical-align: middle;\n",
              "    }\n",
              "\n",
              "    .dataframe tbody tr th {\n",
              "        vertical-align: top;\n",
              "    }\n",
              "\n",
              "    .dataframe thead th {\n",
              "        text-align: right;\n",
              "    }\n",
              "</style>\n",
              "<table border=\"1\" class=\"dataframe\">\n",
              "  <thead>\n",
              "    <tr style=\"text-align: right;\">\n",
              "      <th></th>\n",
              "      <th>C3P16.1</th>\n",
              "      <th>ingreso_op</th>\n",
              "    </tr>\n",
              "  </thead>\n",
              "  <tbody>\n",
              "    <tr>\n",
              "      <th>2</th>\n",
              "      <td>2</td>\n",
              "      <td>32000</td>\n",
              "    </tr>\n",
              "    <tr>\n",
              "      <th>6</th>\n",
              "      <td>1</td>\n",
              "      <td>48000</td>\n",
              "    </tr>\n",
              "    <tr>\n",
              "      <th>9</th>\n",
              "      <td>2</td>\n",
              "      <td>100000</td>\n",
              "    </tr>\n",
              "    <tr>\n",
              "      <th>11</th>\n",
              "      <td>1</td>\n",
              "      <td>36000</td>\n",
              "    </tr>\n",
              "    <tr>\n",
              "      <th>15</th>\n",
              "      <td>1</td>\n",
              "      <td>150000</td>\n",
              "    </tr>\n",
              "    <tr>\n",
              "      <th>...</th>\n",
              "      <td>...</td>\n",
              "      <td>...</td>\n",
              "    </tr>\n",
              "    <tr>\n",
              "      <th>8956</th>\n",
              "      <td>2</td>\n",
              "      <td>25000</td>\n",
              "    </tr>\n",
              "    <tr>\n",
              "      <th>8961</th>\n",
              "      <td>1</td>\n",
              "      <td>30000</td>\n",
              "    </tr>\n",
              "    <tr>\n",
              "      <th>8962</th>\n",
              "      <td>1</td>\n",
              "      <td>70000</td>\n",
              "    </tr>\n",
              "    <tr>\n",
              "      <th>8964</th>\n",
              "      <td>1</td>\n",
              "      <td>30000</td>\n",
              "    </tr>\n",
              "    <tr>\n",
              "      <th>8965</th>\n",
              "      <td>1</td>\n",
              "      <td>70000</td>\n",
              "    </tr>\n",
              "  </tbody>\n",
              "</table>\n",
              "<p>2085 rows × 2 columns</p>\n",
              "</div>"
            ],
            "text/plain": [
              "      C3P16.1  ingreso_op\n",
              "2           2       32000\n",
              "6           1       48000\n",
              "9           2      100000\n",
              "11          1       36000\n",
              "15          1      150000\n",
              "...       ...         ...\n",
              "8956        2       25000\n",
              "8961        1       30000\n",
              "8962        1       70000\n",
              "8964        1       30000\n",
              "8965        1       70000\n",
              "\n",
              "[2085 rows x 2 columns]"
            ]
          },
          "metadata": {},
          "execution_count": 12
        }
      ]
    },
    {
      "cell_type": "markdown",
      "metadata": {
        "id": "qamCyc6ZGmxI"
      },
      "source": [
        "Más de 2000 registros encontrados. Deberemos elegir otro valor umbral. Por ejemplo, aquellos valores que se encuentren por encima del cuartil 95%."
      ]
    },
    {
      "cell_type": "code",
      "metadata": {
        "colab": {
          "base_uri": "https://localhost:8080/"
        },
        "id": "5HTRsI62GcpC",
        "outputId": "3b55a1a2-0d8e-44bc-8061-555bd2919d5c"
      },
      "source": [
        "max_thresold_V = df_ingresos_V['ingreso_op'].quantile(0.95)\n",
        "max_thresold_M = df_ingresos_M['ingreso_op'].quantile(0.95)\n",
        "max_thresold_V, max_thresold_M"
      ],
      "execution_count": 13,
      "outputs": [
        {
          "output_type": "execute_result",
          "data": {
            "text/plain": [
              "(50000.0, 40000.0)"
            ]
          },
          "metadata": {},
          "execution_count": 13
        }
      ]
    },
    {
      "cell_type": "markdown",
      "metadata": {
        "id": "3onhyEdqHCWy"
      },
      "source": [
        "Estos valores tienen mejor pinta. Eliminaremos los registros que presenten un ingreso mayor a 50000."
      ]
    },
    {
      "cell_type": "code",
      "metadata": {
        "colab": {
          "base_uri": "https://localhost:8080/"
        },
        "id": "VsVx0zi7G4yJ",
        "outputId": "3af07933-8971-49a2-eb19-ac4b1d6a55e6"
      },
      "source": [
        "df = df[df['ingreso_op'] <= max_thresold_V]\n",
        "#df_ingresos = df_ingresos[df_ingresos['ingreso_op'] <= max_thresold_V]\n",
        "df['ingreso_op'].describe()"
      ],
      "execution_count": 14,
      "outputs": [
        {
          "output_type": "execute_result",
          "data": {
            "text/plain": [
              "count     7519.000000\n",
              "mean     15860.235404\n",
              "std      11245.320107\n",
              "min        100.000000\n",
              "25%       7000.000000\n",
              "50%      14000.000000\n",
              "75%      22000.000000\n",
              "max      50000.000000\n",
              "Name: ingreso_op, dtype: float64"
            ]
          },
          "metadata": {},
          "execution_count": 14
        }
      ]
    },
    {
      "cell_type": "markdown",
      "source": [
        "Nos quedamos con 7519 registros de un total de 7790. Por lo tanto, seguimos teniendo un número significativo para realizar el análisis."
      ],
      "metadata": {
        "id": "2fKTYnllGKIg"
      }
    },
    {
      "cell_type": "code",
      "metadata": {
        "colab": {
          "base_uri": "https://localhost:8080/",
          "height": 386
        },
        "id": "O_6yVUVlHXBD",
        "outputId": "436ab0dd-cc2b-4abf-e358-a5865db45def"
      },
      "source": [
        "sns.displot(data=df, x=\"ingreso_op\", hue=\"C3P16.1\" , kind=\"kde\", palette=[\"red\",\"blue\"])"
      ],
      "execution_count": 15,
      "outputs": [
        {
          "output_type": "execute_result",
          "data": {
            "text/plain": [
              "<seaborn.axisgrid.FacetGrid at 0x7fc475d35ed0>"
            ]
          },
          "metadata": {},
          "execution_count": 15
        },
        {
          "output_type": "display_data",
          "data": {
            "image/png": "[encoded data removed]",
            "text/plain": [
              "<Figure size 409.5x360 with 1 Axes>"
            ]
          },
          "metadata": {
            "needs_background": "light"
          }
        }
      ]
    },
    {
      "cell_type": "markdown",
      "metadata": {
        "id": "hz-nhgxjI0yd"
      },
      "source": [
        "Aquí se ve claramente cómo la distribución de salarios de los hombres presenta un sesgo hacia la derecha respecto de la de mujeres. Por lo tanto, si tenemos en cuenta todos los trabajos, sin realizar ninguna discriminación ocupacional, observamos que la diferencia de salarios es real.\n",
        "\n",
        "## **Diferencia de salarios por sector**\n",
        "\n",
        "Lo que me interesa ver ahora es la diferencia de salarios por sector. Para ello utilizaré el atributo \"ramacaes_o\" que indica las actividades enonómicas por agrupación, siendo:\n",
        "\n",
        "1 - Actividades primarias\n",
        "\n",
        "2 - Industria manufacturera\n",
        "\n",
        "3 - Construcción\n",
        "\n",
        "4 - Comercio\n",
        "\n",
        "5 - Hoteles y restaurantes\n",
        "\n",
        "6 - Transporte, alm y comunic\n",
        "\n",
        "7 - Serv financ, inm, alq y emp\n",
        "\n",
        "8 - Administración pública y defensa\n",
        "\n",
        "9 - Enseñanza\n",
        "\n",
        "10 - Servicios sociales y de salud\n",
        "\n",
        "11 - Trabajo doméstico\n",
        "\n",
        "12 - Otros serv comunit, soc y per\n",
        "\n",
        "13 - Otras ramas\n",
        "\n",
        "99 - Sin especificar"
      ]
    },
    {
      "cell_type": "code",
      "source": [
        "df[df.ramacaes_o == 99]['C3P16.1'].value_counts()"
      ],
      "metadata": {
        "colab": {
          "base_uri": "https://localhost:8080/"
        },
        "id": "SIaujXcFHIrj",
        "outputId": "3d749ffa-066a-4086-cc1d-bb33e39e746a"
      },
      "execution_count": 16,
      "outputs": [
        {
          "output_type": "execute_result",
          "data": {
            "text/plain": [
              "1    15\n",
              "2     4\n",
              "Name: C3P16.1, dtype: int64"
            ]
          },
          "metadata": {},
          "execution_count": 16
        }
      ]
    },
    {
      "cell_type": "markdown",
      "source": [
        "Nos desprendemos de los registros con valor igual a 99 en el atributo \"ramacaes_o\" ya que son solamente 19."
      ],
      "metadata": {
        "id": "AdMkvu5jHpoL"
      }
    },
    {
      "cell_type": "code",
      "metadata": {
        "colab": {
          "base_uri": "https://localhost:8080/",
          "height": 424
        },
        "id": "NgqqMGhrHhqe",
        "outputId": "957da3f0-a983-437d-c972-3243f3d75fe3"
      },
      "source": [
        "df = df[df['ramacaes_o'] != 99]\n",
        "#df_ingresos['ramacaes_o'] = df['ramacaes_o']\n",
        "#df_ingresos = df_ingresos[df_ingresos.ramacaes_o != 99]\n",
        "df1 = df[['C3P16.1','ramacaes_o','ingreso_op']]\n",
        "df1"
      ],
      "execution_count": 17,
      "outputs": [
        {
          "output_type": "execute_result",
          "data": {
            "text/html": [
              "<div>\n",
              "<style scoped>\n",
              "    .dataframe tbody tr th:only-of-type {\n",
              "        vertical-align: middle;\n",
              "    }\n",
              "\n",
              "    .dataframe tbody tr th {\n",
              "        vertical-align: top;\n",
              "    }\n",
              "\n",
              "    .dataframe thead th {\n",
              "        text-align: right;\n",
              "    }\n",
              "</style>\n",
              "<table border=\"1\" class=\"dataframe\">\n",
              "  <thead>\n",
              "    <tr style=\"text-align: right;\">\n",
              "      <th></th>\n",
              "      <th>C3P16.1</th>\n",
              "      <th>ramacaes_o</th>\n",
              "      <th>ingreso_op</th>\n",
              "    </tr>\n",
              "  </thead>\n",
              "  <tbody>\n",
              "    <tr>\n",
              "      <th>0</th>\n",
              "      <td>1</td>\n",
              "      <td>9</td>\n",
              "      <td>7000</td>\n",
              "    </tr>\n",
              "    <tr>\n",
              "      <th>2</th>\n",
              "      <td>2</td>\n",
              "      <td>7</td>\n",
              "      <td>32000</td>\n",
              "    </tr>\n",
              "    <tr>\n",
              "      <th>3</th>\n",
              "      <td>2</td>\n",
              "      <td>10</td>\n",
              "      <td>15000</td>\n",
              "    </tr>\n",
              "    <tr>\n",
              "      <th>6</th>\n",
              "      <td>1</td>\n",
              "      <td>7</td>\n",
              "      <td>48000</td>\n",
              "    </tr>\n",
              "    <tr>\n",
              "      <th>7</th>\n",
              "      <td>2</td>\n",
              "      <td>4</td>\n",
              "      <td>10000</td>\n",
              "    </tr>\n",
              "    <tr>\n",
              "      <th>...</th>\n",
              "      <td>...</td>\n",
              "      <td>...</td>\n",
              "      <td>...</td>\n",
              "    </tr>\n",
              "    <tr>\n",
              "      <th>8957</th>\n",
              "      <td>2</td>\n",
              "      <td>11</td>\n",
              "      <td>19000</td>\n",
              "    </tr>\n",
              "    <tr>\n",
              "      <th>8958</th>\n",
              "      <td>2</td>\n",
              "      <td>11</td>\n",
              "      <td>18000</td>\n",
              "    </tr>\n",
              "    <tr>\n",
              "      <th>8960</th>\n",
              "      <td>1</td>\n",
              "      <td>8</td>\n",
              "      <td>20000</td>\n",
              "    </tr>\n",
              "    <tr>\n",
              "      <th>8961</th>\n",
              "      <td>1</td>\n",
              "      <td>1</td>\n",
              "      <td>30000</td>\n",
              "    </tr>\n",
              "    <tr>\n",
              "      <th>8964</th>\n",
              "      <td>1</td>\n",
              "      <td>2</td>\n",
              "      <td>30000</td>\n",
              "    </tr>\n",
              "  </tbody>\n",
              "</table>\n",
              "<p>7500 rows × 3 columns</p>\n",
              "</div>"
            ],
            "text/plain": [
              "      C3P16.1  ramacaes_o  ingreso_op\n",
              "0           1           9        7000\n",
              "2           2           7       32000\n",
              "3           2          10       15000\n",
              "6           1           7       48000\n",
              "7           2           4       10000\n",
              "...       ...         ...         ...\n",
              "8957        2          11       19000\n",
              "8958        2          11       18000\n",
              "8960        1           8       20000\n",
              "8961        1           1       30000\n",
              "8964        1           2       30000\n",
              "\n",
              "[7500 rows x 3 columns]"
            ]
          },
          "metadata": {},
          "execution_count": 17
        }
      ]
    },
    {
      "cell_type": "markdown",
      "metadata": {
        "id": "BeHJUKgUO2hW"
      },
      "source": [
        "Ahora quiero obtener la media de varones y mujeres en cada sector y calcular el gap."
      ]
    },
    {
      "cell_type": "code",
      "metadata": {
        "colab": {
          "base_uri": "https://localhost:8080/",
          "height": 488
        },
        "id": "Tt_hzfxJNzwg",
        "outputId": "da52df11-33ac-48bc-c495-4f0331bfc7ca"
      },
      "source": [
        "sector_mean_V = df1[df1['C3P16.1'] == 1].groupby(['ramacaes_o']).mean()\n",
        "sector_mean_M = df1[df1['C3P16.1'] == 2].groupby(['ramacaes_o']).mean()\n",
        "sector_mean_ratio = sector_mean_M/sector_mean_V\n",
        "sector_mean_ratio = sector_mean_ratio.drop(columns='C3P16.1') \n",
        "sector_mean_ratio[\"sector\"] = ['Actividades primarias','Industria manufacturera','Construcción','Comercio','Hoteles y restaurantes','Transporte, alm y comunic','Serv financ, inm, alq y emp','Administración pública y defensa','Enseñanza','Servicios sociales y de salud','Trabajo doméstico','Otros serv comunit, soc y per','Otras ramas']\n",
        "sector_mean_ratio = sector_mean_ratio.rename(columns={\"ingreso_op\": \"ratio_ingresos\"})\n",
        "sector_mean_ratio = sector_mean_ratio.sort_values(by=['ratio_ingresos'])\n",
        "sector_mean_ratio"
      ],
      "execution_count": 18,
      "outputs": [
        {
          "output_type": "execute_result",
          "data": {
            "text/html": [
              "<div>\n",
              "<style scoped>\n",
              "    .dataframe tbody tr th:only-of-type {\n",
              "        vertical-align: middle;\n",
              "    }\n",
              "\n",
              "    .dataframe tbody tr th {\n",
              "        vertical-align: top;\n",
              "    }\n",
              "\n",
              "    .dataframe thead th {\n",
              "        text-align: right;\n",
              "    }\n",
              "</style>\n",
              "<table border=\"1\" class=\"dataframe\">\n",
              "  <thead>\n",
              "    <tr style=\"text-align: right;\">\n",
              "      <th></th>\n",
              "      <th>ratio_ingresos</th>\n",
              "      <th>sector</th>\n",
              "    </tr>\n",
              "    <tr>\n",
              "      <th>ramacaes_o</th>\n",
              "      <th></th>\n",
              "      <th></th>\n",
              "    </tr>\n",
              "  </thead>\n",
              "  <tbody>\n",
              "    <tr>\n",
              "      <th>2</th>\n",
              "      <td>0.588429</td>\n",
              "      <td>Industria manufacturera</td>\n",
              "    </tr>\n",
              "    <tr>\n",
              "      <th>12</th>\n",
              "      <td>0.619830</td>\n",
              "      <td>Otros serv comunit, soc y per</td>\n",
              "    </tr>\n",
              "    <tr>\n",
              "      <th>4</th>\n",
              "      <td>0.691723</td>\n",
              "      <td>Comercio</td>\n",
              "    </tr>\n",
              "    <tr>\n",
              "      <th>5</th>\n",
              "      <td>0.731076</td>\n",
              "      <td>Hoteles y restaurantes</td>\n",
              "    </tr>\n",
              "    <tr>\n",
              "      <th>1</th>\n",
              "      <td>0.798224</td>\n",
              "      <td>Actividades primarias</td>\n",
              "    </tr>\n",
              "    <tr>\n",
              "      <th>13</th>\n",
              "      <td>0.821300</td>\n",
              "      <td>Otras ramas</td>\n",
              "    </tr>\n",
              "    <tr>\n",
              "      <th>10</th>\n",
              "      <td>0.850984</td>\n",
              "      <td>Servicios sociales y de salud</td>\n",
              "    </tr>\n",
              "    <tr>\n",
              "      <th>9</th>\n",
              "      <td>0.872122</td>\n",
              "      <td>Enseñanza</td>\n",
              "    </tr>\n",
              "    <tr>\n",
              "      <th>7</th>\n",
              "      <td>0.913364</td>\n",
              "      <td>Serv financ, inm, alq y emp</td>\n",
              "    </tr>\n",
              "    <tr>\n",
              "      <th>3</th>\n",
              "      <td>0.942050</td>\n",
              "      <td>Construcción</td>\n",
              "    </tr>\n",
              "    <tr>\n",
              "      <th>8</th>\n",
              "      <td>0.949992</td>\n",
              "      <td>Administración pública y defensa</td>\n",
              "    </tr>\n",
              "    <tr>\n",
              "      <th>6</th>\n",
              "      <td>0.955709</td>\n",
              "      <td>Transporte, alm y comunic</td>\n",
              "    </tr>\n",
              "    <tr>\n",
              "      <th>11</th>\n",
              "      <td>1.717469</td>\n",
              "      <td>Trabajo doméstico</td>\n",
              "    </tr>\n",
              "  </tbody>\n",
              "</table>\n",
              "</div>"
            ],
            "text/plain": [
              "            ratio_ingresos                            sector\n",
              "ramacaes_o                                                  \n",
              "2                 0.588429           Industria manufacturera\n",
              "12                0.619830     Otros serv comunit, soc y per\n",
              "4                 0.691723                          Comercio\n",
              "5                 0.731076            Hoteles y restaurantes\n",
              "1                 0.798224             Actividades primarias\n",
              "13                0.821300                       Otras ramas\n",
              "10                0.850984     Servicios sociales y de salud\n",
              "9                 0.872122                         Enseñanza\n",
              "7                 0.913364       Serv financ, inm, alq y emp\n",
              "3                 0.942050                      Construcción\n",
              "8                 0.949992  Administración pública y defensa\n",
              "6                 0.955709         Transporte, alm y comunic\n",
              "11                1.717469                 Trabajo doméstico"
            ]
          },
          "metadata": {},
          "execution_count": 18
        }
      ]
    },
    {
      "cell_type": "code",
      "metadata": {
        "colab": {
          "base_uri": "https://localhost:8080/",
          "height": 624
        },
        "id": "K3sV0rTLRI2V",
        "outputId": "838496cc-a8c6-49a0-f8eb-a7f023f9bbbc"
      },
      "source": [
        "import matplotlib.pyplot as plt\n",
        "\n",
        "plt.figure(figsize = (10,10))\n",
        "\n",
        "plt.barh(range(13),sector_mean_ratio.ratio_ingresos)\n",
        "plt.yticks(range(13),sector_mean_ratio.sector, fontsize = 10)\n",
        "plt.plot([1,1],[-0.5,12.5], '--',color = 'r')\n",
        "plt.title('Ingresos Mujeres/Varones')\n",
        "plt.xlim([0,1.2])"
      ],
      "execution_count": 19,
      "outputs": [
        {
          "output_type": "execute_result",
          "data": {
            "text/plain": [
              "(0.0, 1.2)"
            ]
          },
          "metadata": {},
          "execution_count": 19
        },
        {
          "output_type": "display_data",
          "data": {
            "image/png": "[encoded data removed]",
            "text/plain": [
              "<Figure size 720x720 with 1 Axes>"
            ]
          },
          "metadata": {
            "needs_background": "light"
          }
        }
      ]
    },
    {
      "cell_type": "markdown",
      "metadata": {
        "id": "YFS_4SjzXY43"
      },
      "source": [
        "Observamos que en promedio las mujeres sólo superan el salario de los hombres en el sector \"Trabajo doméstico\". Incluso casi que duplican el salario promedio de los hombres.\n",
        "\n",
        "En áreas como la industria manufacturera, las mujeres ganan un poco más de la mitad que los hombres. \n",
        "\n",
        "## **Diferencia de salarios por ocupación**\n",
        "\n",
        "Vamos a puntualizar en trabajos individuales e intentar observar en cuáles las mujeres ganan más y en cuáles menos. Para ello utilizaremos el atributo \"ocupa_cno\" cuyos valores refieren al Clasificador Nacional de Ocupaciones (CNO)."
      ]
    },
    {
      "cell_type": "code",
      "metadata": {
        "id": "jhdg6QVZTUZw",
        "colab": {
          "base_uri": "https://localhost:8080/",
          "height": 300
        },
        "outputId": "d61407ef-f411-4815-ee9a-226dc1ae2b65"
      },
      "source": [
        "df[['C3P16.1','ramacaes_o','ingreso_op','ocupa_cno']].describe()"
      ],
      "execution_count": 20,
      "outputs": [
        {
          "output_type": "execute_result",
          "data": {
            "text/html": [
              "<div>\n",
              "<style scoped>\n",
              "    .dataframe tbody tr th:only-of-type {\n",
              "        vertical-align: middle;\n",
              "    }\n",
              "\n",
              "    .dataframe tbody tr th {\n",
              "        vertical-align: top;\n",
              "    }\n",
              "\n",
              "    .dataframe thead th {\n",
              "        text-align: right;\n",
              "    }\n",
              "</style>\n",
              "<table border=\"1\" class=\"dataframe\">\n",
              "  <thead>\n",
              "    <tr style=\"text-align: right;\">\n",
              "      <th></th>\n",
              "      <th>C3P16.1</th>\n",
              "      <th>ramacaes_o</th>\n",
              "      <th>ingreso_op</th>\n",
              "      <th>ocupa_cno</th>\n",
              "    </tr>\n",
              "  </thead>\n",
              "  <tbody>\n",
              "    <tr>\n",
              "      <th>count</th>\n",
              "      <td>7500.000000</td>\n",
              "      <td>7500.000000</td>\n",
              "      <td>7500.000000</td>\n",
              "      <td>7500.000000</td>\n",
              "    </tr>\n",
              "    <tr>\n",
              "      <th>mean</th>\n",
              "      <td>1.438267</td>\n",
              "      <td>6.384533</td>\n",
              "      <td>15855.721333</td>\n",
              "      <td>46672.223333</td>\n",
              "    </tr>\n",
              "    <tr>\n",
              "      <th>std</th>\n",
              "      <td>0.496207</td>\n",
              "      <td>3.207269</td>\n",
              "      <td>11240.032416</td>\n",
              "      <td>22361.150554</td>\n",
              "    </tr>\n",
              "    <tr>\n",
              "      <th>min</th>\n",
              "      <td>1.000000</td>\n",
              "      <td>1.000000</td>\n",
              "      <td>100.000000</td>\n",
              "      <td>1001.000000</td>\n",
              "    </tr>\n",
              "    <tr>\n",
              "      <th>25%</th>\n",
              "      <td>1.000000</td>\n",
              "      <td>4.000000</td>\n",
              "      <td>7000.000000</td>\n",
              "      <td>30314.000000</td>\n",
              "    </tr>\n",
              "    <tr>\n",
              "      <th>50%</th>\n",
              "      <td>1.000000</td>\n",
              "      <td>6.000000</td>\n",
              "      <td>14000.000000</td>\n",
              "      <td>47313.000000</td>\n",
              "    </tr>\n",
              "    <tr>\n",
              "      <th>75%</th>\n",
              "      <td>2.000000</td>\n",
              "      <td>9.000000</td>\n",
              "      <td>22000.000000</td>\n",
              "      <td>60203.000000</td>\n",
              "    </tr>\n",
              "    <tr>\n",
              "      <th>max</th>\n",
              "      <td>2.000000</td>\n",
              "      <td>13.000000</td>\n",
              "      <td>50000.000000</td>\n",
              "      <td>99999.000000</td>\n",
              "    </tr>\n",
              "  </tbody>\n",
              "</table>\n",
              "</div>"
            ],
            "text/plain": [
              "           C3P16.1   ramacaes_o    ingreso_op     ocupa_cno\n",
              "count  7500.000000  7500.000000   7500.000000   7500.000000\n",
              "mean      1.438267     6.384533  15855.721333  46672.223333\n",
              "std       0.496207     3.207269  11240.032416  22361.150554\n",
              "min       1.000000     1.000000    100.000000   1001.000000\n",
              "25%       1.000000     4.000000   7000.000000  30314.000000\n",
              "50%       1.000000     6.000000  14000.000000  47313.000000\n",
              "75%       2.000000     9.000000  22000.000000  60203.000000\n",
              "max       2.000000    13.000000  50000.000000  99999.000000"
            ]
          },
          "metadata": {},
          "execution_count": 20
        }
      ]
    },
    {
      "cell_type": "markdown",
      "source": [
        "El máximo valor del atributo \"ocupa_cno\" es 99999, pero observando la clasificación en [CNO_2017](https://www.indec.gob.ar/ftp/cuadros/menusuperior/clasificadores/CNO_2017.pdf), el valor máximo es 92332. Veamos si este valor corresponde a casos donde no se informó la ocupación o faltan clasificaciones en la referencia encontrada."
      ],
      "metadata": {
        "id": "kGmu-xWSKhig"
      }
    },
    {
      "cell_type": "code",
      "source": [
        "df[df['ocupa_cno']>92332]['ocupa_cno']"
      ],
      "metadata": {
        "colab": {
          "base_uri": "https://localhost:8080/"
        },
        "id": "abFh2VZ2K1vb",
        "outputId": "881b4754-3004-40a4-b634-e62a10c78507"
      },
      "execution_count": 21,
      "outputs": [
        {
          "output_type": "execute_result",
          "data": {
            "text/plain": [
              "2713    99998\n",
              "2929    99999\n",
              "6660    99999\n",
              "7361    99999\n",
              "Name: ocupa_cno, dtype: int64"
            ]
          },
          "metadata": {},
          "execution_count": 21
        }
      ]
    },
    {
      "cell_type": "markdown",
      "source": [
        "Como solamente cuento con 4 registros con este valor, decido desprenderme de ellos ya que no tengo cómo calificarlos."
      ],
      "metadata": {
        "id": "T99uxgoXMCsF"
      }
    },
    {
      "cell_type": "code",
      "source": [
        "df = df[df['ocupa_cno'] <= 92332]\n",
        "df2 = df[['C3P16.1','ramacaes_o','ingreso_op','ocupa_cno']]\n",
        "df2.describe()"
      ],
      "metadata": {
        "colab": {
          "base_uri": "https://localhost:8080/",
          "height": 300
        },
        "id": "7HrH5NrXMR0W",
        "outputId": "08498444-967f-45f1-93fb-a6bbdda1d6c0"
      },
      "execution_count": 22,
      "outputs": [
        {
          "output_type": "execute_result",
          "data": {
            "text/html": [
              "<div>\n",
              "<style scoped>\n",
              "    .dataframe tbody tr th:only-of-type {\n",
              "        vertical-align: middle;\n",
              "    }\n",
              "\n",
              "    .dataframe tbody tr th {\n",
              "        vertical-align: top;\n",
              "    }\n",
              "\n",
              "    .dataframe thead th {\n",
              "        text-align: right;\n",
              "    }\n",
              "</style>\n",
              "<table border=\"1\" class=\"dataframe\">\n",
              "  <thead>\n",
              "    <tr style=\"text-align: right;\">\n",
              "      <th></th>\n",
              "      <th>C3P16.1</th>\n",
              "      <th>ramacaes_o</th>\n",
              "      <th>ingreso_op</th>\n",
              "      <th>ocupa_cno</th>\n",
              "    </tr>\n",
              "  </thead>\n",
              "  <tbody>\n",
              "    <tr>\n",
              "      <th>count</th>\n",
              "      <td>7496.000000</td>\n",
              "      <td>7496.000000</td>\n",
              "      <td>7496.000000</td>\n",
              "      <td>7496.000000</td>\n",
              "    </tr>\n",
              "    <tr>\n",
              "      <th>mean</th>\n",
              "      <td>1.438100</td>\n",
              "      <td>6.383671</td>\n",
              "      <td>15853.523212</td>\n",
              "      <td>46643.767343</td>\n",
              "    </tr>\n",
              "    <tr>\n",
              "      <th>std</th>\n",
              "      <td>0.496187</td>\n",
              "      <td>3.207866</td>\n",
              "      <td>11238.121351</td>\n",
              "      <td>22333.146631</td>\n",
              "    </tr>\n",
              "    <tr>\n",
              "      <th>min</th>\n",
              "      <td>1.000000</td>\n",
              "      <td>1.000000</td>\n",
              "      <td>100.000000</td>\n",
              "      <td>1001.000000</td>\n",
              "    </tr>\n",
              "    <tr>\n",
              "      <th>25%</th>\n",
              "      <td>1.000000</td>\n",
              "      <td>4.000000</td>\n",
              "      <td>7000.000000</td>\n",
              "      <td>30314.000000</td>\n",
              "    </tr>\n",
              "    <tr>\n",
              "      <th>50%</th>\n",
              "      <td>1.000000</td>\n",
              "      <td>6.000000</td>\n",
              "      <td>14000.000000</td>\n",
              "      <td>47313.000000</td>\n",
              "    </tr>\n",
              "    <tr>\n",
              "      <th>75%</th>\n",
              "      <td>2.000000</td>\n",
              "      <td>9.000000</td>\n",
              "      <td>22000.000000</td>\n",
              "      <td>60113.250000</td>\n",
              "    </tr>\n",
              "    <tr>\n",
              "      <th>max</th>\n",
              "      <td>2.000000</td>\n",
              "      <td>13.000000</td>\n",
              "      <td>50000.000000</td>\n",
              "      <td>92332.000000</td>\n",
              "    </tr>\n",
              "  </tbody>\n",
              "</table>\n",
              "</div>"
            ],
            "text/plain": [
              "           C3P16.1   ramacaes_o    ingreso_op     ocupa_cno\n",
              "count  7496.000000  7496.000000   7496.000000   7496.000000\n",
              "mean      1.438100     6.383671  15853.523212  46643.767343\n",
              "std       0.496187     3.207866  11238.121351  22333.146631\n",
              "min       1.000000     1.000000    100.000000   1001.000000\n",
              "25%       1.000000     4.000000   7000.000000  30314.000000\n",
              "50%       1.000000     6.000000  14000.000000  47313.000000\n",
              "75%       2.000000     9.000000  22000.000000  60113.250000\n",
              "max       2.000000    13.000000  50000.000000  92332.000000"
            ]
          },
          "metadata": {},
          "execution_count": 22
        }
      ]
    },
    {
      "cell_type": "markdown",
      "source": [
        "Cuento con muchísimas ocupaciones que van desde la 1001 hasta la 92332. Observando la clasificación en [CNO_2017](https://www.indec.gob.ar/ftp/cuadros/menusuperior/clasificadores/CNO_2017.pdf) se puede ver que los primeros 2 dígitos de un código indican la ocupación, el tercer dígito distingue entre cuenta propia, jefe y trabajadores y los últimos dos son más específicos de cada trabajo. Por lo que decido agrupar los valores que coincidan en los primeros dos dígitos, es decir, en las unidades de diez mil y mil."
      ],
      "metadata": {
        "id": "rS9LI-3vdVzt"
      }
    },
    {
      "cell_type": "code",
      "source": [
        "df3 = df2.copy() #Hago una copia para conservar las ocupaciones originales\n",
        "df3['ocupa_cno'] = df3['ocupa_cno'].apply(lambda x: int(x*0.001))\n",
        "\n",
        "occupation_mean_V = df3[df3['C3P16.1'] == 1].groupby(['ocupa_cno']).mean().drop(columns=['C3P16.1','ramacaes_o'])\n",
        "occupation_mean_M = df3[df3['C3P16.1'] == 2].groupby(['ocupa_cno']).mean().drop(columns=['C3P16.1','ramacaes_o'])\n",
        "#occupation_mean_V = occupation_mean_V.rename(columns={\"ingreso_op\": \"ingresos Varones\"})\n",
        "#occupation_mean_M = occupation_mean_M.rename(columns={\"ingreso_op\": \"ingresos Mujeres\"})\n",
        "occupation_mean = pd.concat([occupation_mean_V.rename(columns={\"ingreso_op\": \"ingresos Varones\"}), occupation_mean_M.rename(columns={\"ingreso_op\": \"ingresos Mujeres\"})], axis=1)\n",
        "occupation_mean = occupation_mean.reset_index().fillna(0)   #Los valores NaN indican que no hay presencia de dicho género en la ocupación correspondiente. Los reemplazo por cero.\n",
        "occupation_mean"
      ],
      "metadata": {
        "colab": {
          "base_uri": "https://localhost:8080/",
          "height": 1000
        },
        "id": "l4NaaZkeAeHS",
        "outputId": "fda8b020-8c03-487c-b04f-da976f7d242a"
      },
      "execution_count": 23,
      "outputs": [
        {
          "output_type": "execute_result",
          "data": {
            "text/html": [
              "<div>\n",
              "<style scoped>\n",
              "    .dataframe tbody tr th:only-of-type {\n",
              "        vertical-align: middle;\n",
              "    }\n",
              "\n",
              "    .dataframe tbody tr th {\n",
              "        vertical-align: top;\n",
              "    }\n",
              "\n",
              "    .dataframe thead th {\n",
              "        text-align: right;\n",
              "    }\n",
              "</style>\n",
              "<table border=\"1\" class=\"dataframe\">\n",
              "  <thead>\n",
              "    <tr style=\"text-align: right;\">\n",
              "      <th></th>\n",
              "      <th>ocupa_cno</th>\n",
              "      <th>ingresos Varones</th>\n",
              "      <th>ingresos Mujeres</th>\n",
              "    </tr>\n",
              "  </thead>\n",
              "  <tbody>\n",
              "    <tr>\n",
              "      <th>0</th>\n",
              "      <td>1</td>\n",
              "      <td>28000.000000</td>\n",
              "      <td>17500.000000</td>\n",
              "    </tr>\n",
              "    <tr>\n",
              "      <th>1</th>\n",
              "      <td>3</td>\n",
              "      <td>29450.000000</td>\n",
              "      <td>32166.666667</td>\n",
              "    </tr>\n",
              "    <tr>\n",
              "      <th>2</th>\n",
              "      <td>4</td>\n",
              "      <td>50000.000000</td>\n",
              "      <td>20000.000000</td>\n",
              "    </tr>\n",
              "    <tr>\n",
              "      <th>3</th>\n",
              "      <td>5</td>\n",
              "      <td>24772.413793</td>\n",
              "      <td>23000.000000</td>\n",
              "    </tr>\n",
              "    <tr>\n",
              "      <th>4</th>\n",
              "      <td>6</td>\n",
              "      <td>23306.493506</td>\n",
              "      <td>19729.166667</td>\n",
              "    </tr>\n",
              "    <tr>\n",
              "      <th>5</th>\n",
              "      <td>7</td>\n",
              "      <td>24798.360656</td>\n",
              "      <td>20200.000000</td>\n",
              "    </tr>\n",
              "    <tr>\n",
              "      <th>6</th>\n",
              "      <td>10</td>\n",
              "      <td>22100.114815</td>\n",
              "      <td>20776.208459</td>\n",
              "    </tr>\n",
              "    <tr>\n",
              "      <th>7</th>\n",
              "      <td>11</td>\n",
              "      <td>27891.176471</td>\n",
              "      <td>23975.675676</td>\n",
              "    </tr>\n",
              "    <tr>\n",
              "      <th>8</th>\n",
              "      <td>20</td>\n",
              "      <td>24044.135593</td>\n",
              "      <td>20526.737968</td>\n",
              "    </tr>\n",
              "    <tr>\n",
              "      <th>9</th>\n",
              "      <td>30</td>\n",
              "      <td>17532.597403</td>\n",
              "      <td>11850.772429</td>\n",
              "    </tr>\n",
              "    <tr>\n",
              "      <th>10</th>\n",
              "      <td>31</td>\n",
              "      <td>17568.750000</td>\n",
              "      <td>4777.777778</td>\n",
              "    </tr>\n",
              "    <tr>\n",
              "      <th>11</th>\n",
              "      <td>32</td>\n",
              "      <td>17332.400000</td>\n",
              "      <td>18188.888889</td>\n",
              "    </tr>\n",
              "    <tr>\n",
              "      <th>12</th>\n",
              "      <td>33</td>\n",
              "      <td>6878.048780</td>\n",
              "      <td>4143.750000</td>\n",
              "    </tr>\n",
              "    <tr>\n",
              "      <th>13</th>\n",
              "      <td>34</td>\n",
              "      <td>18577.619048</td>\n",
              "      <td>14823.529412</td>\n",
              "    </tr>\n",
              "    <tr>\n",
              "      <th>14</th>\n",
              "      <td>35</td>\n",
              "      <td>19916.666667</td>\n",
              "      <td>20040.000000</td>\n",
              "    </tr>\n",
              "    <tr>\n",
              "      <th>15</th>\n",
              "      <td>36</td>\n",
              "      <td>19852.906977</td>\n",
              "      <td>20250.000000</td>\n",
              "    </tr>\n",
              "    <tr>\n",
              "      <th>16</th>\n",
              "      <td>39</td>\n",
              "      <td>15000.000000</td>\n",
              "      <td>0.000000</td>\n",
              "    </tr>\n",
              "    <tr>\n",
              "      <th>17</th>\n",
              "      <td>40</td>\n",
              "      <td>24915.584416</td>\n",
              "      <td>19243.037975</td>\n",
              "    </tr>\n",
              "    <tr>\n",
              "      <th>18</th>\n",
              "      <td>41</td>\n",
              "      <td>18442.280000</td>\n",
              "      <td>15586.818616</td>\n",
              "    </tr>\n",
              "    <tr>\n",
              "      <th>19</th>\n",
              "      <td>42</td>\n",
              "      <td>23341.666667</td>\n",
              "      <td>21172.222222</td>\n",
              "    </tr>\n",
              "    <tr>\n",
              "      <th>20</th>\n",
              "      <td>43</td>\n",
              "      <td>27125.000000</td>\n",
              "      <td>31187.500000</td>\n",
              "    </tr>\n",
              "    <tr>\n",
              "      <th>21</th>\n",
              "      <td>44</td>\n",
              "      <td>25777.777778</td>\n",
              "      <td>24500.000000</td>\n",
              "    </tr>\n",
              "    <tr>\n",
              "      <th>22</th>\n",
              "      <td>45</td>\n",
              "      <td>21916.739130</td>\n",
              "      <td>22000.000000</td>\n",
              "    </tr>\n",
              "    <tr>\n",
              "      <th>23</th>\n",
              "      <td>46</td>\n",
              "      <td>23600.000000</td>\n",
              "      <td>16710.000000</td>\n",
              "    </tr>\n",
              "    <tr>\n",
              "      <th>24</th>\n",
              "      <td>47</td>\n",
              "      <td>17077.660714</td>\n",
              "      <td>16554.545455</td>\n",
              "    </tr>\n",
              "    <tr>\n",
              "      <th>25</th>\n",
              "      <td>48</td>\n",
              "      <td>24698.701299</td>\n",
              "      <td>24118.750000</td>\n",
              "    </tr>\n",
              "    <tr>\n",
              "      <th>26</th>\n",
              "      <td>49</td>\n",
              "      <td>28684.210526</td>\n",
              "      <td>21200.000000</td>\n",
              "    </tr>\n",
              "    <tr>\n",
              "      <th>27</th>\n",
              "      <td>50</td>\n",
              "      <td>19320.800000</td>\n",
              "      <td>12316.666667</td>\n",
              "    </tr>\n",
              "    <tr>\n",
              "      <th>28</th>\n",
              "      <td>51</td>\n",
              "      <td>16346.666667</td>\n",
              "      <td>9300.000000</td>\n",
              "    </tr>\n",
              "    <tr>\n",
              "      <th>29</th>\n",
              "      <td>52</td>\n",
              "      <td>2000.000000</td>\n",
              "      <td>17500.000000</td>\n",
              "    </tr>\n",
              "    <tr>\n",
              "      <th>30</th>\n",
              "      <td>53</td>\n",
              "      <td>13022.586207</td>\n",
              "      <td>9459.064327</td>\n",
              "    </tr>\n",
              "    <tr>\n",
              "      <th>31</th>\n",
              "      <td>54</td>\n",
              "      <td>15600.000000</td>\n",
              "      <td>16662.500000</td>\n",
              "    </tr>\n",
              "    <tr>\n",
              "      <th>32</th>\n",
              "      <td>55</td>\n",
              "      <td>15106.666667</td>\n",
              "      <td>5385.634744</td>\n",
              "    </tr>\n",
              "    <tr>\n",
              "      <th>33</th>\n",
              "      <td>56</td>\n",
              "      <td>14144.961353</td>\n",
              "      <td>10396.825893</td>\n",
              "    </tr>\n",
              "    <tr>\n",
              "      <th>34</th>\n",
              "      <td>57</td>\n",
              "      <td>10357.142857</td>\n",
              "      <td>7109.593074</td>\n",
              "    </tr>\n",
              "    <tr>\n",
              "      <th>35</th>\n",
              "      <td>58</td>\n",
              "      <td>8274.444444</td>\n",
              "      <td>10118.181818</td>\n",
              "    </tr>\n",
              "    <tr>\n",
              "      <th>36</th>\n",
              "      <td>60</td>\n",
              "      <td>11201.612903</td>\n",
              "      <td>6590.000000</td>\n",
              "    </tr>\n",
              "    <tr>\n",
              "      <th>37</th>\n",
              "      <td>61</td>\n",
              "      <td>13733.333333</td>\n",
              "      <td>30000.000000</td>\n",
              "    </tr>\n",
              "    <tr>\n",
              "      <th>38</th>\n",
              "      <td>62</td>\n",
              "      <td>8137.500000</td>\n",
              "      <td>6800.000000</td>\n",
              "    </tr>\n",
              "    <tr>\n",
              "      <th>39</th>\n",
              "      <td>63</td>\n",
              "      <td>22750.000000</td>\n",
              "      <td>7557.500000</td>\n",
              "    </tr>\n",
              "    <tr>\n",
              "      <th>40</th>\n",
              "      <td>64</td>\n",
              "      <td>7733.333333</td>\n",
              "      <td>0.000000</td>\n",
              "    </tr>\n",
              "    <tr>\n",
              "      <th>41</th>\n",
              "      <td>70</td>\n",
              "      <td>36071.428571</td>\n",
              "      <td>0.000000</td>\n",
              "    </tr>\n",
              "    <tr>\n",
              "      <th>42</th>\n",
              "      <td>71</td>\n",
              "      <td>27000.000000</td>\n",
              "      <td>15000.000000</td>\n",
              "    </tr>\n",
              "    <tr>\n",
              "      <th>43</th>\n",
              "      <td>72</td>\n",
              "      <td>13704.965649</td>\n",
              "      <td>20378.125000</td>\n",
              "    </tr>\n",
              "    <tr>\n",
              "      <th>44</th>\n",
              "      <td>80</td>\n",
              "      <td>18444.310905</td>\n",
              "      <td>8996.097701</td>\n",
              "    </tr>\n",
              "    <tr>\n",
              "      <th>45</th>\n",
              "      <td>81</td>\n",
              "      <td>31154.545455</td>\n",
              "      <td>26403.333333</td>\n",
              "    </tr>\n",
              "    <tr>\n",
              "      <th>46</th>\n",
              "      <td>82</td>\n",
              "      <td>13562.666667</td>\n",
              "      <td>4545.652174</td>\n",
              "    </tr>\n",
              "    <tr>\n",
              "      <th>47</th>\n",
              "      <td>90</td>\n",
              "      <td>26106.382979</td>\n",
              "      <td>4500.000000</td>\n",
              "    </tr>\n",
              "    <tr>\n",
              "      <th>48</th>\n",
              "      <td>91</td>\n",
              "      <td>37000.000000</td>\n",
              "      <td>0.000000</td>\n",
              "    </tr>\n",
              "    <tr>\n",
              "      <th>49</th>\n",
              "      <td>92</td>\n",
              "      <td>26045.454545</td>\n",
              "      <td>14000.000000</td>\n",
              "    </tr>\n",
              "  </tbody>\n",
              "</table>\n",
              "</div>"
            ],
            "text/plain": [
              "    ocupa_cno  ingresos Varones  ingresos Mujeres\n",
              "0           1      28000.000000      17500.000000\n",
              "1           3      29450.000000      32166.666667\n",
              "2           4      50000.000000      20000.000000\n",
              "3           5      24772.413793      23000.000000\n",
              "4           6      23306.493506      19729.166667\n",
              "5           7      24798.360656      20200.000000\n",
              "6          10      22100.114815      20776.208459\n",
              "7          11      27891.176471      23975.675676\n",
              "8          20      24044.135593      20526.737968\n",
              "9          30      17532.597403      11850.772429\n",
              "10         31      17568.750000       4777.777778\n",
              "11         32      17332.400000      18188.888889\n",
              "12         33       6878.048780       4143.750000\n",
              "13         34      18577.619048      14823.529412\n",
              "14         35      19916.666667      20040.000000\n",
              "15         36      19852.906977      20250.000000\n",
              "16         39      15000.000000          0.000000\n",
              "17         40      24915.584416      19243.037975\n",
              "18         41      18442.280000      15586.818616\n",
              "19         42      23341.666667      21172.222222\n",
              "20         43      27125.000000      31187.500000\n",
              "21         44      25777.777778      24500.000000\n",
              "22         45      21916.739130      22000.000000\n",
              "23         46      23600.000000      16710.000000\n",
              "24         47      17077.660714      16554.545455\n",
              "25         48      24698.701299      24118.750000\n",
              "26         49      28684.210526      21200.000000\n",
              "27         50      19320.800000      12316.666667\n",
              "28         51      16346.666667       9300.000000\n",
              "29         52       2000.000000      17500.000000\n",
              "30         53      13022.586207       9459.064327\n",
              "31         54      15600.000000      16662.500000\n",
              "32         55      15106.666667       5385.634744\n",
              "33         56      14144.961353      10396.825893\n",
              "34         57      10357.142857       7109.593074\n",
              "35         58       8274.444444      10118.181818\n",
              "36         60      11201.612903       6590.000000\n",
              "37         61      13733.333333      30000.000000\n",
              "38         62       8137.500000       6800.000000\n",
              "39         63      22750.000000       7557.500000\n",
              "40         64       7733.333333          0.000000\n",
              "41         70      36071.428571          0.000000\n",
              "42         71      27000.000000      15000.000000\n",
              "43         72      13704.965649      20378.125000\n",
              "44         80      18444.310905       8996.097701\n",
              "45         81      31154.545455      26403.333333\n",
              "46         82      13562.666667       4545.652174\n",
              "47         90      26106.382979       4500.000000\n",
              "48         91      37000.000000          0.000000\n",
              "49         92      26045.454545      14000.000000"
            ]
          },
          "metadata": {},
          "execution_count": 23
        }
      ]
    },
    {
      "cell_type": "markdown",
      "source": [
        "De esta forma, me quedé con 50 ocupaciones distintas. Ahora calcularé los ratios entre mujeres y hombres para una misma ocupación. Luego, me quedo con los más bajos y los más altos para ver en qué ocupaciones las mujeres ganan menos que los hombres y en cuáles ganan más (en promedio)."
      ],
      "metadata": {
        "id": "j6Up3b3vVQHG"
      }
    },
    {
      "cell_type": "code",
      "source": [
        "occupation_mean['ratio_ingresos'] = occupation_mean.apply(lambda x: x['ingresos Mujeres']/x['ingresos Varones'], axis=1)\n",
        "occupation_mean = occupation_mean.sort_values(by=['ratio_ingresos'])\n",
        "occupation_mean"
      ],
      "metadata": {
        "colab": {
          "base_uri": "https://localhost:8080/",
          "height": 1000
        },
        "id": "27rLxHHhCd-j",
        "outputId": "8cbac6b8-225a-4992-d923-429f04952787"
      },
      "execution_count": 24,
      "outputs": [
        {
          "output_type": "execute_result",
          "data": {
            "text/html": [
              "<div>\n",
              "<style scoped>\n",
              "    .dataframe tbody tr th:only-of-type {\n",
              "        vertical-align: middle;\n",
              "    }\n",
              "\n",
              "    .dataframe tbody tr th {\n",
              "        vertical-align: top;\n",
              "    }\n",
              "\n",
              "    .dataframe thead th {\n",
              "        text-align: right;\n",
              "    }\n",
              "</style>\n",
              "<table border=\"1\" class=\"dataframe\">\n",
              "  <thead>\n",
              "    <tr style=\"text-align: right;\">\n",
              "      <th></th>\n",
              "      <th>ocupa_cno</th>\n",
              "      <th>ingresos Varones</th>\n",
              "      <th>ingresos Mujeres</th>\n",
              "      <th>ratio_ingresos</th>\n",
              "    </tr>\n",
              "  </thead>\n",
              "  <tbody>\n",
              "    <tr>\n",
              "      <th>41</th>\n",
              "      <td>70</td>\n",
              "      <td>36071.428571</td>\n",
              "      <td>0.000000</td>\n",
              "      <td>0.000000</td>\n",
              "    </tr>\n",
              "    <tr>\n",
              "      <th>40</th>\n",
              "      <td>64</td>\n",
              "      <td>7733.333333</td>\n",
              "      <td>0.000000</td>\n",
              "      <td>0.000000</td>\n",
              "    </tr>\n",
              "    <tr>\n",
              "      <th>48</th>\n",
              "      <td>91</td>\n",
              "      <td>37000.000000</td>\n",
              "      <td>0.000000</td>\n",
              "      <td>0.000000</td>\n",
              "    </tr>\n",
              "    <tr>\n",
              "      <th>16</th>\n",
              "      <td>39</td>\n",
              "      <td>15000.000000</td>\n",
              "      <td>0.000000</td>\n",
              "      <td>0.000000</td>\n",
              "    </tr>\n",
              "    <tr>\n",
              "      <th>47</th>\n",
              "      <td>90</td>\n",
              "      <td>26106.382979</td>\n",
              "      <td>4500.000000</td>\n",
              "      <td>0.172372</td>\n",
              "    </tr>\n",
              "    <tr>\n",
              "      <th>10</th>\n",
              "      <td>31</td>\n",
              "      <td>17568.750000</td>\n",
              "      <td>4777.777778</td>\n",
              "      <td>0.271948</td>\n",
              "    </tr>\n",
              "    <tr>\n",
              "      <th>39</th>\n",
              "      <td>63</td>\n",
              "      <td>22750.000000</td>\n",
              "      <td>7557.500000</td>\n",
              "      <td>0.332198</td>\n",
              "    </tr>\n",
              "    <tr>\n",
              "      <th>46</th>\n",
              "      <td>82</td>\n",
              "      <td>13562.666667</td>\n",
              "      <td>4545.652174</td>\n",
              "      <td>0.335159</td>\n",
              "    </tr>\n",
              "    <tr>\n",
              "      <th>32</th>\n",
              "      <td>55</td>\n",
              "      <td>15106.666667</td>\n",
              "      <td>5385.634744</td>\n",
              "      <td>0.356507</td>\n",
              "    </tr>\n",
              "    <tr>\n",
              "      <th>2</th>\n",
              "      <td>4</td>\n",
              "      <td>50000.000000</td>\n",
              "      <td>20000.000000</td>\n",
              "      <td>0.400000</td>\n",
              "    </tr>\n",
              "    <tr>\n",
              "      <th>44</th>\n",
              "      <td>80</td>\n",
              "      <td>18444.310905</td>\n",
              "      <td>8996.097701</td>\n",
              "      <td>0.487744</td>\n",
              "    </tr>\n",
              "    <tr>\n",
              "      <th>49</th>\n",
              "      <td>92</td>\n",
              "      <td>26045.454545</td>\n",
              "      <td>14000.000000</td>\n",
              "      <td>0.537522</td>\n",
              "    </tr>\n",
              "    <tr>\n",
              "      <th>42</th>\n",
              "      <td>71</td>\n",
              "      <td>27000.000000</td>\n",
              "      <td>15000.000000</td>\n",
              "      <td>0.555556</td>\n",
              "    </tr>\n",
              "    <tr>\n",
              "      <th>28</th>\n",
              "      <td>51</td>\n",
              "      <td>16346.666667</td>\n",
              "      <td>9300.000000</td>\n",
              "      <td>0.568923</td>\n",
              "    </tr>\n",
              "    <tr>\n",
              "      <th>36</th>\n",
              "      <td>60</td>\n",
              "      <td>11201.612903</td>\n",
              "      <td>6590.000000</td>\n",
              "      <td>0.588308</td>\n",
              "    </tr>\n",
              "    <tr>\n",
              "      <th>12</th>\n",
              "      <td>33</td>\n",
              "      <td>6878.048780</td>\n",
              "      <td>4143.750000</td>\n",
              "      <td>0.602460</td>\n",
              "    </tr>\n",
              "    <tr>\n",
              "      <th>0</th>\n",
              "      <td>1</td>\n",
              "      <td>28000.000000</td>\n",
              "      <td>17500.000000</td>\n",
              "      <td>0.625000</td>\n",
              "    </tr>\n",
              "    <tr>\n",
              "      <th>27</th>\n",
              "      <td>50</td>\n",
              "      <td>19320.800000</td>\n",
              "      <td>12316.666667</td>\n",
              "      <td>0.637482</td>\n",
              "    </tr>\n",
              "    <tr>\n",
              "      <th>9</th>\n",
              "      <td>30</td>\n",
              "      <td>17532.597403</td>\n",
              "      <td>11850.772429</td>\n",
              "      <td>0.675928</td>\n",
              "    </tr>\n",
              "    <tr>\n",
              "      <th>34</th>\n",
              "      <td>57</td>\n",
              "      <td>10357.142857</td>\n",
              "      <td>7109.593074</td>\n",
              "      <td>0.686443</td>\n",
              "    </tr>\n",
              "    <tr>\n",
              "      <th>23</th>\n",
              "      <td>46</td>\n",
              "      <td>23600.000000</td>\n",
              "      <td>16710.000000</td>\n",
              "      <td>0.708051</td>\n",
              "    </tr>\n",
              "    <tr>\n",
              "      <th>30</th>\n",
              "      <td>53</td>\n",
              "      <td>13022.586207</td>\n",
              "      <td>9459.064327</td>\n",
              "      <td>0.726358</td>\n",
              "    </tr>\n",
              "    <tr>\n",
              "      <th>33</th>\n",
              "      <td>56</td>\n",
              "      <td>14144.961353</td>\n",
              "      <td>10396.825893</td>\n",
              "      <td>0.735020</td>\n",
              "    </tr>\n",
              "    <tr>\n",
              "      <th>26</th>\n",
              "      <td>49</td>\n",
              "      <td>28684.210526</td>\n",
              "      <td>21200.000000</td>\n",
              "      <td>0.739083</td>\n",
              "    </tr>\n",
              "    <tr>\n",
              "      <th>17</th>\n",
              "      <td>40</td>\n",
              "      <td>24915.584416</td>\n",
              "      <td>19243.037975</td>\n",
              "      <td>0.772329</td>\n",
              "    </tr>\n",
              "    <tr>\n",
              "      <th>13</th>\n",
              "      <td>34</td>\n",
              "      <td>18577.619048</td>\n",
              "      <td>14823.529412</td>\n",
              "      <td>0.797924</td>\n",
              "    </tr>\n",
              "    <tr>\n",
              "      <th>5</th>\n",
              "      <td>7</td>\n",
              "      <td>24798.360656</td>\n",
              "      <td>20200.000000</td>\n",
              "      <td>0.814570</td>\n",
              "    </tr>\n",
              "    <tr>\n",
              "      <th>38</th>\n",
              "      <td>62</td>\n",
              "      <td>8137.500000</td>\n",
              "      <td>6800.000000</td>\n",
              "      <td>0.835637</td>\n",
              "    </tr>\n",
              "    <tr>\n",
              "      <th>18</th>\n",
              "      <td>41</td>\n",
              "      <td>18442.280000</td>\n",
              "      <td>15586.818616</td>\n",
              "      <td>0.845168</td>\n",
              "    </tr>\n",
              "    <tr>\n",
              "      <th>4</th>\n",
              "      <td>6</td>\n",
              "      <td>23306.493506</td>\n",
              "      <td>19729.166667</td>\n",
              "      <td>0.846509</td>\n",
              "    </tr>\n",
              "    <tr>\n",
              "      <th>45</th>\n",
              "      <td>81</td>\n",
              "      <td>31154.545455</td>\n",
              "      <td>26403.333333</td>\n",
              "      <td>0.847495</td>\n",
              "    </tr>\n",
              "    <tr>\n",
              "      <th>8</th>\n",
              "      <td>20</td>\n",
              "      <td>24044.135593</td>\n",
              "      <td>20526.737968</td>\n",
              "      <td>0.853711</td>\n",
              "    </tr>\n",
              "    <tr>\n",
              "      <th>7</th>\n",
              "      <td>11</td>\n",
              "      <td>27891.176471</td>\n",
              "      <td>23975.675676</td>\n",
              "      <td>0.859615</td>\n",
              "    </tr>\n",
              "    <tr>\n",
              "      <th>19</th>\n",
              "      <td>42</td>\n",
              "      <td>23341.666667</td>\n",
              "      <td>21172.222222</td>\n",
              "      <td>0.907057</td>\n",
              "    </tr>\n",
              "    <tr>\n",
              "      <th>3</th>\n",
              "      <td>5</td>\n",
              "      <td>24772.413793</td>\n",
              "      <td>23000.000000</td>\n",
              "      <td>0.928452</td>\n",
              "    </tr>\n",
              "    <tr>\n",
              "      <th>6</th>\n",
              "      <td>10</td>\n",
              "      <td>22100.114815</td>\n",
              "      <td>20776.208459</td>\n",
              "      <td>0.940095</td>\n",
              "    </tr>\n",
              "    <tr>\n",
              "      <th>21</th>\n",
              "      <td>44</td>\n",
              "      <td>25777.777778</td>\n",
              "      <td>24500.000000</td>\n",
              "      <td>0.950431</td>\n",
              "    </tr>\n",
              "    <tr>\n",
              "      <th>24</th>\n",
              "      <td>47</td>\n",
              "      <td>17077.660714</td>\n",
              "      <td>16554.545455</td>\n",
              "      <td>0.969368</td>\n",
              "    </tr>\n",
              "    <tr>\n",
              "      <th>25</th>\n",
              "      <td>48</td>\n",
              "      <td>24698.701299</td>\n",
              "      <td>24118.750000</td>\n",
              "      <td>0.976519</td>\n",
              "    </tr>\n",
              "    <tr>\n",
              "      <th>22</th>\n",
              "      <td>45</td>\n",
              "      <td>21916.739130</td>\n",
              "      <td>22000.000000</td>\n",
              "      <td>1.003799</td>\n",
              "    </tr>\n",
              "    <tr>\n",
              "      <th>14</th>\n",
              "      <td>35</td>\n",
              "      <td>19916.666667</td>\n",
              "      <td>20040.000000</td>\n",
              "      <td>1.006192</td>\n",
              "    </tr>\n",
              "    <tr>\n",
              "      <th>15</th>\n",
              "      <td>36</td>\n",
              "      <td>19852.906977</td>\n",
              "      <td>20250.000000</td>\n",
              "      <td>1.020002</td>\n",
              "    </tr>\n",
              "    <tr>\n",
              "      <th>11</th>\n",
              "      <td>32</td>\n",
              "      <td>17332.400000</td>\n",
              "      <td>18188.888889</td>\n",
              "      <td>1.049415</td>\n",
              "    </tr>\n",
              "    <tr>\n",
              "      <th>31</th>\n",
              "      <td>54</td>\n",
              "      <td>15600.000000</td>\n",
              "      <td>16662.500000</td>\n",
              "      <td>1.068109</td>\n",
              "    </tr>\n",
              "    <tr>\n",
              "      <th>1</th>\n",
              "      <td>3</td>\n",
              "      <td>29450.000000</td>\n",
              "      <td>32166.666667</td>\n",
              "      <td>1.092247</td>\n",
              "    </tr>\n",
              "    <tr>\n",
              "      <th>20</th>\n",
              "      <td>43</td>\n",
              "      <td>27125.000000</td>\n",
              "      <td>31187.500000</td>\n",
              "      <td>1.149770</td>\n",
              "    </tr>\n",
              "    <tr>\n",
              "      <th>35</th>\n",
              "      <td>58</td>\n",
              "      <td>8274.444444</td>\n",
              "      <td>10118.181818</td>\n",
              "      <td>1.222823</td>\n",
              "    </tr>\n",
              "    <tr>\n",
              "      <th>43</th>\n",
              "      <td>72</td>\n",
              "      <td>13704.965649</td>\n",
              "      <td>20378.125000</td>\n",
              "      <td>1.486915</td>\n",
              "    </tr>\n",
              "    <tr>\n",
              "      <th>37</th>\n",
              "      <td>61</td>\n",
              "      <td>13733.333333</td>\n",
              "      <td>30000.000000</td>\n",
              "      <td>2.184466</td>\n",
              "    </tr>\n",
              "    <tr>\n",
              "      <th>29</th>\n",
              "      <td>52</td>\n",
              "      <td>2000.000000</td>\n",
              "      <td>17500.000000</td>\n",
              "      <td>8.750000</td>\n",
              "    </tr>\n",
              "  </tbody>\n",
              "</table>\n",
              "</div>"
            ],
            "text/plain": [
              "    ocupa_cno  ingresos Varones  ingresos Mujeres  ratio_ingresos\n",
              "41         70      36071.428571          0.000000        0.000000\n",
              "40         64       7733.333333          0.000000        0.000000\n",
              "48         91      37000.000000          0.000000        0.000000\n",
              "16         39      15000.000000          0.000000        0.000000\n",
              "47         90      26106.382979       4500.000000        0.172372\n",
              "10         31      17568.750000       4777.777778        0.271948\n",
              "39         63      22750.000000       7557.500000        0.332198\n",
              "46         82      13562.666667       4545.652174        0.335159\n",
              "32         55      15106.666667       5385.634744        0.356507\n",
              "2           4      50000.000000      20000.000000        0.400000\n",
              "44         80      18444.310905       8996.097701        0.487744\n",
              "49         92      26045.454545      14000.000000        0.537522\n",
              "42         71      27000.000000      15000.000000        0.555556\n",
              "28         51      16346.666667       9300.000000        0.568923\n",
              "36         60      11201.612903       6590.000000        0.588308\n",
              "12         33       6878.048780       4143.750000        0.602460\n",
              "0           1      28000.000000      17500.000000        0.625000\n",
              "27         50      19320.800000      12316.666667        0.637482\n",
              "9          30      17532.597403      11850.772429        0.675928\n",
              "34         57      10357.142857       7109.593074        0.686443\n",
              "23         46      23600.000000      16710.000000        0.708051\n",
              "30         53      13022.586207       9459.064327        0.726358\n",
              "33         56      14144.961353      10396.825893        0.735020\n",
              "26         49      28684.210526      21200.000000        0.739083\n",
              "17         40      24915.584416      19243.037975        0.772329\n",
              "13         34      18577.619048      14823.529412        0.797924\n",
              "5           7      24798.360656      20200.000000        0.814570\n",
              "38         62       8137.500000       6800.000000        0.835637\n",
              "18         41      18442.280000      15586.818616        0.845168\n",
              "4           6      23306.493506      19729.166667        0.846509\n",
              "45         81      31154.545455      26403.333333        0.847495\n",
              "8          20      24044.135593      20526.737968        0.853711\n",
              "7          11      27891.176471      23975.675676        0.859615\n",
              "19         42      23341.666667      21172.222222        0.907057\n",
              "3           5      24772.413793      23000.000000        0.928452\n",
              "6          10      22100.114815      20776.208459        0.940095\n",
              "21         44      25777.777778      24500.000000        0.950431\n",
              "24         47      17077.660714      16554.545455        0.969368\n",
              "25         48      24698.701299      24118.750000        0.976519\n",
              "22         45      21916.739130      22000.000000        1.003799\n",
              "14         35      19916.666667      20040.000000        1.006192\n",
              "15         36      19852.906977      20250.000000        1.020002\n",
              "11         32      17332.400000      18188.888889        1.049415\n",
              "31         54      15600.000000      16662.500000        1.068109\n",
              "1           3      29450.000000      32166.666667        1.092247\n",
              "20         43      27125.000000      31187.500000        1.149770\n",
              "35         58       8274.444444      10118.181818        1.222823\n",
              "43         72      13704.965649      20378.125000        1.486915\n",
              "37         61      13733.333333      30000.000000        2.184466\n",
              "29         52       2000.000000      17500.000000        8.750000"
            ]
          },
          "metadata": {},
          "execution_count": 24
        }
      ]
    },
    {
      "cell_type": "markdown",
      "source": [
        "Se puede observar que en las primeras 4 ocupaciones no tengo presencia femenina. Éstas son: \"Desarrollo Tecnológico Productivo\", \"Sin especificar\", \"Producción Pesquera\", \"Producción Extractiva\". Me desprendo de ellas para hacer la comparación."
      ],
      "metadata": {
        "id": "Mw7-HhFON6qz"
      }
    },
    {
      "cell_type": "code",
      "source": [
        "occupation_mean = occupation_mean.iloc[4:,:]"
      ],
      "metadata": {
        "id": "OdOdTQ9zPRhD"
      },
      "execution_count": 25,
      "outputs": []
    },
    {
      "cell_type": "code",
      "source": [
        "occupation_mean[occupation_mean.ratio_ingresos>=1]['ratio_ingresos'].describe()"
      ],
      "metadata": {
        "colab": {
          "base_uri": "https://localhost:8080/"
        },
        "id": "qILG-IkJOsJf",
        "outputId": "60fbf7a0-f52f-46a9-ff6b-d4434d447f71"
      },
      "execution_count": 26,
      "outputs": [
        {
          "output_type": "execute_result",
          "data": {
            "text/plain": [
              "count    11.000000\n",
              "mean      1.912158\n",
              "std       2.294304\n",
              "min       1.003799\n",
              "25%       1.034709\n",
              "50%       1.092247\n",
              "75%       1.354869\n",
              "max       8.750000\n",
              "Name: ratio_ingresos, dtype: float64"
            ]
          },
          "metadata": {},
          "execution_count": 26
        }
      ]
    },
    {
      "cell_type": "markdown",
      "source": [
        "Solamente en 11 de 50 ocupaciones las mujeres ganan más que los hombres en promedio (20%). Veamos de qué ocupaciones se trata."
      ],
      "metadata": {
        "id": "p6FPTKRZPWhT"
      }
    },
    {
      "cell_type": "code",
      "source": [
        "occupation_mean_least = occupation_mean.head(n=5)\n",
        "occupation_mean_most = occupation_mean.tail(n=5)\n",
        "#occupation_mean_most = occupation_mean_most.sort_values(by=['ratio_ingresos'], ascending=False)\n",
        "occupation_mean_least , occupation_mean_most"
      ],
      "metadata": {
        "id": "NrA9cr2tIem7",
        "colab": {
          "base_uri": "https://localhost:8080/"
        },
        "outputId": "474e733a-348e-48f9-8aab-261f6ed44028"
      },
      "execution_count": 27,
      "outputs": [
        {
          "output_type": "execute_result",
          "data": {
            "text/plain": [
              "(    ocupa_cno  ingresos Varones  ingresos Mujeres  ratio_ingresos\n",
              " 47         90      26106.382979       4500.000000        0.172372\n",
              " 10         31      17568.750000       4777.777778        0.271948\n",
              " 39         63      22750.000000       7557.500000        0.332198\n",
              " 46         82      13562.666667       4545.652174        0.335159\n",
              " 32         55      15106.666667       5385.634744        0.356507,\n",
              "     ocupa_cno  ingresos Varones  ingresos Mujeres  ratio_ingresos\n",
              " 20         43      27125.000000      31187.500000        1.149770\n",
              " 35         58       8274.444444      10118.181818        1.222823\n",
              " 43         72      13704.965649      20378.125000        1.486915\n",
              " 37         61      13733.333333      30000.000000        2.184466\n",
              " 29         52       2000.000000      17500.000000        8.750000)"
            ]
          },
          "metadata": {},
          "execution_count": 27
        }
      ]
    },
    {
      "cell_type": "markdown",
      "source": [
        "Reemplazo los códigos por la correspondiente ubicación. Podemos encontrar la clasificación en: [CNO_2017](https://www.indec.gob.ar/ftp/cuadros/menusuperior/clasificadores/CNO_2017.pdf)"
      ],
      "metadata": {
        "id": "9v8KiY_KLsep"
      }
    },
    {
      "cell_type": "code",
      "source": [
        "occupation_mean_least[\"occupation\"] = ['Instalación y mantenimiento de maquinarias, equipos y sistemas de la producción de bienes',\n",
        "                                      'Corretaje comercial, venta domiciliaria, preventista, viajantes y promotores',\n",
        "                                      'Producción apícola-avícola y de otras especies menores',\n",
        "                                       'Reparación de bienes de consumo',\n",
        "                                       'Servicios domésticos']\n",
        "occupation_mean_most[\"occupation\"] = ['Asesoría y consultoría',\n",
        "                                      'Servicios varios',\n",
        "                                      'Construcción edilicia y de obras de infraestructura',\n",
        "                                      'Producción ganadera',\n",
        "                                      'Servicios de recreación']\n",
        "occupation_mean_least, occupation_mean_most                                     "
      ],
      "metadata": {
        "colab": {
          "base_uri": "https://localhost:8080/"
        },
        "id": "aWQi95gTMdPW",
        "outputId": "17ebe0cf-9848-4af1-ca68-8f8d92273356"
      },
      "execution_count": 28,
      "outputs": [
        {
          "output_type": "execute_result",
          "data": {
            "text/plain": [
              "(    ocupa_cno  ...                                         occupation\n",
              " 47         90  ...  Instalación y mantenimiento de maquinarias, eq...\n",
              " 10         31  ...  Corretaje comercial, venta domiciliaria, preve...\n",
              " 39         63  ...  Producción apícola-avícola y de otras especies...\n",
              " 46         82  ...                    Reparación de bienes de consumo\n",
              " 32         55  ...                               Servicios domésticos\n",
              " \n",
              " [5 rows x 5 columns],\n",
              "     ocupa_cno  ...                                         occupation\n",
              " 20         43  ...                             Asesoría y consultoría\n",
              " 35         58  ...                                   Servicios varios\n",
              " 43         72  ...  Construcción edilicia y de obras de infraestru...\n",
              " 37         61  ...                                Producción ganadera\n",
              " 29         52  ...                            Servicios de recreación\n",
              " \n",
              " [5 rows x 5 columns])"
            ]
          },
          "metadata": {},
          "execution_count": 28
        }
      ]
    },
    {
      "cell_type": "code",
      "source": [
        "plt.figure(figsize = (10,10))\n",
        "\n",
        "plt.subplot(2,1,1)\n",
        "plt.barh(range(5),occupation_mean_most.ratio_ingresos)\n",
        "plt.yticks(range(5),occupation_mean_most.occupation, fontsize = 10)\n",
        "plt.plot([1,1],[-0.5,4.5], '--',color = 'r')\n",
        "plt.xlim([0,2])\n",
        "plt.title('Mayores Ingresos Mujeres/Varones')\n",
        "\n",
        "plt.subplot(2,1,2)\n",
        "plt.barh(range(5),occupation_mean_least.ratio_ingresos)\n",
        "plt.yticks(range(5),occupation_mean_least.occupation, fontsize = 10)\n",
        "plt.plot([1,1],[-0.5,4.5], '--',color = 'r')\n",
        "plt.xlim([0,2])\n",
        "plt.title('Menores Ingresos Mujeres/Varones')"
      ],
      "metadata": {
        "colab": {
          "base_uri": "https://localhost:8080/",
          "height": 624
        },
        "id": "sJHRA6iz37Ck",
        "outputId": "c064e371-18d9-4dba-bfa1-e0912ad5a0bd"
      },
      "execution_count": 29,
      "outputs": [
        {
          "output_type": "execute_result",
          "data": {
            "text/plain": [
              "Text(0.5, 1.0, 'Menores Ingresos Mujeres/Varones')"
            ]
          },
          "metadata": {},
          "execution_count": 29
        },
        {
          "output_type": "display_data",
          "data": {
            "image/png": "[encoded data removed]",
            "text/plain": [
              "<Figure size 720x720 with 2 Axes>"
            ]
          },
          "metadata": {
            "needs_background": "light"
          }
        }
      ]
    },
    {
      "cell_type": "markdown",
      "source": [
        "Al observar los ingresos en promedio por ocupación de las mujeres respecto de los varones obtenemos resultados no sorprendentes, en comparación a cuando observamos respecto de los sectores laborales más generales. Sin embargo, me llama la atención la categoría \"Servicios Domésticos\". Esta ocupación ocupa un puesto bastante bajo, pero cuando habíamos observado por sector figuraba primera. Por eso, procedo a ver qué ocurre con las subcategorías."
      ],
      "metadata": {
        "id": "WaNE4kJz8EDW"
      }
    },
    {
      "cell_type": "code",
      "source": [
        "occupation_mean_V = df2[df2['C3P16.1'] == 1].groupby(['ocupa_cno']).mean().drop(columns=['C3P16.1','ramacaes_o'])   \n",
        "occupation_mean_M = df2[df2['C3P16.1'] == 2].groupby(['ocupa_cno']).mean().drop(columns=['C3P16.1','ramacaes_o'])\n",
        "\n",
        "occupation_mean_domestico = pd.concat([occupation_mean_V.rename(columns={\"ingreso_op\": \"ingresos Varones\"}), occupation_mean_M.rename(columns={\"ingreso_op\": \"ingresos Mujeres\"})], axis=1) \n",
        "occupation_mean_domestico['ratio_ingresos'] = occupation_mean_domestico.apply(lambda x: x['ingresos Mujeres']/x['ingresos Varones'], axis=1)\n",
        "occupation_mean_domestico = occupation_mean_domestico.reset_index().fillna(0)\n",
        "\n",
        "# La categoría servicios domésticos corresponde a los códigos con 55 unidades de mil.\n",
        "\n",
        "df_mask=occupation_mean_domestico['ocupa_cno']<56000\n",
        "filtered_df = occupation_mean_domestico[df_mask]\n",
        "df_mask=filtered_df['ocupa_cno']>=55000\n",
        "occupation_mean_domestico = filtered_df[df_mask]\n",
        "\n",
        "occupation_mean_domestico"
      ],
      "metadata": {
        "colab": {
          "base_uri": "https://localhost:8080/",
          "height": 143
        },
        "id": "MAZLmEoL7CcN",
        "outputId": "41cdd0c0-1d36-4ebb-e503-1ed61941d254"
      },
      "execution_count": 30,
      "outputs": [
        {
          "output_type": "execute_result",
          "data": {
            "text/html": [
              "<div>\n",
              "<style scoped>\n",
              "    .dataframe tbody tr th:only-of-type {\n",
              "        vertical-align: middle;\n",
              "    }\n",
              "\n",
              "    .dataframe tbody tr th {\n",
              "        vertical-align: top;\n",
              "    }\n",
              "\n",
              "    .dataframe thead th {\n",
              "        text-align: right;\n",
              "    }\n",
              "</style>\n",
              "<table border=\"1\" class=\"dataframe\">\n",
              "  <thead>\n",
              "    <tr style=\"text-align: right;\">\n",
              "      <th></th>\n",
              "      <th>ocupa_cno</th>\n",
              "      <th>ingresos Varones</th>\n",
              "      <th>ingresos Mujeres</th>\n",
              "      <th>ratio_ingresos</th>\n",
              "    </tr>\n",
              "  </thead>\n",
              "  <tbody>\n",
              "    <tr>\n",
              "      <th>168</th>\n",
              "      <td>55114</td>\n",
              "      <td>0.0</td>\n",
              "      <td>1200.000000</td>\n",
              "      <td>0.000000</td>\n",
              "    </tr>\n",
              "    <tr>\n",
              "      <th>169</th>\n",
              "      <td>55313</td>\n",
              "      <td>13800.0</td>\n",
              "      <td>0.000000</td>\n",
              "      <td>0.000000</td>\n",
              "    </tr>\n",
              "    <tr>\n",
              "      <th>170</th>\n",
              "      <td>55314</td>\n",
              "      <td>15760.0</td>\n",
              "      <td>5394.977679</td>\n",
              "      <td>0.342321</td>\n",
              "    </tr>\n",
              "  </tbody>\n",
              "</table>\n",
              "</div>"
            ],
            "text/plain": [
              "     ocupa_cno  ingresos Varones  ingresos Mujeres  ratio_ingresos\n",
              "168      55114               0.0       1200.000000        0.000000\n",
              "169      55313           13800.0          0.000000        0.000000\n",
              "170      55314           15760.0       5394.977679        0.342321"
            ]
          },
          "metadata": {},
          "execution_count": 30
        }
      ]
    },
    {
      "cell_type": "markdown",
      "source": [
        "Aquí observamos que existen tres ocupaciones dentro de la categoría \"Servicios domésticos\", según el CNO. Claramente se ve que los varones ganan mucho más. Sin embargo, el atributo \"ramacaes_o\" que habíamos utilizado para calcular el gap por sector corresponde al Clasificador de Actividades Económicas para Encuestas Sociodemográficas del Mercosur (CAES). Por lo tanto son clasificadores correspondientes a organismos distintos. Observemos si todos lo registros correspondientes a estas ocupaciones se encuentran dentro del sector \"Trabajo Doméstico\" según el CAES."
      ],
      "metadata": {
        "id": "7PYA9ERi_gfT"
      }
    },
    {
      "cell_type": "code",
      "source": [
        "df2[(df2['ocupa_cno'] == 55114) | (df2['ocupa_cno'] == 55313) | (df2['ocupa_cno'] == 55314)]['C3P16.1'].value_counts()"
      ],
      "metadata": {
        "colab": {
          "base_uri": "https://localhost:8080/"
        },
        "id": "SG96z0hlXYoD",
        "outputId": "a6c15e94-dece-4ff4-86fd-91420007ea16"
      },
      "execution_count": 31,
      "outputs": [
        {
          "output_type": "execute_result",
          "data": {
            "text/plain": [
              "2    449\n",
              "1     15\n",
              "Name: C3P16.1, dtype: int64"
            ]
          },
          "metadata": {},
          "execution_count": 31
        }
      ]
    },
    {
      "cell_type": "code",
      "source": [
        "df_dom = df2[(df2['ocupa_cno'] == 55114) | (df2['ocupa_cno'] == 55313) | (df2['ocupa_cno'] == 55314)].drop(['ocupa_cno'], axis=1)\n",
        "df_dom[df_dom['ramacaes_o'] == 11]['C3P16.1'].value_counts()"
      ],
      "metadata": {
        "colab": {
          "base_uri": "https://localhost:8080/"
        },
        "id": "hTtQCWCdYAxa",
        "outputId": "bbce0eef-c42e-49d4-dadc-0761411c86bc"
      },
      "execution_count": 32,
      "outputs": [
        {
          "output_type": "execute_result",
          "data": {
            "text/plain": [
              "2    443\n",
              "1      2\n",
              "Name: C3P16.1, dtype: int64"
            ]
          },
          "metadata": {},
          "execution_count": 32
        }
      ]
    },
    {
      "cell_type": "markdown",
      "source": [
        "Existen 464 registros correspondientes a \"Servicios Domésticos\" del CNO, de los cuales 445 se enmarcan en el sector \"Trabajo Doméstico\" del CAES. Por lo tanto, tenemos 19 registros que probablemente sean los responsables de la discrepancia obtenida. Llama la atención que un porcentaje tan chico afecte tanto. Veamos a qué sectores pertenecen."
      ],
      "metadata": {
        "id": "nXo9QPQCXbJ6"
      }
    },
    {
      "cell_type": "code",
      "source": [
        "df_dom_V = df_dom[df_dom['C3P16.1']==1].groupby(['ramacaes_o']).mean().reset_index()\n",
        "df_dom_M = df_dom[df_dom['C3P16.1']==2].groupby(['ramacaes_o']).mean().reset_index()\n",
        "df_dom = pd.concat([df_dom_V,df_dom_M])\n",
        "df_dom"
      ],
      "metadata": {
        "colab": {
          "base_uri": "https://localhost:8080/",
          "height": 457
        },
        "id": "nhgmwZeeOCHJ",
        "outputId": "b9f15e79-8ad1-45fe-8e4d-7644422e82cf"
      },
      "execution_count": 33,
      "outputs": [
        {
          "output_type": "execute_result",
          "data": {
            "text/html": [
              "<div>\n",
              "<style scoped>\n",
              "    .dataframe tbody tr th:only-of-type {\n",
              "        vertical-align: middle;\n",
              "    }\n",
              "\n",
              "    .dataframe tbody tr th {\n",
              "        vertical-align: top;\n",
              "    }\n",
              "\n",
              "    .dataframe thead th {\n",
              "        text-align: right;\n",
              "    }\n",
              "</style>\n",
              "<table border=\"1\" class=\"dataframe\">\n",
              "  <thead>\n",
              "    <tr style=\"text-align: right;\">\n",
              "      <th></th>\n",
              "      <th>ramacaes_o</th>\n",
              "      <th>C3P16.1</th>\n",
              "      <th>ingreso_op</th>\n",
              "    </tr>\n",
              "  </thead>\n",
              "  <tbody>\n",
              "    <tr>\n",
              "      <th>0</th>\n",
              "      <td>2</td>\n",
              "      <td>1.0</td>\n",
              "      <td>40000.000000</td>\n",
              "    </tr>\n",
              "    <tr>\n",
              "      <th>1</th>\n",
              "      <td>3</td>\n",
              "      <td>1.0</td>\n",
              "      <td>8000.000000</td>\n",
              "    </tr>\n",
              "    <tr>\n",
              "      <th>2</th>\n",
              "      <td>4</td>\n",
              "      <td>1.0</td>\n",
              "      <td>48000.000000</td>\n",
              "    </tr>\n",
              "    <tr>\n",
              "      <th>3</th>\n",
              "      <td>5</td>\n",
              "      <td>1.0</td>\n",
              "      <td>13800.000000</td>\n",
              "    </tr>\n",
              "    <tr>\n",
              "      <th>4</th>\n",
              "      <td>6</td>\n",
              "      <td>1.0</td>\n",
              "      <td>7000.000000</td>\n",
              "    </tr>\n",
              "    <tr>\n",
              "      <th>5</th>\n",
              "      <td>8</td>\n",
              "      <td>1.0</td>\n",
              "      <td>14000.000000</td>\n",
              "    </tr>\n",
              "    <tr>\n",
              "      <th>6</th>\n",
              "      <td>10</td>\n",
              "      <td>1.0</td>\n",
              "      <td>20000.000000</td>\n",
              "    </tr>\n",
              "    <tr>\n",
              "      <th>7</th>\n",
              "      <td>11</td>\n",
              "      <td>1.0</td>\n",
              "      <td>2300.000000</td>\n",
              "    </tr>\n",
              "    <tr>\n",
              "      <th>0</th>\n",
              "      <td>5</td>\n",
              "      <td>2.0</td>\n",
              "      <td>3700.000000</td>\n",
              "    </tr>\n",
              "    <tr>\n",
              "      <th>1</th>\n",
              "      <td>7</td>\n",
              "      <td>2.0</td>\n",
              "      <td>13100.000000</td>\n",
              "    </tr>\n",
              "    <tr>\n",
              "      <th>2</th>\n",
              "      <td>9</td>\n",
              "      <td>2.0</td>\n",
              "      <td>18000.000000</td>\n",
              "    </tr>\n",
              "    <tr>\n",
              "      <th>3</th>\n",
              "      <td>10</td>\n",
              "      <td>2.0</td>\n",
              "      <td>14250.000000</td>\n",
              "    </tr>\n",
              "    <tr>\n",
              "      <th>4</th>\n",
              "      <td>11</td>\n",
              "      <td>2.0</td>\n",
              "      <td>5286.117381</td>\n",
              "    </tr>\n",
              "  </tbody>\n",
              "</table>\n",
              "</div>"
            ],
            "text/plain": [
              "   ramacaes_o  C3P16.1    ingreso_op\n",
              "0           2      1.0  40000.000000\n",
              "1           3      1.0   8000.000000\n",
              "2           4      1.0  48000.000000\n",
              "3           5      1.0  13800.000000\n",
              "4           6      1.0   7000.000000\n",
              "5           8      1.0  14000.000000\n",
              "6          10      1.0  20000.000000\n",
              "7          11      1.0   2300.000000\n",
              "0           5      2.0   3700.000000\n",
              "1           7      2.0  13100.000000\n",
              "2           9      2.0  18000.000000\n",
              "3          10      2.0  14250.000000\n",
              "4          11      2.0   5286.117381"
            ]
          },
          "metadata": {},
          "execution_count": 33
        }
      ]
    },
    {
      "cell_type": "code",
      "source": [
        "sector_CAES = pd.Series(sector_mean_ratio[\"sector\"])\n",
        "aux = []\n",
        "for x in df_dom['ramacaes_o']:\n",
        "    aux.append(sector_CAES[x])\n",
        "\n",
        "df_dom['sector'] = aux\n",
        "df_dom = df_dom.drop(['ramacaes_o'], axis=1)\n",
        "df_dom"
      ],
      "metadata": {
        "colab": {
          "base_uri": "https://localhost:8080/",
          "height": 457
        },
        "id": "j2Bo1TT4OCC9",
        "outputId": "edbd08d0-e6d9-48da-a6e9-77f24ce7e5fa"
      },
      "execution_count": 34,
      "outputs": [
        {
          "output_type": "execute_result",
          "data": {
            "text/html": [
              "<div>\n",
              "<style scoped>\n",
              "    .dataframe tbody tr th:only-of-type {\n",
              "        vertical-align: middle;\n",
              "    }\n",
              "\n",
              "    .dataframe tbody tr th {\n",
              "        vertical-align: top;\n",
              "    }\n",
              "\n",
              "    .dataframe thead th {\n",
              "        text-align: right;\n",
              "    }\n",
              "</style>\n",
              "<table border=\"1\" class=\"dataframe\">\n",
              "  <thead>\n",
              "    <tr style=\"text-align: right;\">\n",
              "      <th></th>\n",
              "      <th>C3P16.1</th>\n",
              "      <th>ingreso_op</th>\n",
              "      <th>sector</th>\n",
              "    </tr>\n",
              "  </thead>\n",
              "  <tbody>\n",
              "    <tr>\n",
              "      <th>0</th>\n",
              "      <td>1.0</td>\n",
              "      <td>40000.000000</td>\n",
              "      <td>Industria manufacturera</td>\n",
              "    </tr>\n",
              "    <tr>\n",
              "      <th>1</th>\n",
              "      <td>1.0</td>\n",
              "      <td>8000.000000</td>\n",
              "      <td>Construcción</td>\n",
              "    </tr>\n",
              "    <tr>\n",
              "      <th>2</th>\n",
              "      <td>1.0</td>\n",
              "      <td>48000.000000</td>\n",
              "      <td>Comercio</td>\n",
              "    </tr>\n",
              "    <tr>\n",
              "      <th>3</th>\n",
              "      <td>1.0</td>\n",
              "      <td>13800.000000</td>\n",
              "      <td>Hoteles y restaurantes</td>\n",
              "    </tr>\n",
              "    <tr>\n",
              "      <th>4</th>\n",
              "      <td>1.0</td>\n",
              "      <td>7000.000000</td>\n",
              "      <td>Transporte, alm y comunic</td>\n",
              "    </tr>\n",
              "    <tr>\n",
              "      <th>5</th>\n",
              "      <td>1.0</td>\n",
              "      <td>14000.000000</td>\n",
              "      <td>Administración pública y defensa</td>\n",
              "    </tr>\n",
              "    <tr>\n",
              "      <th>6</th>\n",
              "      <td>1.0</td>\n",
              "      <td>20000.000000</td>\n",
              "      <td>Servicios sociales y de salud</td>\n",
              "    </tr>\n",
              "    <tr>\n",
              "      <th>7</th>\n",
              "      <td>1.0</td>\n",
              "      <td>2300.000000</td>\n",
              "      <td>Trabajo doméstico</td>\n",
              "    </tr>\n",
              "    <tr>\n",
              "      <th>0</th>\n",
              "      <td>2.0</td>\n",
              "      <td>3700.000000</td>\n",
              "      <td>Hoteles y restaurantes</td>\n",
              "    </tr>\n",
              "    <tr>\n",
              "      <th>1</th>\n",
              "      <td>2.0</td>\n",
              "      <td>13100.000000</td>\n",
              "      <td>Serv financ, inm, alq y emp</td>\n",
              "    </tr>\n",
              "    <tr>\n",
              "      <th>2</th>\n",
              "      <td>2.0</td>\n",
              "      <td>18000.000000</td>\n",
              "      <td>Enseñanza</td>\n",
              "    </tr>\n",
              "    <tr>\n",
              "      <th>3</th>\n",
              "      <td>2.0</td>\n",
              "      <td>14250.000000</td>\n",
              "      <td>Servicios sociales y de salud</td>\n",
              "    </tr>\n",
              "    <tr>\n",
              "      <th>4</th>\n",
              "      <td>2.0</td>\n",
              "      <td>5286.117381</td>\n",
              "      <td>Trabajo doméstico</td>\n",
              "    </tr>\n",
              "  </tbody>\n",
              "</table>\n",
              "</div>"
            ],
            "text/plain": [
              "   C3P16.1    ingreso_op                            sector\n",
              "0      1.0  40000.000000           Industria manufacturera\n",
              "1      1.0   8000.000000                      Construcción\n",
              "2      1.0  48000.000000                          Comercio\n",
              "3      1.0  13800.000000            Hoteles y restaurantes\n",
              "4      1.0   7000.000000         Transporte, alm y comunic\n",
              "5      1.0  14000.000000  Administración pública y defensa\n",
              "6      1.0  20000.000000     Servicios sociales y de salud\n",
              "7      1.0   2300.000000                 Trabajo doméstico\n",
              "0      2.0   3700.000000            Hoteles y restaurantes\n",
              "1      2.0  13100.000000       Serv financ, inm, alq y emp\n",
              "2      2.0  18000.000000                         Enseñanza\n",
              "3      2.0  14250.000000     Servicios sociales y de salud\n",
              "4      2.0   5286.117381                 Trabajo doméstico"
            ]
          },
          "metadata": {},
          "execution_count": 34
        }
      ]
    },
    {
      "cell_type": "code",
      "source": [
        "df_dom_V = df_dom[df_dom['C3P16.1']==1].drop(['C3P16.1'], axis=1).rename(columns={\"ingreso_op\": \"Ingresos Varones\"})\n",
        "df_dom_M = df_dom[df_dom['C3P16.1']==2].drop(['C3P16.1'], axis=1).rename(columns={\"ingreso_op\": \"Ingresos Mujeres\"})\n",
        "df_dom2 = pd.merge(df_dom_V, df_dom_M, on=\"sector\", how=\"outer\")\n",
        "df_dom2"
      ],
      "metadata": {
        "colab": {
          "base_uri": "https://localhost:8080/",
          "height": 363
        },
        "id": "_Lx6SscENi4O",
        "outputId": "77deafab-c7de-4422-cffb-ba1df38173df"
      },
      "execution_count": 35,
      "outputs": [
        {
          "output_type": "execute_result",
          "data": {
            "text/html": [
              "<div>\n",
              "<style scoped>\n",
              "    .dataframe tbody tr th:only-of-type {\n",
              "        vertical-align: middle;\n",
              "    }\n",
              "\n",
              "    .dataframe tbody tr th {\n",
              "        vertical-align: top;\n",
              "    }\n",
              "\n",
              "    .dataframe thead th {\n",
              "        text-align: right;\n",
              "    }\n",
              "</style>\n",
              "<table border=\"1\" class=\"dataframe\">\n",
              "  <thead>\n",
              "    <tr style=\"text-align: right;\">\n",
              "      <th></th>\n",
              "      <th>Ingresos Varones</th>\n",
              "      <th>sector</th>\n",
              "      <th>Ingresos Mujeres</th>\n",
              "    </tr>\n",
              "  </thead>\n",
              "  <tbody>\n",
              "    <tr>\n",
              "      <th>0</th>\n",
              "      <td>40000.0</td>\n",
              "      <td>Industria manufacturera</td>\n",
              "      <td>NaN</td>\n",
              "    </tr>\n",
              "    <tr>\n",
              "      <th>1</th>\n",
              "      <td>8000.0</td>\n",
              "      <td>Construcción</td>\n",
              "      <td>NaN</td>\n",
              "    </tr>\n",
              "    <tr>\n",
              "      <th>2</th>\n",
              "      <td>48000.0</td>\n",
              "      <td>Comercio</td>\n",
              "      <td>NaN</td>\n",
              "    </tr>\n",
              "    <tr>\n",
              "      <th>3</th>\n",
              "      <td>13800.0</td>\n",
              "      <td>Hoteles y restaurantes</td>\n",
              "      <td>3700.000000</td>\n",
              "    </tr>\n",
              "    <tr>\n",
              "      <th>4</th>\n",
              "      <td>7000.0</td>\n",
              "      <td>Transporte, alm y comunic</td>\n",
              "      <td>NaN</td>\n",
              "    </tr>\n",
              "    <tr>\n",
              "      <th>5</th>\n",
              "      <td>14000.0</td>\n",
              "      <td>Administración pública y defensa</td>\n",
              "      <td>NaN</td>\n",
              "    </tr>\n",
              "    <tr>\n",
              "      <th>6</th>\n",
              "      <td>20000.0</td>\n",
              "      <td>Servicios sociales y de salud</td>\n",
              "      <td>14250.000000</td>\n",
              "    </tr>\n",
              "    <tr>\n",
              "      <th>7</th>\n",
              "      <td>2300.0</td>\n",
              "      <td>Trabajo doméstico</td>\n",
              "      <td>5286.117381</td>\n",
              "    </tr>\n",
              "    <tr>\n",
              "      <th>8</th>\n",
              "      <td>NaN</td>\n",
              "      <td>Serv financ, inm, alq y emp</td>\n",
              "      <td>13100.000000</td>\n",
              "    </tr>\n",
              "    <tr>\n",
              "      <th>9</th>\n",
              "      <td>NaN</td>\n",
              "      <td>Enseñanza</td>\n",
              "      <td>18000.000000</td>\n",
              "    </tr>\n",
              "  </tbody>\n",
              "</table>\n",
              "</div>"
            ],
            "text/plain": [
              "   Ingresos Varones                            sector  Ingresos Mujeres\n",
              "0           40000.0           Industria manufacturera               NaN\n",
              "1            8000.0                      Construcción               NaN\n",
              "2           48000.0                          Comercio               NaN\n",
              "3           13800.0            Hoteles y restaurantes       3700.000000\n",
              "4            7000.0         Transporte, alm y comunic               NaN\n",
              "5           14000.0  Administración pública y defensa               NaN\n",
              "6           20000.0     Servicios sociales y de salud      14250.000000\n",
              "7            2300.0                 Trabajo doméstico       5286.117381\n",
              "8               NaN       Serv financ, inm, alq y emp      13100.000000\n",
              "9               NaN                         Enseñanza      18000.000000"
            ]
          },
          "metadata": {},
          "execution_count": 35
        }
      ]
    },
    {
      "cell_type": "code",
      "source": [
        "ind = np.arange(len(df_dom2))\n",
        "width = 0.4\n",
        "\n",
        "fig, ax = plt.subplots(figsize=(10,10))\n",
        "ax.barh(ind, df_dom2[\"Ingresos Varones\"], width, color='red', label='Varones')\n",
        "ax.barh(ind + width, df_dom2[\"Ingresos Mujeres\"], width, color='green', label='Mujeres')\n",
        "\n",
        "ax.set(yticks=ind + width, yticklabels=df_dom2.sector, ylim=[2*width - 1, len(df_dom2)])\n",
        "ax.legend(fontsize=15)\n",
        "\n",
        "plt.show()"
      ],
      "metadata": {
        "colab": {
          "base_uri": "https://localhost:8080/",
          "height": 592
        },
        "id": "GT0nhsGlSDo9",
        "outputId": "35969f4c-9d6a-491b-b164-79815590ffe1"
      },
      "execution_count": 36,
      "outputs": [
        {
          "output_type": "display_data",
          "data": {
            "image/png": "[encoded data removed]",
            "text/plain": [
              "<Figure size 720x720 with 1 Axes>"
            ]
          },
          "metadata": {
            "needs_background": "light"
          }
        }
      ]
    },
    {
      "cell_type": "markdown",
      "source": [
        "Vemos que hay muchos sectores de CAES que corresponden a la misma ocupación del CNO (\"Servicios domésticos\") y que además corresponden a sectores donde se gana mucho más que en \"Trabajo Doméstico\". Por lo tanto, al realizar el promedio, por más que se trate de un número bajo afectan considerablemente. En el sector \"Trabajo Doméstico\" del CAES, las mujeres ganan más que los varones tal cual podíamos observar al principio.\n",
        "\n",
        "De aquí podemos observar que registros mal incluidos, pueden llevar a conclusiones erróneas si no los tratamos con cuidado. Incluso cuando el número es muy bajo respecto al total. Si nos hubiésemos guiado solamente por el clasificador del CNO podríamos haber concluido erróneamente que las mujeres ganan menos que los hombres en \"Servicios Domésticos\". Por lo tanto, vamos a desprendernos de estos registros ya que pueden indicar un error humano al completar la encuesta. Es imposible determinar cuál de los dos clasificadores indica lo correcto."
      ],
      "metadata": {
        "id": "BqKQnU9VZFHh"
      }
    },
    {
      "cell_type": "code",
      "source": [
        "indexNames = df2[ ((df2['ocupa_cno'] == 55114) | (df2['ocupa_cno'] == 55313) | (df2['ocupa_cno'] == 55314))\n",
        "                & (df2['ramacaes_o'] != 11) ].index\n",
        "df2 = df2.drop(indexNames , inplace=False)"
      ],
      "metadata": {
        "id": "PVP9P_SjdIez"
      },
      "execution_count": 37,
      "outputs": []
    },
    {
      "cell_type": "code",
      "source": [
        "df3 = df2.copy() #Hago una copia para conservar las ocupaciones originales\n",
        "df3['ocupa_cno'] = df3['ocupa_cno'].apply(lambda x: int(x*0.001))\n",
        "\n",
        "occupation_mean_V = df3[df3['C3P16.1'] == 1].groupby(['ocupa_cno']).mean().drop(columns=['C3P16.1','ramacaes_o'])\n",
        "occupation_mean_M = df3[df3['C3P16.1'] == 2].groupby(['ocupa_cno']).mean().drop(columns=['C3P16.1','ramacaes_o'])\n",
        "occupation_mean = pd.concat([occupation_mean_V.rename(columns={\"ingreso_op\": \"ingresos Varones\"}), occupation_mean_M.rename(columns={\"ingreso_op\": \"ingresos Mujeres\"})], axis=1)\n",
        "occupation_mean = occupation_mean.reset_index().fillna(0)\n",
        "\n",
        "occupation_mean['ratio_ingresos'] = occupation_mean.apply(lambda x: x['ingresos Mujeres']/x['ingresos Varones'], axis=1)\n",
        "occupation_mean = occupation_mean.sort_values(by=['ratio_ingresos'])\n",
        "\n",
        "occupation_mean = occupation_mean.iloc[4:,:]     #Vuelvo a sacar aquellas ocupaciones donde no hay presencia femenina\n",
        "\n",
        "occupation_mean_least = occupation_mean.head(n=5)\n",
        "occupation_mean_most = occupation_mean.tail(n=5)\n",
        "\n",
        "occupation_mean_least , occupation_mean_most"
      ],
      "metadata": {
        "colab": {
          "base_uri": "https://localhost:8080/"
        },
        "id": "gE0x_jh4dIap",
        "outputId": "b5678f2d-de04-4f30-ce5a-02584c8b2282"
      },
      "execution_count": 38,
      "outputs": [
        {
          "output_type": "execute_result",
          "data": {
            "text/plain": [
              "(    ocupa_cno  ingresos Varones  ingresos Mujeres  ratio_ingresos\n",
              " 47         90      26106.382979       4500.000000        0.172372\n",
              " 10         31      17568.750000       4777.777778        0.271948\n",
              " 39         63      22750.000000       7557.500000        0.332198\n",
              " 46         82      13562.666667       4545.652174        0.335159\n",
              " 2           4      50000.000000      20000.000000        0.400000,\n",
              "     ocupa_cno  ingresos Varones  ingresos Mujeres  ratio_ingresos\n",
              " 35         58       8274.444444      10118.181818        1.222823\n",
              " 43         72      13704.965649      20378.125000        1.486915\n",
              " 37         61      13733.333333      30000.000000        2.184466\n",
              " 32         55       2300.000000       5286.117381        2.298312\n",
              " 29         52       2000.000000      17500.000000        8.750000)"
            ]
          },
          "metadata": {},
          "execution_count": 38
        }
      ]
    },
    {
      "cell_type": "code",
      "source": [
        "occupation_mean_least[\"occupation\"] = ['Instalación y mantenimiento de maquinarias, equipos y sistemas de la producción de bienes',\n",
        "                                      'Corretaje comercial, venta domiciliaria, preventista, viajantes y promotores',\n",
        "                                      'Producción apícola-avícola y de otras especies menores',\n",
        "                                       'Reparación de bienes de consumo',\n",
        "                                       'Directivos de instituciones sociales']\n",
        "occupation_mean_most[\"occupation\"] = ['Servicios varios',\n",
        "                                      'Construcción edilicia y de obras de infraestructura',\n",
        "                                      'Producción ganadera',\n",
        "                                      'Servicios domésticos',\n",
        "                                      'Servicios de recreación']\n",
        "#occupation_mean_least, occupation_mean_most            \n",
        "\n",
        "plt.figure(figsize = (10,10))\n",
        "\n",
        "plt.subplot(2,1,1)\n",
        "plt.barh(range(5),occupation_mean_most.ratio_ingresos)\n",
        "plt.yticks(range(5),occupation_mean_most.occupation, fontsize = 10)\n",
        "plt.plot([1,1],[-0.5,4.5], '--',color = 'r')\n",
        "plt.xlim([0,2])\n",
        "plt.title('Mayores Ingresos Mujeres/Varones')\n",
        "\n",
        "plt.subplot(2,1,2)\n",
        "plt.barh(range(5),occupation_mean_least.ratio_ingresos)\n",
        "plt.yticks(range(5),occupation_mean_least.occupation, fontsize = 10)\n",
        "plt.plot([1,1],[-0.5,4.5], '--',color = 'r')\n",
        "plt.xlim([0,2])\n",
        "plt.title('Menores Ingresos Mujeres/Varones')"
      ],
      "metadata": {
        "colab": {
          "base_uri": "https://localhost:8080/",
          "height": 624
        },
        "id": "CyQ249aMfKDt",
        "outputId": "2b6c9b30-9042-483c-8187-b3e09d7f89ee"
      },
      "execution_count": 39,
      "outputs": [
        {
          "output_type": "execute_result",
          "data": {
            "text/plain": [
              "Text(0.5, 1.0, 'Menores Ingresos Mujeres/Varones')"
            ]
          },
          "metadata": {},
          "execution_count": 39
        },
        {
          "output_type": "display_data",
          "data": {
            "image/png": "[encoded data removed]",
            "text/plain": [
              "<Figure size 720x720 with 2 Axes>"
            ]
          },
          "metadata": {
            "needs_background": "light"
          }
        }
      ]
    },
    {
      "cell_type": "markdown",
      "source": [
        "Con dichos registros descartados, vemos que la ocupación \"Servicios domésticos\" es la segunda donde las mujeres ganan más respecto de los hombres (por encima del doble). Esto se corresponde con los salarios por sector del CAES observados inicialmente."
      ],
      "metadata": {
        "id": "jod7FQCxf0J-"
      }
    },
    {
      "cell_type": "markdown",
      "source": [
        "## **Diferencia de salarios en ocupaciones mejor y peor pagas**\n",
        "\n",
        "Dicho esto debemos hacer la aclaración que los campos donde las mujeres ganan menos respecto del salario de los hombres pueden no ser aquellos donde se pague más. Esto implica que solamente prestarle atención al género al analizar las diferencias puede ser muy simplista. Por lo tanto, busquemos aquellas ocupaciones mejor y peor pagas."
      ],
      "metadata": {
        "id": "wc3mXQE2ZlsV"
      }
    },
    {
      "cell_type": "code",
      "source": [
        "sorted_df_ingresos = df3.groupby(['ocupa_cno']).mean().drop(columns=['C3P16.1','ramacaes_o'])\n",
        "sorted_df_ingresos = sorted_df_ingresos.reset_index()\n",
        "\n",
        "sorted_df_ingresos = sorted_df_ingresos.sort_values(['ingreso_op'], ascending = [True])\n",
        "\n",
        "#sorted_df_ingresos\n",
        "\n",
        "df_ingresos_most = sorted_df_ingresos.tail(5)\n",
        "df_ingresos_least = sorted_df_ingresos.head(5)\n",
        "\n",
        "print(df_ingresos_most)\n",
        "print(df_ingresos_least)"
      ],
      "metadata": {
        "colab": {
          "base_uri": "https://localhost:8080/"
        },
        "id": "QZHTS_N6unhK",
        "outputId": "c48c1b6e-6b70-40cd-ba93-bfbf5e83fc91"
      },
      "execution_count": 40,
      "outputs": [
        {
          "output_type": "stream",
          "name": "stdout",
          "text": [
            "    ocupa_cno    ingreso_op\n",
            "45         81  29669.791667\n",
            "1           3  31196.428571\n",
            "2           4  35000.000000\n",
            "41         70  36071.428571\n",
            "48         91  37000.000000\n",
            "    ocupa_cno   ingreso_op\n",
            "32         55  5272.696629\n",
            "12         33  5527.777778\n",
            "34         57  7380.222222\n",
            "40         64  7733.333333\n",
            "38         62  7988.888889\n"
          ]
        }
      ]
    },
    {
      "cell_type": "code",
      "source": [
        "df_ingresos_most[\"occupation\"] = ['Producción de software',\n",
        "                                  'Directivos de organismos, empresas e instituciones estatales',\n",
        "                                  'Directivos de instituciones sociales',\n",
        "                                  'Producción extractiva',\n",
        "                                  'Desarrollo tecnológico productivo']\n",
        "df_ingresos_least[\"occupation\"] = ['Servicios domésticos',\n",
        "                                    'Comercialización Ambulante y callejera',\n",
        "                                     'Cuidado y atención de las personas',\n",
        "                                     'Producción pesquera',\n",
        "                                     'Producción forestal']\n",
        "\n",
        "plt.figure(figsize = (10,10))\n",
        "\n",
        "plt.subplot(2,1,1)\n",
        "plt.barh(range(5),df_ingresos_most.ingreso_op)\n",
        "plt.yticks(range(5),df_ingresos_most.occupation, fontsize = 10)\n",
        "plt.plot([1,1],[-0.5,4.5], '--',color = 'r')\n",
        "plt.xlim([0,50000])\n",
        "plt.title('Ocupaciones mejor pagas')\n",
        "\n",
        "plt.subplot(2,1,2)\n",
        "plt.barh(range(5),df_ingresos_least.ingreso_op)\n",
        "plt.yticks(range(5),df_ingresos_least.occupation, fontsize = 10)\n",
        "plt.plot([1,1],[-0.5,4.5], '--',color = 'r')\n",
        "plt.xlim([0,50000])\n",
        "plt.title('Ocupaciones peor pagas')"
      ],
      "metadata": {
        "id": "kLFyV0OcfW3n",
        "colab": {
          "base_uri": "https://localhost:8080/",
          "height": 624
        },
        "outputId": "fd10e83e-782d-4fe0-ac82-1f03033f8b18"
      },
      "execution_count": 41,
      "outputs": [
        {
          "output_type": "execute_result",
          "data": {
            "text/plain": [
              "Text(0.5, 1.0, 'Ocupaciones peor pagas')"
            ]
          },
          "metadata": {},
          "execution_count": 41
        },
        {
          "output_type": "display_data",
          "data": {
            "image/png": "[encoded data removed]",
            "text/plain": [
              "<Figure size 720x720 with 2 Axes>"
            ]
          },
          "metadata": {
            "needs_background": "light"
          }
        }
      ]
    },
    {
      "cell_type": "markdown",
      "source": [
        "En general, las ocupaciones mejor pagas tienden a estar dominadas por hombres.Recordemos que las dos ocupaciones mejor pagas ('Desarrollo tecnológico productivo' y 'Producción extractiva') no contaban con presencia femenina. Resulta interesante además que la ocupación peor paga coincide con aquella donde las mujeres duplican el salario de los hombres: \"Servicios Domésticos\".  Veamos el salario de mujeres respecto de hombres en las ocupaciones mejor y peor pagas. Antes me desprendo de las ocupaciones donde no hay presencia femenina."
      ],
      "metadata": {
        "id": "iL6ou-Rt0k9w"
      }
    },
    {
      "cell_type": "code",
      "source": [
        "indexNames = df3[ ((df3['ocupa_cno'] == 70) | (df3['ocupa_cno'] == 64) | (df3['ocupa_cno'] == 91) | (df3['ocupa_cno'] == 39))].index\n",
        "df3 = df3.drop(indexNames , inplace=False)\n",
        "\n",
        "sorted_df_ingresos2 = df3.groupby(['ocupa_cno']).mean().drop(columns=['C3P16.1','ramacaes_o'])\n",
        "sorted_df_ingresos2 = sorted_df_ingresos2.reset_index()\n",
        "\n",
        "sorted_df_ingresos2 = sorted_df_ingresos2.sort_values(['ingreso_op'], ascending = [True])\n",
        "\n",
        "#sorted_df_ingresos\n",
        "\n",
        "df_ingresos_most = sorted_df_ingresos2.tail(5)\n",
        "df_ingresos_least = sorted_df_ingresos2.head(5)\n",
        "\n",
        "print(df_ingresos_most)\n",
        "print(df_ingresos_least)"
      ],
      "metadata": {
        "colab": {
          "base_uri": "https://localhost:8080/"
        },
        "id": "LyCGLL_PksRA",
        "outputId": "c72e97f5-851f-48f7-9e5d-f3a938c43d8d"
      },
      "execution_count": 42,
      "outputs": [
        {
          "output_type": "stream",
          "name": "stdout",
          "text": [
            "    ocupa_cno    ingreso_op\n",
            "25         49  27813.953488\n",
            "19         43  28027.777778\n",
            "42         81  29669.791667\n",
            "1           3  31196.428571\n",
            "2           4  35000.000000\n",
            "    ocupa_cno   ingreso_op\n",
            "31         55  5272.696629\n",
            "12         33  5527.777778\n",
            "33         57  7380.222222\n",
            "37         62  7988.888889\n",
            "34         58  8475.247525\n"
          ]
        }
      ]
    },
    {
      "cell_type": "code",
      "source": [
        "df_ingresos_most[\"occupation\"] = ['FFA, Gendarmería y Prefectura',\n",
        "                                  'Asesoría y Consultoría',\n",
        "                                  'Producción de software',\n",
        "                                  'Directivos de organismos, empresas e instituciones estatales',\n",
        "                                  'Directivos de instituciones sociales']\n",
        "df_ingresos_least[\"occupation\"] = ['Servicios domésticos',\n",
        "                                    'Comercialización Ambulante y callejera',\n",
        "                                     'Cuidado y atención de las personas',\n",
        "                                     'Producción forestal',\n",
        "                                   'Servicios Varios']"
      ],
      "metadata": {
        "id": "bbRXcVh7lM-1"
      },
      "execution_count": 43,
      "outputs": []
    },
    {
      "cell_type": "code",
      "source": [
        "sorted_df_ingresos2_V = df3[df3['C3P16.1'] == 1].groupby(['ocupa_cno']).mean().drop(columns=['C3P16.1','ramacaes_o'])\n",
        "sorted_df_ingresos2_M = df3[df3['C3P16.1'] == 2].groupby(['ocupa_cno']).mean().drop(columns=['C3P16.1','ramacaes_o'])\n",
        "\n",
        "sorted_df_ingresos2 = pd.concat([sorted_df_ingresos2_V.rename(columns={\"ingreso_op\": \"ingresos Varones\"}), sorted_df_ingresos2_M.rename(columns={\"ingreso_op\": \"ingresos Mujeres\"})], axis=1)\n",
        "\n",
        "most_V = []\n",
        "most_M = []\n",
        "for x in df_ingresos_most['ocupa_cno']:\n",
        "  most_V.append(sorted_df_ingresos2.loc[x,'ingresos Varones'])\n",
        "  most_M.append(sorted_df_ingresos2.loc[x,'ingresos Mujeres'])\n",
        "\n",
        "sorted_df_ingresos2_most = pd.DataFrame({'occupation': df_ingresos_most.occupation, 'ingresos Varones': most_V, 'ingresos Mujeres': most_M})\n",
        "sorted_df_ingresos2_most['ratio_ingresos'] = sorted_df_ingresos2_most.apply(lambda x: x['ingresos Mujeres']/x['ingresos Varones'], axis=1) \n",
        "sorted_df_ingresos2_most.fillna(0)\n",
        "\n",
        "mean_most = sorted_df_ingresos2_most['ratio_ingresos'].mean()\n",
        "\n",
        "least_V = []\n",
        "least_M = []\n",
        "for x in df_ingresos_least['ocupa_cno']:\n",
        "  least_V.append(sorted_df_ingresos2.loc[x,'ingresos Varones'])\n",
        "  least_M.append(sorted_df_ingresos2.loc[x,'ingresos Mujeres'])\n",
        "\n",
        "sorted_df_ingresos2_least = pd.DataFrame({'occupation': df_ingresos_least.occupation, 'ingresos Varones': least_V, 'ingresos Mujeres': least_M})\n",
        "sorted_df_ingresos2_least['ratio_ingresos'] = sorted_df_ingresos2_least.apply(lambda x: x['ingresos Mujeres']/x['ingresos Varones'], axis=1) \n",
        "sorted_df_ingresos2_least.fillna(0)\n",
        "\n",
        "mean_least = sorted_df_ingresos2_least['ratio_ingresos'].mean()\n",
        "\n",
        "meandf = pd.DataFrame({'ocupaciones': ['5 ocupaciones mejor pagas', '5 ocupaciones peor pagas'], 'ratio_ingresos': [mean_most, mean_least]})"
      ],
      "metadata": {
        "id": "JLaWhZxD-SS3"
      },
      "execution_count": 44,
      "outputs": []
    },
    {
      "cell_type": "code",
      "source": [
        "plt.figure(figsize = (10,10))\n",
        "\n",
        "plt.subplot(2,1,2)\n",
        "plt.barh(range(2),meandf.ratio_ingresos)\n",
        "plt.yticks(range(2),meandf.ocupaciones, fontsize = 10)\n",
        "plt.plot([1,1],[-0.5,1.5], '--',color = 'r')\n",
        "plt.xlim([0,2])\n",
        "plt.title('Ingresos Mujeres/Varones (promedio)')"
      ],
      "metadata": {
        "colab": {
          "base_uri": "https://localhost:8080/",
          "height": 328
        },
        "id": "WfEVxEzH-gmO",
        "outputId": "8e5d5b81-8d5e-4e37-80fd-53688e406961"
      },
      "execution_count": 45,
      "outputs": [
        {
          "output_type": "execute_result",
          "data": {
            "text/plain": [
              "Text(0.5, 1.0, 'Ingresos Mujeres/Varones (promedio)')"
            ]
          },
          "metadata": {},
          "execution_count": 45
        },
        {
          "output_type": "display_data",
          "data": {
            "image/png": "[encoded data removed]",
            "text/plain": [
              "<Figure size 720x720 with 1 Axes>"
            ]
          },
          "metadata": {
            "needs_background": "light"
          }
        }
      ]
    },
    {
      "cell_type": "markdown",
      "source": [
        "Observamos que en promedio, en las ocupaciones peor pagas las mujeres ganan más que los hombres respecto de las ocupaciones mejor pagas. Por lo tanto, pareciera que la diferencia de salarios se hace más evidente en aquellas ocupaciones donde se paga más. Exploremos esta diferencia, a ver si el gap presenta un comportamiento creciente."
      ],
      "metadata": {
        "id": "-81vMnUNEj3K"
      }
    },
    {
      "cell_type": "code",
      "source": [
        "indexNames = sorted_df_ingresos[ ((sorted_df_ingresos['ocupa_cno'] == 70) | (sorted_df_ingresos['ocupa_cno'] == 64) | (sorted_df_ingresos['ocupa_cno'] == 91) | (sorted_df_ingresos['ocupa_cno'] == 39))].index\n",
        "sorted_df_ingresos = sorted_df_ingresos.drop(indexNames , inplace=False)\n",
        "\n",
        "sorted_df_ingresos2 = sorted_df_ingresos2.reset_index()\n",
        "\n",
        "ingresos_df = pd.merge(sorted_df_ingresos, sorted_df_ingresos2, on=\"ocupa_cno\")\n"
      ],
      "metadata": {
        "id": "T8ckUkyQHhOd"
      },
      "execution_count": 46,
      "outputs": []
    },
    {
      "cell_type": "code",
      "source": [
        "ingresos_df['ratio_ingresos'] = ingresos_df.apply(lambda x: x['ingresos Mujeres']/x['ingresos Varones'], axis=1)\n",
        "ingresos_df = ingresos_df.sort_values(['ingreso_op'], ascending = [True])\n",
        "ingresos_df"
      ],
      "metadata": {
        "colab": {
          "base_uri": "https://localhost:8080/",
          "height": 1000
        },
        "id": "tz8kvX9UHhMF",
        "outputId": "ffb976b9-d3c4-464c-dcfd-13e456865c66"
      },
      "execution_count": 47,
      "outputs": [
        {
          "output_type": "execute_result",
          "data": {
            "text/html": [
              "<div>\n",
              "<style scoped>\n",
              "    .dataframe tbody tr th:only-of-type {\n",
              "        vertical-align: middle;\n",
              "    }\n",
              "\n",
              "    .dataframe tbody tr th {\n",
              "        vertical-align: top;\n",
              "    }\n",
              "\n",
              "    .dataframe thead th {\n",
              "        text-align: right;\n",
              "    }\n",
              "</style>\n",
              "<table border=\"1\" class=\"dataframe\">\n",
              "  <thead>\n",
              "    <tr style=\"text-align: right;\">\n",
              "      <th></th>\n",
              "      <th>ocupa_cno</th>\n",
              "      <th>ingreso_op</th>\n",
              "      <th>ingresos Varones</th>\n",
              "      <th>ingresos Mujeres</th>\n",
              "      <th>ratio_ingresos</th>\n",
              "    </tr>\n",
              "  </thead>\n",
              "  <tbody>\n",
              "    <tr>\n",
              "      <th>0</th>\n",
              "      <td>55</td>\n",
              "      <td>5272.696629</td>\n",
              "      <td>2300.000000</td>\n",
              "      <td>5286.117381</td>\n",
              "      <td>2.298312</td>\n",
              "    </tr>\n",
              "    <tr>\n",
              "      <th>1</th>\n",
              "      <td>33</td>\n",
              "      <td>5527.777778</td>\n",
              "      <td>6878.048780</td>\n",
              "      <td>4143.750000</td>\n",
              "      <td>0.602460</td>\n",
              "    </tr>\n",
              "    <tr>\n",
              "      <th>2</th>\n",
              "      <td>57</td>\n",
              "      <td>7380.222222</td>\n",
              "      <td>10357.142857</td>\n",
              "      <td>7109.593074</td>\n",
              "      <td>0.686443</td>\n",
              "    </tr>\n",
              "    <tr>\n",
              "      <th>3</th>\n",
              "      <td>62</td>\n",
              "      <td>7988.888889</td>\n",
              "      <td>8137.500000</td>\n",
              "      <td>6800.000000</td>\n",
              "      <td>0.835637</td>\n",
              "    </tr>\n",
              "    <tr>\n",
              "      <th>4</th>\n",
              "      <td>58</td>\n",
              "      <td>8475.247525</td>\n",
              "      <td>8274.444444</td>\n",
              "      <td>10118.181818</td>\n",
              "      <td>1.222823</td>\n",
              "    </tr>\n",
              "    <tr>\n",
              "      <th>5</th>\n",
              "      <td>60</td>\n",
              "      <td>10561.111111</td>\n",
              "      <td>11201.612903</td>\n",
              "      <td>6590.000000</td>\n",
              "      <td>0.588308</td>\n",
              "    </tr>\n",
              "    <tr>\n",
              "      <th>6</th>\n",
              "      <td>53</td>\n",
              "      <td>10899.372822</td>\n",
              "      <td>13022.586207</td>\n",
              "      <td>9459.064327</td>\n",
              "      <td>0.726358</td>\n",
              "    </tr>\n",
              "    <tr>\n",
              "      <th>7</th>\n",
              "      <td>56</td>\n",
              "      <td>12196.974478</td>\n",
              "      <td>14144.961353</td>\n",
              "      <td>10396.825893</td>\n",
              "      <td>0.735020</td>\n",
              "    </tr>\n",
              "    <tr>\n",
              "      <th>8</th>\n",
              "      <td>52</td>\n",
              "      <td>12333.333333</td>\n",
              "      <td>2000.000000</td>\n",
              "      <td>17500.000000</td>\n",
              "      <td>8.750000</td>\n",
              "    </tr>\n",
              "    <tr>\n",
              "      <th>9</th>\n",
              "      <td>82</td>\n",
              "      <td>12525.710000</td>\n",
              "      <td>13562.666667</td>\n",
              "      <td>4545.652174</td>\n",
              "      <td>0.335159</td>\n",
              "    </tr>\n",
              "    <tr>\n",
              "      <th>10</th>\n",
              "      <td>31</td>\n",
              "      <td>12964.000000</td>\n",
              "      <td>17568.750000</td>\n",
              "      <td>4777.777778</td>\n",
              "      <td>0.271948</td>\n",
              "    </tr>\n",
              "    <tr>\n",
              "      <th>11</th>\n",
              "      <td>51</td>\n",
              "      <td>13528.000000</td>\n",
              "      <td>16346.666667</td>\n",
              "      <td>9300.000000</td>\n",
              "      <td>0.568923</td>\n",
              "    </tr>\n",
              "    <tr>\n",
              "      <th>12</th>\n",
              "      <td>72</td>\n",
              "      <td>13838.096010</td>\n",
              "      <td>13704.965649</td>\n",
              "      <td>20378.125000</td>\n",
              "      <td>1.486915</td>\n",
              "    </tr>\n",
              "    <tr>\n",
              "      <th>13</th>\n",
              "      <td>30</td>\n",
              "      <td>14448.756532</td>\n",
              "      <td>17532.597403</td>\n",
              "      <td>11850.772429</td>\n",
              "      <td>0.675928</td>\n",
              "    </tr>\n",
              "    <tr>\n",
              "      <th>14</th>\n",
              "      <td>61</td>\n",
              "      <td>14984.615385</td>\n",
              "      <td>13733.333333</td>\n",
              "      <td>30000.000000</td>\n",
              "      <td>2.184466</td>\n",
              "    </tr>\n",
              "    <tr>\n",
              "      <th>15</th>\n",
              "      <td>80</td>\n",
              "      <td>15726.973554</td>\n",
              "      <td>18444.310905</td>\n",
              "      <td>8996.097701</td>\n",
              "      <td>0.487744</td>\n",
              "    </tr>\n",
              "    <tr>\n",
              "      <th>16</th>\n",
              "      <td>54</td>\n",
              "      <td>15969.565217</td>\n",
              "      <td>15600.000000</td>\n",
              "      <td>16662.500000</td>\n",
              "      <td>1.068109</td>\n",
              "    </tr>\n",
              "    <tr>\n",
              "      <th>17</th>\n",
              "      <td>41</td>\n",
              "      <td>16339.576450</td>\n",
              "      <td>18442.280000</td>\n",
              "      <td>15586.818616</td>\n",
              "      <td>0.845168</td>\n",
              "    </tr>\n",
              "    <tr>\n",
              "      <th>18</th>\n",
              "      <td>50</td>\n",
              "      <td>16694.250000</td>\n",
              "      <td>19320.800000</td>\n",
              "      <td>12316.666667</td>\n",
              "      <td>0.637482</td>\n",
              "    </tr>\n",
              "    <tr>\n",
              "      <th>19</th>\n",
              "      <td>47</td>\n",
              "      <td>17030.878049</td>\n",
              "      <td>17077.660714</td>\n",
              "      <td>16554.545455</td>\n",
              "      <td>0.969368</td>\n",
              "    </tr>\n",
              "    <tr>\n",
              "      <th>20</th>\n",
              "      <td>32</td>\n",
              "      <td>17463.050847</td>\n",
              "      <td>17332.400000</td>\n",
              "      <td>18188.888889</td>\n",
              "      <td>1.049415</td>\n",
              "    </tr>\n",
              "    <tr>\n",
              "      <th>21</th>\n",
              "      <td>63</td>\n",
              "      <td>17685.833333</td>\n",
              "      <td>22750.000000</td>\n",
              "      <td>7557.500000</td>\n",
              "      <td>0.332198</td>\n",
              "    </tr>\n",
              "    <tr>\n",
              "      <th>22</th>\n",
              "      <td>46</td>\n",
              "      <td>18350.476190</td>\n",
              "      <td>23600.000000</td>\n",
              "      <td>16710.000000</td>\n",
              "      <td>0.708051</td>\n",
              "    </tr>\n",
              "    <tr>\n",
              "      <th>23</th>\n",
              "      <td>34</td>\n",
              "      <td>18396.827195</td>\n",
              "      <td>18577.619048</td>\n",
              "      <td>14823.529412</td>\n",
              "      <td>0.797924</td>\n",
              "    </tr>\n",
              "    <tr>\n",
              "      <th>24</th>\n",
              "      <td>36</td>\n",
              "      <td>19870.555556</td>\n",
              "      <td>19852.906977</td>\n",
              "      <td>20250.000000</td>\n",
              "      <td>1.020002</td>\n",
              "    </tr>\n",
              "    <tr>\n",
              "      <th>25</th>\n",
              "      <td>35</td>\n",
              "      <td>19943.478261</td>\n",
              "      <td>19916.666667</td>\n",
              "      <td>20040.000000</td>\n",
              "      <td>1.006192</td>\n",
              "    </tr>\n",
              "    <tr>\n",
              "      <th>26</th>\n",
              "      <td>40</td>\n",
              "      <td>20634.076433</td>\n",
              "      <td>24915.584416</td>\n",
              "      <td>19243.037975</td>\n",
              "      <td>0.772329</td>\n",
              "    </tr>\n",
              "    <tr>\n",
              "      <th>27</th>\n",
              "      <td>1</td>\n",
              "      <td>21000.000000</td>\n",
              "      <td>28000.000000</td>\n",
              "      <td>17500.000000</td>\n",
              "      <td>0.625000</td>\n",
              "    </tr>\n",
              "    <tr>\n",
              "      <th>28</th>\n",
              "      <td>10</td>\n",
              "      <td>21370.975042</td>\n",
              "      <td>22100.114815</td>\n",
              "      <td>20776.208459</td>\n",
              "      <td>0.940095</td>\n",
              "    </tr>\n",
              "    <tr>\n",
              "      <th>29</th>\n",
              "      <td>20</td>\n",
              "      <td>21887.567213</td>\n",
              "      <td>24044.135593</td>\n",
              "      <td>20526.737968</td>\n",
              "      <td>0.853711</td>\n",
              "    </tr>\n",
              "    <tr>\n",
              "      <th>30</th>\n",
              "      <td>45</td>\n",
              "      <td>21936.166667</td>\n",
              "      <td>21916.739130</td>\n",
              "      <td>22000.000000</td>\n",
              "      <td>1.003799</td>\n",
              "    </tr>\n",
              "    <tr>\n",
              "      <th>31</th>\n",
              "      <td>42</td>\n",
              "      <td>22411.904762</td>\n",
              "      <td>23341.666667</td>\n",
              "      <td>21172.222222</td>\n",
              "      <td>0.907057</td>\n",
              "    </tr>\n",
              "    <tr>\n",
              "      <th>32</th>\n",
              "      <td>6</td>\n",
              "      <td>22456.435644</td>\n",
              "      <td>23306.493506</td>\n",
              "      <td>19729.166667</td>\n",
              "      <td>0.846509</td>\n",
              "    </tr>\n",
              "    <tr>\n",
              "      <th>33</th>\n",
              "      <td>7</td>\n",
              "      <td>23461.627907</td>\n",
              "      <td>24798.360656</td>\n",
              "      <td>20200.000000</td>\n",
              "      <td>0.814570</td>\n",
              "    </tr>\n",
              "    <tr>\n",
              "      <th>34</th>\n",
              "      <td>5</td>\n",
              "      <td>24253.658537</td>\n",
              "      <td>24772.413793</td>\n",
              "      <td>23000.000000</td>\n",
              "      <td>0.928452</td>\n",
              "    </tr>\n",
              "    <tr>\n",
              "      <th>35</th>\n",
              "      <td>48</td>\n",
              "      <td>24598.924731</td>\n",
              "      <td>24698.701299</td>\n",
              "      <td>24118.750000</td>\n",
              "      <td>0.976519</td>\n",
              "    </tr>\n",
              "    <tr>\n",
              "      <th>36</th>\n",
              "      <td>71</td>\n",
              "      <td>24600.000000</td>\n",
              "      <td>27000.000000</td>\n",
              "      <td>15000.000000</td>\n",
              "      <td>0.555556</td>\n",
              "    </tr>\n",
              "    <tr>\n",
              "      <th>37</th>\n",
              "      <td>44</td>\n",
              "      <td>25545.454545</td>\n",
              "      <td>25777.777778</td>\n",
              "      <td>24500.000000</td>\n",
              "      <td>0.950431</td>\n",
              "    </tr>\n",
              "    <tr>\n",
              "      <th>38</th>\n",
              "      <td>90</td>\n",
              "      <td>25656.250000</td>\n",
              "      <td>26106.382979</td>\n",
              "      <td>4500.000000</td>\n",
              "      <td>0.172372</td>\n",
              "    </tr>\n",
              "    <tr>\n",
              "      <th>39</th>\n",
              "      <td>92</td>\n",
              "      <td>25691.176471</td>\n",
              "      <td>26045.454545</td>\n",
              "      <td>14000.000000</td>\n",
              "      <td>0.537522</td>\n",
              "    </tr>\n",
              "    <tr>\n",
              "      <th>40</th>\n",
              "      <td>11</td>\n",
              "      <td>25850.704225</td>\n",
              "      <td>27891.176471</td>\n",
              "      <td>23975.675676</td>\n",
              "      <td>0.859615</td>\n",
              "    </tr>\n",
              "    <tr>\n",
              "      <th>41</th>\n",
              "      <td>49</td>\n",
              "      <td>27813.953488</td>\n",
              "      <td>28684.210526</td>\n",
              "      <td>21200.000000</td>\n",
              "      <td>0.739083</td>\n",
              "    </tr>\n",
              "    <tr>\n",
              "      <th>42</th>\n",
              "      <td>43</td>\n",
              "      <td>28027.777778</td>\n",
              "      <td>27125.000000</td>\n",
              "      <td>31187.500000</td>\n",
              "      <td>1.149770</td>\n",
              "    </tr>\n",
              "    <tr>\n",
              "      <th>43</th>\n",
              "      <td>81</td>\n",
              "      <td>29669.791667</td>\n",
              "      <td>31154.545455</td>\n",
              "      <td>26403.333333</td>\n",
              "      <td>0.847495</td>\n",
              "    </tr>\n",
              "    <tr>\n",
              "      <th>44</th>\n",
              "      <td>3</td>\n",
              "      <td>31196.428571</td>\n",
              "      <td>29450.000000</td>\n",
              "      <td>32166.666667</td>\n",
              "      <td>1.092247</td>\n",
              "    </tr>\n",
              "    <tr>\n",
              "      <th>45</th>\n",
              "      <td>4</td>\n",
              "      <td>35000.000000</td>\n",
              "      <td>50000.000000</td>\n",
              "      <td>20000.000000</td>\n",
              "      <td>0.400000</td>\n",
              "    </tr>\n",
              "  </tbody>\n",
              "</table>\n",
              "</div>"
            ],
            "text/plain": [
              "    ocupa_cno    ingreso_op  ingresos Varones  ingresos Mujeres  ratio_ingresos\n",
              "0          55   5272.696629       2300.000000       5286.117381        2.298312\n",
              "1          33   5527.777778       6878.048780       4143.750000        0.602460\n",
              "2          57   7380.222222      10357.142857       7109.593074        0.686443\n",
              "3          62   7988.888889       8137.500000       6800.000000        0.835637\n",
              "4          58   8475.247525       8274.444444      10118.181818        1.222823\n",
              "5          60  10561.111111      11201.612903       6590.000000        0.588308\n",
              "6          53  10899.372822      13022.586207       9459.064327        0.726358\n",
              "7          56  12196.974478      14144.961353      10396.825893        0.735020\n",
              "8          52  12333.333333       2000.000000      17500.000000        8.750000\n",
              "9          82  12525.710000      13562.666667       4545.652174        0.335159\n",
              "10         31  12964.000000      17568.750000       4777.777778        0.271948\n",
              "11         51  13528.000000      16346.666667       9300.000000        0.568923\n",
              "12         72  13838.096010      13704.965649      20378.125000        1.486915\n",
              "13         30  14448.756532      17532.597403      11850.772429        0.675928\n",
              "14         61  14984.615385      13733.333333      30000.000000        2.184466\n",
              "15         80  15726.973554      18444.310905       8996.097701        0.487744\n",
              "16         54  15969.565217      15600.000000      16662.500000        1.068109\n",
              "17         41  16339.576450      18442.280000      15586.818616        0.845168\n",
              "18         50  16694.250000      19320.800000      12316.666667        0.637482\n",
              "19         47  17030.878049      17077.660714      16554.545455        0.969368\n",
              "20         32  17463.050847      17332.400000      18188.888889        1.049415\n",
              "21         63  17685.833333      22750.000000       7557.500000        0.332198\n",
              "22         46  18350.476190      23600.000000      16710.000000        0.708051\n",
              "23         34  18396.827195      18577.619048      14823.529412        0.797924\n",
              "24         36  19870.555556      19852.906977      20250.000000        1.020002\n",
              "25         35  19943.478261      19916.666667      20040.000000        1.006192\n",
              "26         40  20634.076433      24915.584416      19243.037975        0.772329\n",
              "27          1  21000.000000      28000.000000      17500.000000        0.625000\n",
              "28         10  21370.975042      22100.114815      20776.208459        0.940095\n",
              "29         20  21887.567213      24044.135593      20526.737968        0.853711\n",
              "30         45  21936.166667      21916.739130      22000.000000        1.003799\n",
              "31         42  22411.904762      23341.666667      21172.222222        0.907057\n",
              "32          6  22456.435644      23306.493506      19729.166667        0.846509\n",
              "33          7  23461.627907      24798.360656      20200.000000        0.814570\n",
              "34          5  24253.658537      24772.413793      23000.000000        0.928452\n",
              "35         48  24598.924731      24698.701299      24118.750000        0.976519\n",
              "36         71  24600.000000      27000.000000      15000.000000        0.555556\n",
              "37         44  25545.454545      25777.777778      24500.000000        0.950431\n",
              "38         90  25656.250000      26106.382979       4500.000000        0.172372\n",
              "39         92  25691.176471      26045.454545      14000.000000        0.537522\n",
              "40         11  25850.704225      27891.176471      23975.675676        0.859615\n",
              "41         49  27813.953488      28684.210526      21200.000000        0.739083\n",
              "42         43  28027.777778      27125.000000      31187.500000        1.149770\n",
              "43         81  29669.791667      31154.545455      26403.333333        0.847495\n",
              "44          3  31196.428571      29450.000000      32166.666667        1.092247\n",
              "45          4  35000.000000      50000.000000      20000.000000        0.400000"
            ]
          },
          "metadata": {},
          "execution_count": 47
        }
      ]
    },
    {
      "cell_type": "markdown",
      "source": [
        "Antes de realizar el gráfico, voy a retirar la ocupación 52 correspondiente a 'Servicios de recreación' ya que el gap es 8.75, muy superior al resto."
      ],
      "metadata": {
        "id": "so9c4zphKy9P"
      }
    },
    {
      "cell_type": "code",
      "source": [
        "ingresos_df = ingresos_df[(ingresos_df['ocupa_cno'] != 52)]"
      ],
      "metadata": {
        "id": "4spBmvxvLD7v"
      },
      "execution_count": 48,
      "outputs": []
    },
    {
      "cell_type": "code",
      "source": [
        "plt.figure(figsize = (8,8))\n",
        "\n",
        "plt.plot(ingresos_df.ingreso_op, ingresos_df.ratio_ingresos,'o',markersize = 10, alpha = 0.8)\n",
        "plt.xlabel('Ingresos último mes por ocupación')\n",
        "plt.ylabel('Ingresos Mujeres/Varones por ocupación')\n",
        "plt.title('El gap se hace más evidente para mayores salarios')\n",
        "\n",
        "x = ingresos_df.ingreso_op\n",
        "y = ingresos_df.ratio_ingresos\n",
        "fn = np.polyfit(x,y,1)\n",
        "fit_fn = np.poly1d(fn) \n",
        "plt.plot(x,fit_fn(x))"
      ],
      "metadata": {
        "colab": {
          "base_uri": "https://localhost:8080/",
          "height": 530
        },
        "id": "VfTmD0gRHhJk",
        "outputId": "df38f3a7-1526-48ba-aef0-97479a9c8189"
      },
      "execution_count": 49,
      "outputs": [
        {
          "output_type": "execute_result",
          "data": {
            "text/plain": [
              "[<matplotlib.lines.Line2D at 0x7fc475b35d50>]"
            ]
          },
          "metadata": {},
          "execution_count": 49
        },
        {
          "output_type": "display_data",
          "data": {
            "image/png": "[encoded data removed]",
            "text/plain": [
              "<Figure size 576x576 with 1 Axes>"
            ]
          },
          "metadata": {
            "needs_background": "light"
          }
        }
      ]
    },
    {
      "cell_type": "markdown",
      "source": [
        "Intentemos ahora ver el ingreso promedio de hombres y mujeres en función del ingreso promedio total."
      ],
      "metadata": {
        "id": "ZoIWuJLYM6A3"
      }
    },
    {
      "cell_type": "code",
      "source": [
        "plt.figure(figsize = (8,8))\n",
        "\n",
        "plt.plot(ingresos_df.ingreso_op, ingresos_df['ingresos Varones'],'o')\n",
        "plt.plot(ingresos_df.ingreso_op, ingresos_df['ingresos Mujeres'],'o')\n",
        "plt.legend(['Varones','Mujeres'])\n",
        "plt.xlabel('Ingreso promedio total')\n",
        "plt.ylabel('Ingreso')\n",
        "#plt.show()\n",
        "\n",
        "x = ingresos_df.ingreso_op\n",
        "y = ingresos_df['ingresos Varones']\n",
        "fn = np.polyfit(x,y,1)\n",
        "fit_fn = np.poly1d(fn) \n",
        "plt.plot(x,fit_fn(x), 'blue')\n",
        "\n",
        "x = ingresos_df.ingreso_op\n",
        "y = ingresos_df['ingresos Mujeres']\n",
        "fn = np.polyfit(x,y,1)\n",
        "fit_fn = np.poly1d(fn) \n",
        "plt.plot(x,fit_fn(x), 'orange')"
      ],
      "metadata": {
        "colab": {
          "base_uri": "https://localhost:8080/",
          "height": 514
        },
        "id": "ePw5EF6ENKNg",
        "outputId": "f273d6ec-dcea-4b36-984b-a5f77bb6bf3d"
      },
      "execution_count": 50,
      "outputs": [
        {
          "output_type": "execute_result",
          "data": {
            "text/plain": [
              "[<matplotlib.lines.Line2D at 0x7fc475c6c650>]"
            ]
          },
          "metadata": {},
          "execution_count": 50
        },
        {
          "output_type": "display_data",
          "data": {
            "image/png": "[encoded data removed]",
            "text/plain": [
              "<Figure size 576x576 with 1 Axes>"
            ]
          },
          "metadata": {
            "needs_background": "light"
          }
        }
      ]
    },
    {
      "cell_type": "markdown",
      "source": [
        "En el caso de los varones, los ingresos parecen comportarse de manera lineal. Para el caso de las mujeres se observa una dispersión mayor de los datos, pero se observa una pequeña tendencia lineal. \n",
        "\n",
        "Haciendo un fiteo lineal de los datos podemos ver que la pendiente en el caso de los hombres es mayor al de las mujeres. Esto al igual que antes indica que cuánto mayor sea el salario, mayor es la diferencia entre géneros."
      ],
      "metadata": {
        "id": "tse-MnAqPV4s"
      }
    },
    {
      "cell_type": "markdown",
      "source": [
        "## **Preparación de datos para aplicar distintos modelos**\n",
        "\n",
        "Vamos a generar un nuevo dataset con los siguientes atributos para predecir la disparidad de géneros con distintos modelos de clustering, clasificación y regresión.\n",
        "\n",
        "*   occupation_number\n",
        "*   cantidad_trabajadores\n",
        "*   ingresos_promedio\n",
        "*   hombres_trabajadores\n",
        "*   ingresos_hombres\n",
        "*   mujeres_trabajadores\n",
        "*   ingresos_mujeres\n",
        "*   hombres_ratio\n",
        "*   mujeres_ratio\n",
        "*   ingresos_promedio_hym\n",
        "*   ratio_ingresos\n",
        "*   dif_ingresos\n",
        "*   ratio_trabajadores\n",
        "*   genero_prob"
      ],
      "metadata": {
        "id": "Dm2y6o9cNH4t"
      }
    },
    {
      "cell_type": "code",
      "source": [
        "df_model = df[['C3P16.1','ingreso_op','rama_caes']].rename(columns={'C3P16.1': 'genero'})   #En este caso utilizo la clasificación del Mercosur, para usar otro atributo distinto\n",
        "df_model.describe()"
      ],
      "metadata": {
        "colab": {
          "base_uri": "https://localhost:8080/",
          "height": 300
        },
        "id": "4oWWDh2jHH1v",
        "outputId": "4c55de12-106a-476f-d5f5-31c4418dede9"
      },
      "execution_count": 51,
      "outputs": [
        {
          "output_type": "execute_result",
          "data": {
            "text/html": [
              "<div>\n",
              "<style scoped>\n",
              "    .dataframe tbody tr th:only-of-type {\n",
              "        vertical-align: middle;\n",
              "    }\n",
              "\n",
              "    .dataframe tbody tr th {\n",
              "        vertical-align: top;\n",
              "    }\n",
              "\n",
              "    .dataframe thead th {\n",
              "        text-align: right;\n",
              "    }\n",
              "</style>\n",
              "<table border=\"1\" class=\"dataframe\">\n",
              "  <thead>\n",
              "    <tr style=\"text-align: right;\">\n",
              "      <th></th>\n",
              "      <th>genero</th>\n",
              "      <th>ingreso_op</th>\n",
              "      <th>rama_caes</th>\n",
              "    </tr>\n",
              "  </thead>\n",
              "  <tbody>\n",
              "    <tr>\n",
              "      <th>count</th>\n",
              "      <td>7496.000000</td>\n",
              "      <td>7496.000000</td>\n",
              "      <td>7496.000000</td>\n",
              "    </tr>\n",
              "    <tr>\n",
              "      <th>mean</th>\n",
              "      <td>1.438100</td>\n",
              "      <td>15853.523212</td>\n",
              "      <td>6182.627668</td>\n",
              "    </tr>\n",
              "    <tr>\n",
              "      <th>std</th>\n",
              "      <td>0.496187</td>\n",
              "      <td>11238.121351</td>\n",
              "      <td>2682.232510</td>\n",
              "    </tr>\n",
              "    <tr>\n",
              "      <th>min</th>\n",
              "      <td>1.000000</td>\n",
              "      <td>100.000000</td>\n",
              "      <td>10.000000</td>\n",
              "    </tr>\n",
              "    <tr>\n",
              "      <th>25%</th>\n",
              "      <td>1.000000</td>\n",
              "      <td>7000.000000</td>\n",
              "      <td>4502.000000</td>\n",
              "    </tr>\n",
              "    <tr>\n",
              "      <th>50%</th>\n",
              "      <td>1.000000</td>\n",
              "      <td>14000.000000</td>\n",
              "      <td>6100.000000</td>\n",
              "    </tr>\n",
              "    <tr>\n",
              "      <th>75%</th>\n",
              "      <td>2.000000</td>\n",
              "      <td>22000.000000</td>\n",
              "      <td>8501.000000</td>\n",
              "    </tr>\n",
              "    <tr>\n",
              "      <th>max</th>\n",
              "      <td>2.000000</td>\n",
              "      <td>50000.000000</td>\n",
              "      <td>9700.000000</td>\n",
              "    </tr>\n",
              "  </tbody>\n",
              "</table>\n",
              "</div>"
            ],
            "text/plain": [
              "            genero    ingreso_op    rama_caes\n",
              "count  7496.000000   7496.000000  7496.000000\n",
              "mean      1.438100  15853.523212  6182.627668\n",
              "std       0.496187  11238.121351  2682.232510\n",
              "min       1.000000    100.000000    10.000000\n",
              "25%       1.000000   7000.000000  4502.000000\n",
              "50%       1.000000  14000.000000  6100.000000\n",
              "75%       2.000000  22000.000000  8501.000000\n",
              "max       2.000000  50000.000000  9700.000000"
            ]
          },
          "metadata": {},
          "execution_count": 51
        }
      ]
    },
    {
      "cell_type": "code",
      "source": [
        "ingresos_promedio = pd.DataFrame(df_model.groupby(['rama_caes']).mean())\n",
        "ingresos_promedio = ingresos_promedio.reset_index().drop(columns='genero')\n",
        "ingresos_promedio = ingresos_promedio.rename(columns={'rama_caes': 'occupation_number', 'ingreso_op': 'ingresos_promedio'})\n",
        "ingresos_promedio.shape"
      ],
      "metadata": {
        "colab": {
          "base_uri": "https://localhost:8080/"
        },
        "id": "2qpHS988RnlW",
        "outputId": "e7d58d5b-2f14-4dba-a1d6-cc4ad8ddc73c"
      },
      "execution_count": 52,
      "outputs": [
        {
          "output_type": "execute_result",
          "data": {
            "text/plain": [
              "(128, 2)"
            ]
          },
          "metadata": {},
          "execution_count": 52
        }
      ]
    },
    {
      "cell_type": "code",
      "source": [
        "hombres_trabajadores = pd.DataFrame(df_model[df_model['genero']==1].groupby(['rama_caes']).sum())\n",
        "hombres_trabajadores = hombres_trabajadores.reset_index().drop(columns='ingreso_op')\n",
        "hombres_trabajadores = hombres_trabajadores.rename(columns={'rama_caes': 'occupation_number', 'genero': 'hombres_trabajadores'})\n",
        "hombres_trabajadores.shape"
      ],
      "metadata": {
        "colab": {
          "base_uri": "https://localhost:8080/"
        },
        "id": "BjJGpVRnS5f7",
        "outputId": "51b012a3-36c1-4bb6-8fe7-b518e3fccbf9"
      },
      "execution_count": 53,
      "outputs": [
        {
          "output_type": "execute_result",
          "data": {
            "text/plain": [
              "(128, 2)"
            ]
          },
          "metadata": {},
          "execution_count": 53
        }
      ]
    },
    {
      "cell_type": "code",
      "source": [
        "ingresos_hombres = pd.DataFrame(df_model[df_model['genero']==1].groupby(['rama_caes']).mean())\n",
        "ingresos_hombres = ingresos_hombres.reset_index().drop(columns='genero')\n",
        "ingresos_hombres = ingresos_hombres.rename(columns={'rama_caes': 'occupation_number', 'ingreso_op': 'ingresos_hombres'})\n",
        "ingresos_hombres.shape"
      ],
      "metadata": {
        "colab": {
          "base_uri": "https://localhost:8080/"
        },
        "id": "Ogk0YcrbS5dd",
        "outputId": "e903edd9-401b-46ee-f1b1-ab8e782023c3"
      },
      "execution_count": 54,
      "outputs": [
        {
          "output_type": "execute_result",
          "data": {
            "text/plain": [
              "(128, 2)"
            ]
          },
          "metadata": {},
          "execution_count": 54
        }
      ]
    },
    {
      "cell_type": "code",
      "source": [
        "mujeres_trabajadores = pd.DataFrame(df_model[df_model['genero']==2].groupby(['rama_caes']).sum())\n",
        "mujeres_trabajadores = mujeres_trabajadores.reset_index().drop(columns='ingreso_op')\n",
        "mujeres_trabajadores = mujeres_trabajadores.rename(columns={'rama_caes': 'occupation_number', 'genero': 'mujeres_trabajadores'})\n",
        "mujeres_trabajadores.shape"
      ],
      "metadata": {
        "colab": {
          "base_uri": "https://localhost:8080/"
        },
        "id": "g_9drhe5HHrn",
        "outputId": "552cd4c4-2886-439b-850e-2d3cb0e73af5"
      },
      "execution_count": 55,
      "outputs": [
        {
          "output_type": "execute_result",
          "data": {
            "text/plain": [
              "(107, 2)"
            ]
          },
          "metadata": {},
          "execution_count": 55
        }
      ]
    },
    {
      "cell_type": "code",
      "source": [
        "ingresos_mujeres = pd.DataFrame(df_model[df_model['genero']==2].groupby(['rama_caes']).mean())\n",
        "ingresos_mujeres = ingresos_mujeres.reset_index().drop(columns='genero')\n",
        "ingresos_mujeres = ingresos_mujeres.rename(columns={'rama_caes': 'occupation_number', 'ingreso_op': 'ingresos_mujeres'})\n",
        "ingresos_mujeres.shape"
      ],
      "metadata": {
        "colab": {
          "base_uri": "https://localhost:8080/"
        },
        "id": "60u8kDX9HHpF",
        "outputId": "03d87f02-9e97-4275-e149-12d45b5db135"
      },
      "execution_count": 56,
      "outputs": [
        {
          "output_type": "execute_result",
          "data": {
            "text/plain": [
              "(107, 2)"
            ]
          },
          "metadata": {},
          "execution_count": 56
        }
      ]
    },
    {
      "cell_type": "code",
      "source": [
        "df_model = pd.merge(ingresos_promedio, hombres_trabajadores, on=\"occupation_number\")\n",
        "df_model = pd.merge(df_model, ingresos_hombres, on=\"occupation_number\")\n",
        "df_model = pd.merge(df_model, mujeres_trabajadores, on=\"occupation_number\")\n",
        "df_model = pd.merge(df_model, ingresos_mujeres, on=\"occupation_number\")\n",
        "df_model"
      ],
      "metadata": {
        "colab": {
          "base_uri": "https://localhost:8080/",
          "height": 424
        },
        "id": "KwCQMf1YHHme",
        "outputId": "89c8fb8e-fd0e-42db-80e5-29e0b7164183"
      },
      "execution_count": 57,
      "outputs": [
        {
          "output_type": "execute_result",
          "data": {
            "text/html": [
              "<div>\n",
              "<style scoped>\n",
              "    .dataframe tbody tr th:only-of-type {\n",
              "        vertical-align: middle;\n",
              "    }\n",
              "\n",
              "    .dataframe tbody tr th {\n",
              "        vertical-align: top;\n",
              "    }\n",
              "\n",
              "    .dataframe thead th {\n",
              "        text-align: right;\n",
              "    }\n",
              "</style>\n",
              "<table border=\"1\" class=\"dataframe\">\n",
              "  <thead>\n",
              "    <tr style=\"text-align: right;\">\n",
              "      <th></th>\n",
              "      <th>occupation_number</th>\n",
              "      <th>ingresos_promedio</th>\n",
              "      <th>hombres_trabajadores</th>\n",
              "      <th>ingresos_hombres</th>\n",
              "      <th>mujeres_trabajadores</th>\n",
              "      <th>ingresos_mujeres</th>\n",
              "    </tr>\n",
              "  </thead>\n",
              "  <tbody>\n",
              "    <tr>\n",
              "      <th>0</th>\n",
              "      <td>48</td>\n",
              "      <td>15953.030303</td>\n",
              "      <td>41</td>\n",
              "      <td>17595.121951</td>\n",
              "      <td>50</td>\n",
              "      <td>13260.000000</td>\n",
              "    </tr>\n",
              "    <tr>\n",
              "      <th>1</th>\n",
              "      <td>101</td>\n",
              "      <td>11937.804878</td>\n",
              "      <td>72</td>\n",
              "      <td>12620.833333</td>\n",
              "      <td>20</td>\n",
              "      <td>7020.000000</td>\n",
              "    </tr>\n",
              "    <tr>\n",
              "      <th>2</th>\n",
              "      <td>102</td>\n",
              "      <td>15852.600000</td>\n",
              "      <td>20</td>\n",
              "      <td>15310.000000</td>\n",
              "      <td>10</td>\n",
              "      <td>18023.000000</td>\n",
              "    </tr>\n",
              "    <tr>\n",
              "      <th>3</th>\n",
              "      <td>103</td>\n",
              "      <td>17840.000000</td>\n",
              "      <td>17</td>\n",
              "      <td>16529.411765</td>\n",
              "      <td>6</td>\n",
              "      <td>25266.666667</td>\n",
              "    </tr>\n",
              "    <tr>\n",
              "      <th>4</th>\n",
              "      <td>104</td>\n",
              "      <td>13500.000000</td>\n",
              "      <td>2</td>\n",
              "      <td>13000.000000</td>\n",
              "      <td>4</td>\n",
              "      <td>14000.000000</td>\n",
              "    </tr>\n",
              "    <tr>\n",
              "      <th>...</th>\n",
              "      <td>...</td>\n",
              "      <td>...</td>\n",
              "      <td>...</td>\n",
              "      <td>...</td>\n",
              "      <td>...</td>\n",
              "      <td>...</td>\n",
              "    </tr>\n",
              "    <tr>\n",
              "      <th>102</th>\n",
              "      <td>9601</td>\n",
              "      <td>9588.888889</td>\n",
              "      <td>2</td>\n",
              "      <td>5000.000000</td>\n",
              "      <td>14</td>\n",
              "      <td>10900.000000</td>\n",
              "    </tr>\n",
              "    <tr>\n",
              "      <th>103</th>\n",
              "      <td>9602</td>\n",
              "      <td>9557.019802</td>\n",
              "      <td>18</td>\n",
              "      <td>10722.222222</td>\n",
              "      <td>166</td>\n",
              "      <td>9304.325301</td>\n",
              "    </tr>\n",
              "    <tr>\n",
              "      <th>104</th>\n",
              "      <td>9603</td>\n",
              "      <td>21814.285714</td>\n",
              "      <td>4</td>\n",
              "      <td>21250.000000</td>\n",
              "      <td>6</td>\n",
              "      <td>22566.666667</td>\n",
              "    </tr>\n",
              "    <tr>\n",
              "      <th>105</th>\n",
              "      <td>9609</td>\n",
              "      <td>9375.000000</td>\n",
              "      <td>7</td>\n",
              "      <td>11285.714286</td>\n",
              "      <td>10</td>\n",
              "      <td>6700.000000</td>\n",
              "    </tr>\n",
              "    <tr>\n",
              "      <th>106</th>\n",
              "      <td>9700</td>\n",
              "      <td>5484.591133</td>\n",
              "      <td>3</td>\n",
              "      <td>3200.000000</td>\n",
              "      <td>1212</td>\n",
              "      <td>5495.900990</td>\n",
              "    </tr>\n",
              "  </tbody>\n",
              "</table>\n",
              "<p>107 rows × 6 columns</p>\n",
              "</div>"
            ],
            "text/plain": [
              "     occupation_number  ...  ingresos_mujeres\n",
              "0                   48  ...      13260.000000\n",
              "1                  101  ...       7020.000000\n",
              "2                  102  ...      18023.000000\n",
              "3                  103  ...      25266.666667\n",
              "4                  104  ...      14000.000000\n",
              "..                 ...  ...               ...\n",
              "102               9601  ...      10900.000000\n",
              "103               9602  ...       9304.325301\n",
              "104               9603  ...      22566.666667\n",
              "105               9609  ...       6700.000000\n",
              "106               9700  ...       5495.900990\n",
              "\n",
              "[107 rows x 6 columns]"
            ]
          },
          "metadata": {},
          "execution_count": 57
        }
      ]
    },
    {
      "cell_type": "code",
      "source": [
        "df_model['cantidad_trabajadores'] = df_model.apply(lambda x: x['hombres_trabajadores']+x['mujeres_trabajadores'], axis=1)\n",
        "df_model['hombres_ratio'] = df_model.apply(lambda x: x['hombres_trabajadores']/x['cantidad_trabajadores'], axis=1)\n",
        "df_model['mujeres_ratio'] = df_model.apply(lambda x: x['mujeres_trabajadores']/x['cantidad_trabajadores'], axis=1)\n",
        "df_model['ingresos_promedio_hym'] = df_model.apply(lambda x: (x['ingresos_hombres']+x['ingresos_mujeres'])/2, axis=1)\n",
        "df_model['ratio_ingresos'] = df_model.apply(lambda x: x['ingresos_mujeres']/x['ingresos_hombres'], axis=1)\n",
        "df_model['dif_ingresos'] = df_model.apply(lambda x: x['ingresos_hombres']-x['ingresos_mujeres'], axis=1)\n",
        "df_model['ratio_trabajadores'] = df_model.apply(lambda x: x['mujeres_trabajadores']/x['hombres_trabajadores'], axis=1)\n",
        "df_model.describe()"
      ],
      "metadata": {
        "colab": {
          "base_uri": "https://localhost:8080/",
          "height": 320
        },
        "id": "xmmKojVFHHhd",
        "outputId": "b5130bf3-0a76-4c4f-fa8c-0e6be4703dd8"
      },
      "execution_count": 58,
      "outputs": [
        {
          "output_type": "execute_result",
          "data": {
            "text/html": [
              "<div>\n",
              "<style scoped>\n",
              "    .dataframe tbody tr th:only-of-type {\n",
              "        vertical-align: middle;\n",
              "    }\n",
              "\n",
              "    .dataframe tbody tr th {\n",
              "        vertical-align: top;\n",
              "    }\n",
              "\n",
              "    .dataframe thead th {\n",
              "        text-align: right;\n",
              "    }\n",
              "</style>\n",
              "<table border=\"1\" class=\"dataframe\">\n",
              "  <thead>\n",
              "    <tr style=\"text-align: right;\">\n",
              "      <th></th>\n",
              "      <th>occupation_number</th>\n",
              "      <th>ingresos_promedio</th>\n",
              "      <th>hombres_trabajadores</th>\n",
              "      <th>ingresos_hombres</th>\n",
              "      <th>mujeres_trabajadores</th>\n",
              "      <th>ingresos_mujeres</th>\n",
              "      <th>cantidad_trabajadores</th>\n",
              "      <th>hombres_ratio</th>\n",
              "      <th>mujeres_ratio</th>\n",
              "      <th>ingresos_promedio_hym</th>\n",
              "      <th>ratio_ingresos</th>\n",
              "      <th>dif_ingresos</th>\n",
              "      <th>ratio_trabajadores</th>\n",
              "    </tr>\n",
              "  </thead>\n",
              "  <tbody>\n",
              "    <tr>\n",
              "      <th>count</th>\n",
              "      <td>107.000000</td>\n",
              "      <td>107.000000</td>\n",
              "      <td>107.000000</td>\n",
              "      <td>107.000000</td>\n",
              "      <td>107.000000</td>\n",
              "      <td>107.000000</td>\n",
              "      <td>107.000000</td>\n",
              "      <td>107.000000</td>\n",
              "      <td>107.000000</td>\n",
              "      <td>107.000000</td>\n",
              "      <td>107.000000</td>\n",
              "      <td>107.000000</td>\n",
              "      <td>107.000000</td>\n",
              "    </tr>\n",
              "    <tr>\n",
              "      <th>mean</th>\n",
              "      <td>5055.579439</td>\n",
              "      <td>18462.329482</td>\n",
              "      <td>38.626168</td>\n",
              "      <td>20338.850642</td>\n",
              "      <td>61.383178</td>\n",
              "      <td>15515.065165</td>\n",
              "      <td>100.009346</td>\n",
              "      <td>0.508339</td>\n",
              "      <td>0.491661</td>\n",
              "      <td>17926.957903</td>\n",
              "      <td>0.804377</td>\n",
              "      <td>4823.785477</td>\n",
              "      <td>5.780411</td>\n",
              "    </tr>\n",
              "    <tr>\n",
              "      <th>std</th>\n",
              "      <td>2964.465267</td>\n",
              "      <td>7034.795951</td>\n",
              "      <td>91.442066</td>\n",
              "      <td>8076.220778</td>\n",
              "      <td>169.212920</td>\n",
              "      <td>7717.611289</td>\n",
              "      <td>214.861100</td>\n",
              "      <td>0.249596</td>\n",
              "      <td>0.249596</td>\n",
              "      <td>6953.093330</td>\n",
              "      <td>0.392556</td>\n",
              "      <td>7496.112639</td>\n",
              "      <td>39.004047</td>\n",
              "    </tr>\n",
              "    <tr>\n",
              "      <th>min</th>\n",
              "      <td>48.000000</td>\n",
              "      <td>3876.923077</td>\n",
              "      <td>1.000000</td>\n",
              "      <td>3200.000000</td>\n",
              "      <td>2.000000</td>\n",
              "      <td>500.000000</td>\n",
              "      <td>3.000000</td>\n",
              "      <td>0.002469</td>\n",
              "      <td>0.022222</td>\n",
              "      <td>4347.950495</td>\n",
              "      <td>0.046059</td>\n",
              "      <td>-16000.000000</td>\n",
              "      <td>0.022727</td>\n",
              "    </tr>\n",
              "    <tr>\n",
              "      <th>25%</th>\n",
              "      <td>2450.000000</td>\n",
              "      <td>13656.854249</td>\n",
              "      <td>6.500000</td>\n",
              "      <td>15944.362745</td>\n",
              "      <td>4.000000</td>\n",
              "      <td>9971.061644</td>\n",
              "      <td>14.500000</td>\n",
              "      <td>0.333333</td>\n",
              "      <td>0.266667</td>\n",
              "      <td>13053.373016</td>\n",
              "      <td>0.581186</td>\n",
              "      <td>1289.204545</td>\n",
              "      <td>0.363636</td>\n",
              "    </tr>\n",
              "    <tr>\n",
              "      <th>50%</th>\n",
              "      <td>4903.000000</td>\n",
              "      <td>17571.428571</td>\n",
              "      <td>15.000000</td>\n",
              "      <td>19231.134831</td>\n",
              "      <td>8.000000</td>\n",
              "      <td>14666.666667</td>\n",
              "      <td>26.000000</td>\n",
              "      <td>0.500000</td>\n",
              "      <td>0.500000</td>\n",
              "      <td>17140.909091</td>\n",
              "      <td>0.739927</td>\n",
              "      <td>4583.333333</td>\n",
              "      <td>1.000000</td>\n",
              "    </tr>\n",
              "    <tr>\n",
              "      <th>75%</th>\n",
              "      <td>7650.000000</td>\n",
              "      <td>22280.833333</td>\n",
              "      <td>30.500000</td>\n",
              "      <td>24236.538462</td>\n",
              "      <td>39.000000</td>\n",
              "      <td>20250.591216</td>\n",
              "      <td>72.500000</td>\n",
              "      <td>0.733333</td>\n",
              "      <td>0.666667</td>\n",
              "      <td>21869.166667</td>\n",
              "      <td>0.921597</td>\n",
              "      <td>7486.029412</td>\n",
              "      <td>2.000000</td>\n",
              "    </tr>\n",
              "    <tr>\n",
              "      <th>max</th>\n",
              "      <td>9700.000000</td>\n",
              "      <td>36428.571429</td>\n",
              "      <td>777.000000</td>\n",
              "      <td>50000.000000</td>\n",
              "      <td>1212.000000</td>\n",
              "      <td>34000.000000</td>\n",
              "      <td>1215.000000</td>\n",
              "      <td>0.977778</td>\n",
              "      <td>0.997531</td>\n",
              "      <td>38750.000000</td>\n",
              "      <td>2.180000</td>\n",
              "      <td>30000.000000</td>\n",
              "      <td>404.000000</td>\n",
              "    </tr>\n",
              "  </tbody>\n",
              "</table>\n",
              "</div>"
            ],
            "text/plain": [
              "       occupation_number  ingresos_promedio  ...  dif_ingresos  ratio_trabajadores\n",
              "count         107.000000         107.000000  ...    107.000000          107.000000\n",
              "mean         5055.579439       18462.329482  ...   4823.785477            5.780411\n",
              "std          2964.465267        7034.795951  ...   7496.112639           39.004047\n",
              "min            48.000000        3876.923077  ... -16000.000000            0.022727\n",
              "25%          2450.000000       13656.854249  ...   1289.204545            0.363636\n",
              "50%          4903.000000       17571.428571  ...   4583.333333            1.000000\n",
              "75%          7650.000000       22280.833333  ...   7486.029412            2.000000\n",
              "max          9700.000000       36428.571429  ...  30000.000000          404.000000\n",
              "\n",
              "[8 rows x 13 columns]"
            ]
          },
          "metadata": {},
          "execution_count": 58
        }
      ]
    },
    {
      "cell_type": "markdown",
      "source": [
        "A continuación voy a agregar el último último atributo que me indica la probabilidad de contratar hombres o mujeres. Si 'ratio_trabajadores'> 1 existe una tendencia a contratar mujeres.\n",
        "\n",
        "Hombres = 0, Mujeres = 1."
      ],
      "metadata": {
        "id": "m8qOPBCpZbXx"
      }
    },
    {
      "cell_type": "code",
      "source": [
        "aux=[]\n",
        "for x in df_model['ratio_trabajadores']:\n",
        "    if x>1:\n",
        "        aux.append(1)\n",
        "    else:\n",
        "        aux.append(0)\n",
        "df_model['genero_prob']=aux\n",
        "df_model.describe()"
      ],
      "metadata": {
        "colab": {
          "base_uri": "https://localhost:8080/",
          "height": 320
        },
        "id": "hT1H_cM0HHev",
        "outputId": "a3ed6586-299d-4aa7-fc67-5b08dc31a501"
      },
      "execution_count": 59,
      "outputs": [
        {
          "output_type": "execute_result",
          "data": {
            "text/html": [
              "<div>\n",
              "<style scoped>\n",
              "    .dataframe tbody tr th:only-of-type {\n",
              "        vertical-align: middle;\n",
              "    }\n",
              "\n",
              "    .dataframe tbody tr th {\n",
              "        vertical-align: top;\n",
              "    }\n",
              "\n",
              "    .dataframe thead th {\n",
              "        text-align: right;\n",
              "    }\n",
              "</style>\n",
              "<table border=\"1\" class=\"dataframe\">\n",
              "  <thead>\n",
              "    <tr style=\"text-align: right;\">\n",
              "      <th></th>\n",
              "      <th>occupation_number</th>\n",
              "      <th>ingresos_promedio</th>\n",
              "      <th>hombres_trabajadores</th>\n",
              "      <th>ingresos_hombres</th>\n",
              "      <th>mujeres_trabajadores</th>\n",
              "      <th>ingresos_mujeres</th>\n",
              "      <th>cantidad_trabajadores</th>\n",
              "      <th>hombres_ratio</th>\n",
              "      <th>mujeres_ratio</th>\n",
              "      <th>ingresos_promedio_hym</th>\n",
              "      <th>ratio_ingresos</th>\n",
              "      <th>dif_ingresos</th>\n",
              "      <th>ratio_trabajadores</th>\n",
              "      <th>genero_prob</th>\n",
              "    </tr>\n",
              "  </thead>\n",
              "  <tbody>\n",
              "    <tr>\n",
              "      <th>count</th>\n",
              "      <td>107.000000</td>\n",
              "      <td>107.000000</td>\n",
              "      <td>107.000000</td>\n",
              "      <td>107.000000</td>\n",
              "      <td>107.000000</td>\n",
              "      <td>107.000000</td>\n",
              "      <td>107.000000</td>\n",
              "      <td>107.000000</td>\n",
              "      <td>107.000000</td>\n",
              "      <td>107.000000</td>\n",
              "      <td>107.000000</td>\n",
              "      <td>107.000000</td>\n",
              "      <td>107.000000</td>\n",
              "      <td>107.000000</td>\n",
              "    </tr>\n",
              "    <tr>\n",
              "      <th>mean</th>\n",
              "      <td>5055.579439</td>\n",
              "      <td>18462.329482</td>\n",
              "      <td>38.626168</td>\n",
              "      <td>20338.850642</td>\n",
              "      <td>61.383178</td>\n",
              "      <td>15515.065165</td>\n",
              "      <td>100.009346</td>\n",
              "      <td>0.508339</td>\n",
              "      <td>0.491661</td>\n",
              "      <td>17926.957903</td>\n",
              "      <td>0.804377</td>\n",
              "      <td>4823.785477</td>\n",
              "      <td>5.780411</td>\n",
              "      <td>0.485981</td>\n",
              "    </tr>\n",
              "    <tr>\n",
              "      <th>std</th>\n",
              "      <td>2964.465267</td>\n",
              "      <td>7034.795951</td>\n",
              "      <td>91.442066</td>\n",
              "      <td>8076.220778</td>\n",
              "      <td>169.212920</td>\n",
              "      <td>7717.611289</td>\n",
              "      <td>214.861100</td>\n",
              "      <td>0.249596</td>\n",
              "      <td>0.249596</td>\n",
              "      <td>6953.093330</td>\n",
              "      <td>0.392556</td>\n",
              "      <td>7496.112639</td>\n",
              "      <td>39.004047</td>\n",
              "      <td>0.502155</td>\n",
              "    </tr>\n",
              "    <tr>\n",
              "      <th>min</th>\n",
              "      <td>48.000000</td>\n",
              "      <td>3876.923077</td>\n",
              "      <td>1.000000</td>\n",
              "      <td>3200.000000</td>\n",
              "      <td>2.000000</td>\n",
              "      <td>500.000000</td>\n",
              "      <td>3.000000</td>\n",
              "      <td>0.002469</td>\n",
              "      <td>0.022222</td>\n",
              "      <td>4347.950495</td>\n",
              "      <td>0.046059</td>\n",
              "      <td>-16000.000000</td>\n",
              "      <td>0.022727</td>\n",
              "      <td>0.000000</td>\n",
              "    </tr>\n",
              "    <tr>\n",
              "      <th>25%</th>\n",
              "      <td>2450.000000</td>\n",
              "      <td>13656.854249</td>\n",
              "      <td>6.500000</td>\n",
              "      <td>15944.362745</td>\n",
              "      <td>4.000000</td>\n",
              "      <td>9971.061644</td>\n",
              "      <td>14.500000</td>\n",
              "      <td>0.333333</td>\n",
              "      <td>0.266667</td>\n",
              "      <td>13053.373016</td>\n",
              "      <td>0.581186</td>\n",
              "      <td>1289.204545</td>\n",
              "      <td>0.363636</td>\n",
              "      <td>0.000000</td>\n",
              "    </tr>\n",
              "    <tr>\n",
              "      <th>50%</th>\n",
              "      <td>4903.000000</td>\n",
              "      <td>17571.428571</td>\n",
              "      <td>15.000000</td>\n",
              "      <td>19231.134831</td>\n",
              "      <td>8.000000</td>\n",
              "      <td>14666.666667</td>\n",
              "      <td>26.000000</td>\n",
              "      <td>0.500000</td>\n",
              "      <td>0.500000</td>\n",
              "      <td>17140.909091</td>\n",
              "      <td>0.739927</td>\n",
              "      <td>4583.333333</td>\n",
              "      <td>1.000000</td>\n",
              "      <td>0.000000</td>\n",
              "    </tr>\n",
              "    <tr>\n",
              "      <th>75%</th>\n",
              "      <td>7650.000000</td>\n",
              "      <td>22280.833333</td>\n",
              "      <td>30.500000</td>\n",
              "      <td>24236.538462</td>\n",
              "      <td>39.000000</td>\n",
              "      <td>20250.591216</td>\n",
              "      <td>72.500000</td>\n",
              "      <td>0.733333</td>\n",
              "      <td>0.666667</td>\n",
              "      <td>21869.166667</td>\n",
              "      <td>0.921597</td>\n",
              "      <td>7486.029412</td>\n",
              "      <td>2.000000</td>\n",
              "      <td>1.000000</td>\n",
              "    </tr>\n",
              "    <tr>\n",
              "      <th>max</th>\n",
              "      <td>9700.000000</td>\n",
              "      <td>36428.571429</td>\n",
              "      <td>777.000000</td>\n",
              "      <td>50000.000000</td>\n",
              "      <td>1212.000000</td>\n",
              "      <td>34000.000000</td>\n",
              "      <td>1215.000000</td>\n",
              "      <td>0.977778</td>\n",
              "      <td>0.997531</td>\n",
              "      <td>38750.000000</td>\n",
              "      <td>2.180000</td>\n",
              "      <td>30000.000000</td>\n",
              "      <td>404.000000</td>\n",
              "      <td>1.000000</td>\n",
              "    </tr>\n",
              "  </tbody>\n",
              "</table>\n",
              "</div>"
            ],
            "text/plain": [
              "       occupation_number  ingresos_promedio  ...  ratio_trabajadores  genero_prob\n",
              "count         107.000000         107.000000  ...          107.000000   107.000000\n",
              "mean         5055.579439       18462.329482  ...            5.780411     0.485981\n",
              "std          2964.465267        7034.795951  ...           39.004047     0.502155\n",
              "min            48.000000        3876.923077  ...            0.022727     0.000000\n",
              "25%          2450.000000       13656.854249  ...            0.363636     0.000000\n",
              "50%          4903.000000       17571.428571  ...            1.000000     0.000000\n",
              "75%          7650.000000       22280.833333  ...            2.000000     1.000000\n",
              "max          9700.000000       36428.571429  ...          404.000000     1.000000\n",
              "\n",
              "[8 rows x 14 columns]"
            ]
          },
          "metadata": {},
          "execution_count": 59
        }
      ]
    },
    {
      "cell_type": "code",
      "source": [
        "plt.figure(figsize=(14,6))\n",
        "corr = abs(df_model.corr())\n",
        "sns.heatmap(corr, annot=True, linewidth=1, cmap='Blues')"
      ],
      "metadata": {
        "colab": {
          "base_uri": "https://localhost:8080/",
          "height": 506
        },
        "id": "LUKxIaXLdh39",
        "outputId": "77cb1273-87ed-43d3-fb08-22a56906f5e2"
      },
      "execution_count": 60,
      "outputs": [
        {
          "output_type": "execute_result",
          "data": {
            "text/plain": [
              "<matplotlib.axes._subplots.AxesSubplot at 0x7fc4757d59d0>"
            ]
          },
          "metadata": {},
          "execution_count": 60
        },
        {
          "output_type": "display_data",
          "data": {
            "image/png": "[encoded data removed]",
            "text/plain": [
              "<Figure size 1008x432 with 2 Axes>"
            ]
          },
          "metadata": {
            "needs_background": "light"
          }
        }
      ]
    },
    {
      "cell_type": "markdown",
      "source": [
        "## **K-means Clustering**\n",
        "\n",
        "Aplicaré este modelo para segmentar en clusters los ingresos de los hombres y mujeres y ver cuántas personas caen en cada cluster. \n"
      ],
      "metadata": {
        "id": "3QB2OeNeajlN"
      }
    },
    {
      "cell_type": "code",
      "source": [
        "males_clustering = df_model[['occupation_number','ingresos_hombres']]"
      ],
      "metadata": {
        "id": "8AcWVD-ogUwL"
      },
      "execution_count": 61,
      "outputs": []
    },
    {
      "cell_type": "markdown",
      "source": [
        "Comienzo aplicando la \"regla del codo\" para ver si hay un número óptimo de clusters. Mediante este método heurístico el número óptimo se determina cuando la curva decreciente \"Inercia\" vs \"Número de clusters\" deja de descender tan bruscamente."
      ],
      "metadata": {
        "id": "uH-LOM67gUEN"
      }
    },
    {
      "cell_type": "code",
      "source": [
        "from sklearn.cluster import KMeans\n",
        "\n",
        "inercia = []\n",
        "\n",
        "for i in range(1,20):\n",
        "  kmeans = KMeans(init=\"k-means++\", n_clusters=i, n_init=5,random_state=0)\n",
        "  kmeans.fit(males_clustering)\n",
        "  inercia.append(kmeans.inertia_)\n",
        "\n",
        "plt.figure(figsize=(12, 8))\n",
        "plt.plot(range(1,20),inercia, marker=\"o\")\n",
        "plt.title('Regla del codo')\n",
        "plt.xlabel('Número de clusters')\n",
        "plt.ylabel('Inercia')\n",
        "plt.show()"
      ],
      "metadata": {
        "colab": {
          "base_uri": "https://localhost:8080/",
          "height": 513
        },
        "id": "5dCX0yw5HHap",
        "outputId": "116d2d66-a824-4872-b872-7f9d89ed1900"
      },
      "execution_count": 62,
      "outputs": [
        {
          "output_type": "display_data",
          "data": {
            "image/png": "[encoded data removed]",
            "text/plain": [
              "<Figure size 864x576 with 1 Axes>"
            ]
          },
          "metadata": {
            "needs_background": "light"
          }
        }
      ]
    },
    {
      "cell_type": "markdown",
      "source": [
        "Vemos que el quiebre de la curva se presenta en 4. Entonces procedo ahora a aplicar kmeans para 4 clusters y observar cómo se forman."
      ],
      "metadata": {
        "id": "StMUSmkse-ct"
      }
    },
    {
      "cell_type": "code",
      "source": [
        "from matplotlib.colors import ListedColormap\n",
        "\n",
        "kmeans = KMeans(init=\"k-means++\", n_clusters=4, n_init=5, random_state=0)\n",
        "kmeans.fit(males_clustering)\n",
        "\n",
        "plt.figure(figsize=(10, 8))\n",
        "\n",
        "cmap_scatter = ListedColormap(['red', 'darkblue', 'green', 'yellow'])\n",
        "\n",
        "plt.scatter(np.array(males_clustering.occupation_number),np.array(males_clustering.ingresos_hombres), c=kmeans.labels_, cmap=cmap_scatter)\n",
        "plt.colorbar(ticks=[0, 1, 2, 3])\n",
        "plt.grid(color='lightgray', linestyle='-', linewidth=1)\n",
        "plt.title('Clustering Ingresos Hombres')\n",
        "plt.xlabel('Occupation number')\n",
        "plt.ylabel('Ingresos')\n",
        "plt.show()"
      ],
      "metadata": {
        "colab": {
          "base_uri": "https://localhost:8080/",
          "height": 513
        },
        "id": "4r0b_W77HHWo",
        "outputId": "5270454d-4e01-42b2-863c-a8d2557cea8b"
      },
      "execution_count": 63,
      "outputs": [
        {
          "output_type": "display_data",
          "data": {
            "image/png": "[encoded data removed]",
            "text/plain": [
              "<Figure size 720x576 with 2 Axes>"
            ]
          },
          "metadata": {
            "needs_background": "light"
          }
        }
      ]
    },
    {
      "cell_type": "markdown",
      "source": [
        "Observamos que tenemos 3 clusters bien definidos y separados por una línea salarial, y un 4to cluster con 4 puntos que representa la clase salarial más alta. Observemos lo mismo para el caso de las mujeres"
      ],
      "metadata": {
        "id": "QiVs8B6WhF2_"
      }
    },
    {
      "cell_type": "code",
      "source": [
        "females_clustering = df_model[['occupation_number','ingresos_mujeres']]\n",
        "\n",
        "inercia = []\n",
        "\n",
        "for i in range(1,20):\n",
        "  kmeans = KMeans(init=\"k-means++\", n_clusters=i, n_init=5,random_state=0)\n",
        "  kmeans.fit(females_clustering)\n",
        "  inercia.append(kmeans.inertia_)\n",
        "\n",
        "plt.figure(figsize=(12, 8))\n",
        "plt.plot(range(1,20),inercia, marker=\"o\")\n",
        "plt.title('Regla del codo')\n",
        "plt.xlabel('Número de clusters')\n",
        "plt.ylabel('Inercia')\n",
        "plt.show()"
      ],
      "metadata": {
        "colab": {
          "base_uri": "https://localhost:8080/",
          "height": 513
        },
        "id": "MPIDFUSGHHUc",
        "outputId": "9563528b-8dc5-47ca-fb6d-2d9d35cd2533"
      },
      "execution_count": 64,
      "outputs": [
        {
          "output_type": "display_data",
          "data": {
            "image/png": "[encoded data removed]",
            "text/plain": [
              "<Figure size 864x576 with 1 Axes>"
            ]
          },
          "metadata": {
            "needs_background": "light"
          }
        }
      ]
    },
    {
      "cell_type": "code",
      "source": [
        "kmeans = KMeans(init=\"k-means++\", n_clusters=4, n_init=5, random_state=0)\n",
        "kmeans.fit(females_clustering)\n",
        "\n",
        "plt.figure(figsize=(10, 8))\n",
        "\n",
        "cmap_scatter = ListedColormap(['red', 'darkblue', 'green', 'yellow'])\n",
        "\n",
        "plt.scatter(np.array(females_clustering.occupation_number),np.array(females_clustering.ingresos_mujeres), c=kmeans.labels_, cmap=cmap_scatter)\n",
        "plt.colorbar(ticks=[0, 1, 2, 3])\n",
        "plt.grid(color='lightgray', linestyle='-', linewidth=1)\n",
        "plt.title('Clustering Ingresos Mujeres')\n",
        "plt.xlabel('Occupation number')\n",
        "plt.ylabel('Ingresos')\n",
        "plt.show()"
      ],
      "metadata": {
        "colab": {
          "base_uri": "https://localhost:8080/",
          "height": 513
        },
        "id": "-zo0KwBaHHSH",
        "outputId": "aafd2754-155b-4860-99c9-9c9ff130e973"
      },
      "execution_count": 65,
      "outputs": [
        {
          "output_type": "display_data",
          "data": {
            "image/png": "[encoded data removed]",
            "text/plain": [
              "<Figure size 720x576 with 2 Axes>"
            ]
          },
          "metadata": {
            "needs_background": "light"
          }
        }
      ]
    },
    {
      "cell_type": "markdown",
      "source": [
        "En este caso tenemos clusters más parejos y las divisiones entre clusters se producen para salarios más chicos que en el caso de los hombres, lo que da un indicio de la disparidad de ingresos."
      ],
      "metadata": {
        "id": "PVNSlYlMiO59"
      }
    },
    {
      "cell_type": "markdown",
      "source": [
        "## **Knn Classification**\n",
        "\n",
        "A continuación voy a utilizar los atributos 'mujeres_ratio' (cantidad de mujeres en un trabajo sobre la cantidad total de trabajadores) y 'dif_ingresos' (ingresos promedio de los hombres - mujeres) para clasificar la probabilidad de contratar a hombres o mujeres. Podría utilizar 'ratio_ingresos' pero lo utilicé para calcular 'genero_prob' que va a ser mi atributo target, por lo tanto sería redundante."
      ],
      "metadata": {
        "id": "-1JdWYlIkwZf"
      }
    },
    {
      "cell_type": "code",
      "source": [
        "df_class = df_model[['mujeres_ratio','dif_ingresos','genero_prob']]\n",
        "df_class.describe()"
      ],
      "metadata": {
        "colab": {
          "base_uri": "https://localhost:8080/",
          "height": 300
        },
        "id": "kV3ea8xrlg9u",
        "outputId": "654499d2-d1fb-477b-cc5d-88205a18604f"
      },
      "execution_count": 66,
      "outputs": [
        {
          "output_type": "execute_result",
          "data": {
            "text/html": [
              "<div>\n",
              "<style scoped>\n",
              "    .dataframe tbody tr th:only-of-type {\n",
              "        vertical-align: middle;\n",
              "    }\n",
              "\n",
              "    .dataframe tbody tr th {\n",
              "        vertical-align: top;\n",
              "    }\n",
              "\n",
              "    .dataframe thead th {\n",
              "        text-align: right;\n",
              "    }\n",
              "</style>\n",
              "<table border=\"1\" class=\"dataframe\">\n",
              "  <thead>\n",
              "    <tr style=\"text-align: right;\">\n",
              "      <th></th>\n",
              "      <th>mujeres_ratio</th>\n",
              "      <th>dif_ingresos</th>\n",
              "      <th>genero_prob</th>\n",
              "    </tr>\n",
              "  </thead>\n",
              "  <tbody>\n",
              "    <tr>\n",
              "      <th>count</th>\n",
              "      <td>107.000000</td>\n",
              "      <td>107.000000</td>\n",
              "      <td>107.000000</td>\n",
              "    </tr>\n",
              "    <tr>\n",
              "      <th>mean</th>\n",
              "      <td>0.491661</td>\n",
              "      <td>4823.785477</td>\n",
              "      <td>0.485981</td>\n",
              "    </tr>\n",
              "    <tr>\n",
              "      <th>std</th>\n",
              "      <td>0.249596</td>\n",
              "      <td>7496.112639</td>\n",
              "      <td>0.502155</td>\n",
              "    </tr>\n",
              "    <tr>\n",
              "      <th>min</th>\n",
              "      <td>0.022222</td>\n",
              "      <td>-16000.000000</td>\n",
              "      <td>0.000000</td>\n",
              "    </tr>\n",
              "    <tr>\n",
              "      <th>25%</th>\n",
              "      <td>0.266667</td>\n",
              "      <td>1289.204545</td>\n",
              "      <td>0.000000</td>\n",
              "    </tr>\n",
              "    <tr>\n",
              "      <th>50%</th>\n",
              "      <td>0.500000</td>\n",
              "      <td>4583.333333</td>\n",
              "      <td>0.000000</td>\n",
              "    </tr>\n",
              "    <tr>\n",
              "      <th>75%</th>\n",
              "      <td>0.666667</td>\n",
              "      <td>7486.029412</td>\n",
              "      <td>1.000000</td>\n",
              "    </tr>\n",
              "    <tr>\n",
              "      <th>max</th>\n",
              "      <td>0.997531</td>\n",
              "      <td>30000.000000</td>\n",
              "      <td>1.000000</td>\n",
              "    </tr>\n",
              "  </tbody>\n",
              "</table>\n",
              "</div>"
            ],
            "text/plain": [
              "       mujeres_ratio  dif_ingresos  genero_prob\n",
              "count     107.000000    107.000000   107.000000\n",
              "mean        0.491661   4823.785477     0.485981\n",
              "std         0.249596   7496.112639     0.502155\n",
              "min         0.022222 -16000.000000     0.000000\n",
              "25%         0.266667   1289.204545     0.000000\n",
              "50%         0.500000   4583.333333     0.000000\n",
              "75%         0.666667   7486.029412     1.000000\n",
              "max         0.997531  30000.000000     1.000000"
            ]
          },
          "metadata": {},
          "execution_count": 66
        }
      ]
    },
    {
      "cell_type": "markdown",
      "source": [
        "Procedo a estandarizar los datos dado que están a escalas diferentes."
      ],
      "metadata": {
        "id": "vqclsN2qkwW5"
      }
    },
    {
      "cell_type": "code",
      "source": [
        "y = np.array(df_class['genero_prob'])\n",
        "\n",
        "x = np.array(df_class.drop(columns='genero_prob'))\n",
        "\n",
        "from sklearn.preprocessing import StandardScaler\n",
        "\n",
        "scaler = StandardScaler()\n",
        "\n",
        "scaler.fit(x)\n",
        "x = scaler.transform(x)\n",
        "\n",
        "x.shape, y.shape"
      ],
      "metadata": {
        "colab": {
          "base_uri": "https://localhost:8080/"
        },
        "id": "LynJ8YZBmyWn",
        "outputId": "ee8c863c-ac11-4fa3-abb0-7341f3728f2e"
      },
      "execution_count": 67,
      "outputs": [
        {
          "output_type": "execute_result",
          "data": {
            "text/plain": [
              "((107, 2), (107,))"
            ]
          },
          "metadata": {},
          "execution_count": 67
        }
      ]
    },
    {
      "cell_type": "code",
      "source": [
        "# Separo entre train y validation data\n",
        "from sklearn.model_selection import train_test_split\n",
        "\n",
        "x_train, x_test, y_train, y_test = train_test_split(x, y, train_size=0.80, random_state=0)\n",
        "x_train.shape, y_train.shape"
      ],
      "metadata": {
        "colab": {
          "base_uri": "https://localhost:8080/"
        },
        "id": "4YUd4WM9ne6I",
        "outputId": "805aab94-7c3f-41f9-916a-bee376a26bc4"
      },
      "execution_count": 68,
      "outputs": [
        {
          "output_type": "execute_result",
          "data": {
            "text/plain": [
              "((85, 2), (85,))"
            ]
          },
          "metadata": {},
          "execution_count": 68
        }
      ]
    },
    {
      "cell_type": "code",
      "source": [
        "# Entreno el clasificador\n",
        "from sklearn import neighbors\n",
        "\n",
        "k_vecinos = 10  # Número de vecino a considerar (Elijo sqrt(N))\n",
        "\n",
        "knn = neighbors.KNeighborsClassifier(n_neighbors=k_vecinos) #Por ahora utilizo estos valores. Luego puedo hacer un grid search.\n",
        "knn.fit(x_train,y_train)\n",
        "\n",
        "# Calculo las predicciones con los datos que guardé para validar\n",
        "y_pred = knn.predict(x_test)"
      ],
      "metadata": {
        "id": "wRhTs_pUnpbf"
      },
      "execution_count": 69,
      "outputs": []
    },
    {
      "cell_type": "code",
      "source": [
        "# Calculo los parámetros de evaluación\n",
        "from sklearn import metrics\n",
        "\n",
        "accuracy = metrics.accuracy_score(y_test, y_pred)\n",
        "precision = metrics.precision_score(y_test, y_pred)\n",
        "f_measure = metrics.f1_score(y_test, y_pred)\n",
        "\n",
        "print('Accuracy = ', round(accuracy,3),'Precision = ', round(precision,3),'F_measure = ', round(f_measure,3))"
      ],
      "metadata": {
        "colab": {
          "base_uri": "https://localhost:8080/"
        },
        "id": "TLIkY049n6fP",
        "outputId": "92118bd5-a8a8-4521-bb18-f663291df480"
      },
      "execution_count": 70,
      "outputs": [
        {
          "output_type": "stream",
          "name": "stdout",
          "text": [
            "Accuracy =  0.955 Precision =  0.923 F_measure =  0.96\n"
          ]
        }
      ]
    },
    {
      "cell_type": "markdown",
      "source": [
        "Los parámetros de evaluación que obtengo son bastante satisfactorios. Observemos la matriz de confusión."
      ],
      "metadata": {
        "id": "YUB5Wzo0kwSM"
      }
    },
    {
      "cell_type": "code",
      "source": [
        "disp = metrics.plot_confusion_matrix(knn, x_test, y_test, cmap='inferno')\n",
        "disp.figure_.suptitle(\"Confusion Matrix\")\n",
        "print(\"Confusion matrix:\\n%s\" % disp.confusion_matrix)"
      ],
      "metadata": {
        "colab": {
          "base_uri": "https://localhost:8080/",
          "height": 360
        },
        "id": "vVY9UAB2i5D8",
        "outputId": "14fc7b6e-6802-42b5-be0c-daba6760fa71"
      },
      "execution_count": 71,
      "outputs": [
        {
          "output_type": "stream",
          "name": "stdout",
          "text": [
            "Confusion matrix:\n",
            "[[ 9  1]\n",
            " [ 0 12]]\n"
          ]
        },
        {
          "output_type": "display_data",
          "data": {
            "image/png": "[encoded data removed]",
            "text/plain": [
              "<Figure size 432x288 with 2 Axes>"
            ]
          },
          "metadata": {
            "needs_background": "light"
          }
        }
      ]
    },
    {
      "cell_type": "markdown",
      "source": [
        "Se ve claramente la alta precisión y exactitud del modelo. Hay un sólo dato falso, en este caso un falso positivo.\n",
        "\n",
        "Este clasificador puede servir para alentar a un equilibrio entre hombres y mujeres en un mismo trabajo. En función de la cantidad de mujeres sobre el total de trabajadores y la diferencia de salario que presenten respecto de los hombres, el clasificador me dice si debería contratar una mujer o un hombre.\n",
        "\n",
        "Si el clasificador me indica que contrate un hombre, esto puede deberse a que se trata de un trabajo con mayoría de hombres y sueldos más altos. Entonces uno podría hacer caso omiso y contratar una mujer para compensar el desequilibrio. Incluso se podría construir el clasificador inverso cuya ayuda sea directa y uno no tenga que deducirla, simplemente invirtiendo las clases en el dataset."
      ],
      "metadata": {
        "id": "mfpsXbxFocuR"
      }
    },
    {
      "cell_type": "markdown",
      "source": [
        "## **Regresión Lineal**\n",
        "\n",
        "A continuación voy a realizar un modelo simple de regresión lineal que me intente predecir el salario de los hombres y mujeres en función del salario promedio total, y en función de los coeficientes que obtenga distinguir el gap salarial."
      ],
      "metadata": {
        "id": "k-YCDap_qhB-"
      }
    },
    {
      "cell_type": "code",
      "source": [
        "df_reg = df_model[['ingresos_hombres','ingresos_mujeres','ingresos_promedio']]\n",
        "df_reg.describe()"
      ],
      "metadata": {
        "colab": {
          "base_uri": "https://localhost:8080/",
          "height": 300
        },
        "id": "X-0Ngr8Qi5Be",
        "outputId": "03173ca0-6403-47ca-890f-a14b7393424f"
      },
      "execution_count": 72,
      "outputs": [
        {
          "output_type": "execute_result",
          "data": {
            "text/html": [
              "<div>\n",
              "<style scoped>\n",
              "    .dataframe tbody tr th:only-of-type {\n",
              "        vertical-align: middle;\n",
              "    }\n",
              "\n",
              "    .dataframe tbody tr th {\n",
              "        vertical-align: top;\n",
              "    }\n",
              "\n",
              "    .dataframe thead th {\n",
              "        text-align: right;\n",
              "    }\n",
              "</style>\n",
              "<table border=\"1\" class=\"dataframe\">\n",
              "  <thead>\n",
              "    <tr style=\"text-align: right;\">\n",
              "      <th></th>\n",
              "      <th>ingresos_hombres</th>\n",
              "      <th>ingresos_mujeres</th>\n",
              "      <th>ingresos_promedio</th>\n",
              "    </tr>\n",
              "  </thead>\n",
              "  <tbody>\n",
              "    <tr>\n",
              "      <th>count</th>\n",
              "      <td>107.000000</td>\n",
              "      <td>107.000000</td>\n",
              "      <td>107.000000</td>\n",
              "    </tr>\n",
              "    <tr>\n",
              "      <th>mean</th>\n",
              "      <td>20338.850642</td>\n",
              "      <td>15515.065165</td>\n",
              "      <td>18462.329482</td>\n",
              "    </tr>\n",
              "    <tr>\n",
              "      <th>std</th>\n",
              "      <td>8076.220778</td>\n",
              "      <td>7717.611289</td>\n",
              "      <td>7034.795951</td>\n",
              "    </tr>\n",
              "    <tr>\n",
              "      <th>min</th>\n",
              "      <td>3200.000000</td>\n",
              "      <td>500.000000</td>\n",
              "      <td>3876.923077</td>\n",
              "    </tr>\n",
              "    <tr>\n",
              "      <th>25%</th>\n",
              "      <td>15944.362745</td>\n",
              "      <td>9971.061644</td>\n",
              "      <td>13656.854249</td>\n",
              "    </tr>\n",
              "    <tr>\n",
              "      <th>50%</th>\n",
              "      <td>19231.134831</td>\n",
              "      <td>14666.666667</td>\n",
              "      <td>17571.428571</td>\n",
              "    </tr>\n",
              "    <tr>\n",
              "      <th>75%</th>\n",
              "      <td>24236.538462</td>\n",
              "      <td>20250.591216</td>\n",
              "      <td>22280.833333</td>\n",
              "    </tr>\n",
              "    <tr>\n",
              "      <th>max</th>\n",
              "      <td>50000.000000</td>\n",
              "      <td>34000.000000</td>\n",
              "      <td>36428.571429</td>\n",
              "    </tr>\n",
              "  </tbody>\n",
              "</table>\n",
              "</div>"
            ],
            "text/plain": [
              "       ingresos_hombres  ingresos_mujeres  ingresos_promedio\n",
              "count        107.000000        107.000000         107.000000\n",
              "mean       20338.850642      15515.065165       18462.329482\n",
              "std         8076.220778       7717.611289        7034.795951\n",
              "min         3200.000000        500.000000        3876.923077\n",
              "25%        15944.362745       9971.061644       13656.854249\n",
              "50%        19231.134831      14666.666667       17571.428571\n",
              "75%        24236.538462      20250.591216       22280.833333\n",
              "max        50000.000000      34000.000000       36428.571429"
            ]
          },
          "metadata": {},
          "execution_count": 72
        }
      ]
    },
    {
      "cell_type": "code",
      "source": [
        "plt.figure(figsize=(8,4))\n",
        "corr = abs(df_reg.corr())\n",
        "sns.heatmap(corr, annot=True, linewidth=1, cmap='Blues')"
      ],
      "metadata": {
        "colab": {
          "base_uri": "https://localhost:8080/",
          "height": 287
        },
        "id": "RYtyuf5wuCfr",
        "outputId": "ff179bac-e95f-4c0f-a745-8c2828ac8060"
      },
      "execution_count": 73,
      "outputs": [
        {
          "output_type": "execute_result",
          "data": {
            "text/plain": [
              "<matplotlib.axes._subplots.AxesSubplot at 0x7fc46c7a1710>"
            ]
          },
          "metadata": {},
          "execution_count": 73
        },
        {
          "output_type": "display_data",
          "data": {
            "image/png": "[encoded data removed]",
            "text/plain": [
              "<Figure size 576x288 with 2 Axes>"
            ]
          },
          "metadata": {
            "needs_background": "light"
          }
        }
      ]
    },
    {
      "cell_type": "code",
      "source": [
        "y = np.array(df_reg['ingresos_hombres'])\n",
        "\n",
        "from sklearn.preprocessing import StandardScaler\n",
        "\n",
        "scaler = StandardScaler()\n",
        "\n",
        "x=np.array(df_reg['ingresos_promedio']).reshape(-1,1)\n",
        "\n",
        "scaler.fit(x)\n",
        "x = scaler.transform(x)"
      ],
      "metadata": {
        "id": "_O1vNOByi4_K"
      },
      "execution_count": 74,
      "outputs": []
    },
    {
      "cell_type": "code",
      "source": [
        "from sklearn.model_selection import train_test_split\n",
        "\n",
        "x_train, x_test, y_train, y_test = train_test_split(x, y, test_size = 0.2, random_state = 0)"
      ],
      "metadata": {
        "id": "A7knSmb_i481"
      },
      "execution_count": 75,
      "outputs": []
    },
    {
      "cell_type": "code",
      "source": [
        "from sklearn.linear_model import LinearRegression\n",
        "\n",
        "linear_regressor = LinearRegression()\n",
        "linear_regressor.fit(x_train, y_train)\n",
        "linear_train_score = linear_regressor.score(x_train,y_train)\n",
        "\n",
        "y_pred=linear_regressor.predict(x_test)\n",
        "\n",
        "print('Pendiente:  :', linear_regressor.coef_[0])\n",
        "#print('Model intercept :', linear_regressor.intercept_)\n",
        "#print('Regression Line . :',linear_regressor.coef_[0],'* x + ',linear_regressor.intercept_ )\n",
        "print('R^2 train :',linear_regressor.score(x_train,y_train))\n",
        "print('R^2 test :',linear_regressor.score(x_test,y_test))\n",
        "#print(linear_regressor.coef_)\n",
        "\n",
        "accuracy=linear_regressor.score(x_test,y_test)\n",
        "print('La precisión del modelo es: ',round(accuracy*100,2),'%')\n",
        "\n",
        "plt.scatter(x_train, y_train, color='red')\n",
        "plt.plot(x_train, linear_regressor.predict(x_train), color='blue')\n",
        "plt.title('Training set')\n",
        "plt.ylabel('Ingresos hombres ')\n",
        "plt.xlabel('Ingresos promedio total')\n",
        "plt.show()\n",
        "\n",
        "plt.scatter(x_test, y_test, color='red')\n",
        "plt.plot(x_test, linear_regressor.predict(x_test), color='blue')\n",
        "plt.title('Test set')\n",
        "plt.ylabel('Ingresos hombres ')\n",
        "plt.xlabel('Ingresos promedio total ')\n",
        "plt.show()"
      ],
      "metadata": {
        "colab": {
          "base_uri": "https://localhost:8080/",
          "height": 642
        },
        "id": "mzMuzt0_i46k",
        "outputId": "d4e7ef0c-0cb6-4ebb-d82e-66ffdffd5ad2"
      },
      "execution_count": 76,
      "outputs": [
        {
          "output_type": "stream",
          "name": "stdout",
          "text": [
            "Pendiente:  : 6857.206714670658\n",
            "R^2 train : 0.8355004083972343\n",
            "R^2 test : 0.8138853819710286\n",
            "La precisión del modelo es:  81.39 %\n"
          ]
        },
        {
          "output_type": "display_data",
          "data": {
            "image/png": "[encoded data removed]",
            "text/plain": [
              "<Figure size 432x288 with 1 Axes>"
            ]
          },
          "metadata": {
            "needs_background": "light"
          }
        },
        {
          "output_type": "display_data",
          "data": {
            "image/png": "[encoded data removed]",
            "text/plain": [
              "<Figure size 432x288 with 1 Axes>"
            ]
          },
          "metadata": {
            "needs_background": "light"
          }
        }
      ]
    },
    {
      "cell_type": "code",
      "source": [
        "y = np.array(df_reg['ingresos_mujeres'])\n",
        "\n",
        "x_train, x_test, y_train, y_test = train_test_split(x, y, test_size = 0.2, random_state = 0)\n",
        "\n",
        "linear_regressor.fit(x_train, y_train)\n",
        "linear_train_score = linear_regressor.score(x_train,y_train)\n",
        "\n",
        "y_pred=linear_regressor.predict(x_test)\n",
        "\n",
        "print('Pendiente:  :', linear_regressor.coef_[0])\n",
        "#print('Model intercept :', linear_regressor.intercept_)\n",
        "#print('Regression Line . :',linear_regressor.coef_[0],'* x + ',linear_regressor.intercept_ )\n",
        "print('R^2 train :',linear_regressor.score(x_train,y_train))\n",
        "print('R^2 test :',linear_regressor.score(x_test,y_test))\n",
        "#print(linear_regressor.coef_)\n",
        "\n",
        "accuracy=linear_regressor.score(x_test,y_test)\n",
        "print('La precisión del modelo es: ',round(accuracy*100,2),'%')\n",
        "\n",
        "plt.scatter(x_train, y_train, color='red')\n",
        "plt.plot(x_train, linear_regressor.predict(x_train), color='blue')\n",
        "plt.title('Training set')\n",
        "plt.ylabel('Ingresos mujeres ')\n",
        "plt.xlabel('Ingresos promedio total')\n",
        "plt.show()\n",
        "\n",
        "plt.scatter(x_test, y_test, color='red')\n",
        "plt.plot(x_test, linear_regressor.predict(x_test), color='blue')\n",
        "plt.title('Test set')\n",
        "plt.ylabel('Ingresos mujeres ')\n",
        "plt.xlabel('Ingresos promedio total ')\n",
        "plt.show()"
      ],
      "metadata": {
        "colab": {
          "base_uri": "https://localhost:8080/",
          "height": 642
        },
        "id": "3waPGbc5i431",
        "outputId": "1c46f57d-7e86-4db6-8999-875c7a1522f6"
      },
      "execution_count": 77,
      "outputs": [
        {
          "output_type": "stream",
          "name": "stdout",
          "text": [
            "Pendiente:  : 5470.835253748136\n",
            "R^2 train : 0.4754973178389593\n",
            "R^2 test : 0.6416315050801094\n",
            "La precisión del modelo es:  64.16 %\n"
          ]
        },
        {
          "output_type": "display_data",
          "data": {
            "image/png": "[encoded data removed]",
            "text/plain": [
              "<Figure size 432x288 with 1 Axes>"
            ]
          },
          "metadata": {
            "needs_background": "light"
          }
        },
        {
          "output_type": "display_data",
          "data": {
            "image/png": "[encoded data removed]",
            "text/plain": [
              "<Figure size 432x288 with 1 Axes>"
            ]
          },
          "metadata": {
            "needs_background": "light"
          }
        }
      ]
    },
    {
      "cell_type": "markdown",
      "source": [
        "Observamos que el modelo de regresión lineal arroja una mejor precisión en el caso de los ingresos de los hombres (81% vs 64%). Esto puede deberse a que los ingresos de las mujeres presentan una mayor dispersión de los datos.\n",
        "\n",
        "Además la pendiente para el caso de los hombres es de 6857 y la de las mujeres es de 5470. Esto indica algo que habíamos observado antes: los salarios de los hombres son mayores que los de las mujeres cuanto más alto sea el salario promedio.\n",
        "\n",
        "Este regresor también puede ayudar a reducir la brecha salarial, ya que nos predice cuánto debería ganar una mujer o un hombre dependiendo del sueldo promedio en el trabajo correspondiente. En base al número que arroje el regresor, para el caso que se quiera contratar una mujer, uno podría aumentarlo para reducir el gap salarial con los hombres."
      ],
      "metadata": {
        "id": "F23dRhNlzmSm"
      }
    },
    {
      "cell_type": "markdown",
      "source": [
        "## **Conclusiones**\n",
        "\n",
        "En función de la ultima Encuesta Nacional a trabajadores sobre Condiciones de Empleo, Trabajo, Salud y Seguridad (ECETSS 2018), estudiamos la diferencia salarial entre hombres y mujeres en el ámbito laboral.\n",
        "\n",
        "En primer lugar, mostramos un sesgo hacia la derecha de los salarios masculinos respecto de los femeninos indicando una diferencia salarial real, más allá del sector en el que se desempeñen.\n",
        "\n",
        "En segundo lugar, analizamos la diferencia salarial por sector, encontrando que en \"Trabajo Doméstico\" las mujeres superan ampliamente el salario de los hombres. Sin embargo, este es el único sector laboral donde ocurre (según el clasificador del CAES). En el resto de sectores el salario es menor ganando casi apenas más de la mitad en la industria manufacturera, por ejemplo.\n",
        "\n",
        "Luego, pudimos observar ocupación por ocupación, distinguiendo en cuáles la diferencia salarial es más amplia y en cuáles es favorable a las mujeres. Observando las ocupaciones mejor y peor pagas, se pudo ver que las mujeres tienden a ganar menos que los hombres en las mejor pagas y más en las peor pagas. \n",
        "\n",
        "Además, vimos que a medida que aumenta el sueldo promedio de los trabajadores, la diferencia salarial entre hombres y mujeres es más grande.\n",
        "\n",
        "Por último, a través de modelos simples de clasificación y regresión lineal se presentaron algunas ideas para reducir esta brecha salarial."
      ],
      "metadata": {
        "id": "O5WXj1L01Ueq"
      }
    },
    {
      "cell_type": "code",
      "source": [
        ""
      ],
      "metadata": {
        "id": "M65XRYftwoaH"
      },
      "execution_count": null,
      "outputs": []
    }
  ]
}